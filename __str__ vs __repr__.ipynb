{
 "cells": [
  {
   "cell_type": "code",
   "execution_count": 1,
   "id": "1aed2462-10e6-4f87-904c-912ae4f92c24",
   "metadata": {},
   "outputs": [
    {
     "data": {
      "text/plain": [
       "'Reuven'"
      ]
     },
     "execution_count": 1,
     "metadata": {},
     "output_type": "execute_result"
    }
   ],
   "source": [
    "class Person:\n",
    "    def __init__(self, name):\n",
    "        self.name = name\n",
    "\n",
    "p = Person('Reuven')\n",
    "p.name"
   ]
  },
  {
   "cell_type": "code",
   "execution_count": 2,
   "id": "c352760c-0757-44db-bc4e-b2a497d1ede3",
   "metadata": {},
   "outputs": [
    {
     "name": "stdout",
     "output_type": "stream",
     "text": [
      "<__main__.Person object at 0x10da52e40>\n"
     ]
    }
   ],
   "source": [
    "print(p)"
   ]
  },
  {
   "cell_type": "code",
   "execution_count": 3,
   "id": "622643ce-0a41-457c-b539-395028762722",
   "metadata": {},
   "outputs": [],
   "source": [
    "# when we invoke print(p)\n",
    "\n",
    "# print(p) -> print(str(p))\n",
    "# that invokes p.__str__() \n",
    "# Python asks p -- do you have a __str__ attribute? NO\n",
    "# Python asks p's class (Person) -- do you have a __str__ attribute? NO\n",
    "# Python asks object -- do you have __str__? YES"
   ]
  },
  {
   "cell_type": "code",
   "execution_count": 4,
   "id": "0fb84949-f3b7-411e-8c54-460e31cfa4f4",
   "metadata": {},
   "outputs": [
    {
     "data": {
      "text/plain": [
       "'<__main__.Person object at 0x10da52e40>'"
      ]
     },
     "execution_count": 4,
     "metadata": {},
     "output_type": "execute_result"
    }
   ],
   "source": [
    "object.__str__(p)"
   ]
  },
  {
   "cell_type": "code",
   "execution_count": 7,
   "id": "c9252d4b-3068-43a5-b755-7d23ae919073",
   "metadata": {},
   "outputs": [
    {
     "data": {
      "text/plain": [
       "'Reuven'"
      ]
     },
     "execution_count": 7,
     "metadata": {},
     "output_type": "execute_result"
    }
   ],
   "source": [
    "class Person:\n",
    "    def __init__(self, name):\n",
    "        self.name = name\n",
    "    def __str__(self):\n",
    "        return f'Person named \"{self.name}\"'\n",
    "\n",
    "p = Person('Reuven')\n",
    "p.name"
   ]
  },
  {
   "cell_type": "code",
   "execution_count": 8,
   "id": "10b012f0-4e42-4990-ba3b-59bc735e88be",
   "metadata": {},
   "outputs": [
    {
     "name": "stdout",
     "output_type": "stream",
     "text": [
      "Person named \"Reuven\"\n"
     ]
    }
   ],
   "source": [
    "print(p)"
   ]
  },
  {
   "cell_type": "code",
   "execution_count": 9,
   "id": "8a7ae6ac-0d37-4069-8cab-8223bf22547f",
   "metadata": {},
   "outputs": [
    {
     "data": {
      "text/plain": [
       "<__main__.Person at 0x10da52e40>"
      ]
     },
     "execution_count": 9,
     "metadata": {},
     "output_type": "execute_result"
    }
   ],
   "source": [
    "p"
   ]
  },
  {
   "cell_type": "markdown",
   "id": "ed04e22a-a6fd-4356-a2f5-3f9b8fd1b873",
   "metadata": {},
   "source": [
    "# `__str__` and `__repr__`\n",
    "\n",
    "- When we print something for the end user, it goes through `print`, which then goes through `str`. This invokes `__str__`.\n",
    "- When we display something for programmers, in Jupyter or the debugger, it uses `__repr__`, to give us the printed representation of that object.\n",
    "\n",
    "How are these different? You can think of `__repr__` as exposing more of the internals."
   ]
  },
  {
   "cell_type": "code",
   "execution_count": 10,
   "id": "39b22924-3b7e-43d0-a15e-03b7c18950f5",
   "metadata": {},
   "outputs": [
    {
     "data": {
      "text/plain": [
       "'Reuven'"
      ]
     },
     "execution_count": 10,
     "metadata": {},
     "output_type": "execute_result"
    }
   ],
   "source": [
    "class Person:\n",
    "    def __init__(self, name):\n",
    "        self.name = name\n",
    "    def __str__(self):\n",
    "        return f'[str] Person named \"{self.name}\"'\n",
    "    def __repr__(self):\n",
    "        return f'[repr] Person named \"{self.name}\"'\n",
    "\n",
    "p = Person('Reuven')\n",
    "p.name"
   ]
  },
  {
   "cell_type": "code",
   "execution_count": 11,
   "id": "008ad637-7be4-43bb-b720-d165c3fdfcc0",
   "metadata": {},
   "outputs": [
    {
     "name": "stdout",
     "output_type": "stream",
     "text": [
      "[str] Person named \"Reuven\"\n"
     ]
    }
   ],
   "source": [
    "print(p)"
   ]
  },
  {
   "cell_type": "code",
   "execution_count": 12,
   "id": "0c253647-0d97-4fcb-93a3-13b99e585807",
   "metadata": {},
   "outputs": [
    {
     "data": {
      "text/plain": [
       "[repr] Person named \"Reuven\""
      ]
     },
     "execution_count": 12,
     "metadata": {},
     "output_type": "execute_result"
    }
   ],
   "source": [
    "p"
   ]
  },
  {
   "cell_type": "code",
   "execution_count": 13,
   "id": "e0676cb5-b413-4a4f-a1fd-ae08e4523a89",
   "metadata": {},
   "outputs": [
    {
     "data": {
      "text/plain": [
       "'Reuven'"
      ]
     },
     "execution_count": 13,
     "metadata": {},
     "output_type": "execute_result"
    }
   ],
   "source": [
    "# in many many many cases that I've seen, there's no reason to have both!\n",
    "# if you only define __repr__, then it takes the place of __str__ (if one isn't defined)\n",
    "\n",
    "class Person:\n",
    "    def __init__(self, name):\n",
    "        self.name = name\n",
    "    def __repr__(self):\n",
    "        return f'[repr] Person named \"{self.name}\"'\n",
    "\n",
    "p = Person('Reuven')\n",
    "p.name"
   ]
  },
  {
   "cell_type": "code",
   "execution_count": 14,
   "id": "4affe692-decd-4da6-9532-ebdea07ba507",
   "metadata": {},
   "outputs": [
    {
     "name": "stdout",
     "output_type": "stream",
     "text": [
      "[repr] Person named \"Reuven\"\n"
     ]
    }
   ],
   "source": [
    "print(p)"
   ]
  },
  {
   "cell_type": "code",
   "execution_count": 15,
   "id": "7f232b86-a0c3-40ab-8dee-7ffbdbfe624b",
   "metadata": {},
   "outputs": [
    {
     "data": {
      "text/plain": [
       "[repr] Person named \"Reuven\""
      ]
     },
     "execution_count": 15,
     "metadata": {},
     "output_type": "execute_result"
    }
   ],
   "source": [
    "p"
   ]
  },
  {
   "cell_type": "code",
   "execution_count": null,
   "id": "e1df2fe1-35b3-46b8-b7a7-b29a7dc18df2",
   "metadata": {},
   "outputs": [],
   "source": []
  }
 ],
 "metadata": {
  "kernelspec": {
   "display_name": "Python 3 (ipykernel)",
   "language": "python",
   "name": "python3"
  },
  "language_info": {
   "codemirror_mode": {
    "name": "ipython",
    "version": 3
   },
   "file_extension": ".py",
   "mimetype": "text/x-python",
   "name": "python",
   "nbconvert_exporter": "python",
   "pygments_lexer": "ipython3",
   "version": "3.13.2"
  }
 },
 "nbformat": 4,
 "nbformat_minor": 5
}
