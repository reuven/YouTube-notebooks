{
 "cells": [
  {
   "cell_type": "markdown",
   "id": "c71a7822-8ad7-495d-80f9-279454aeaea5",
   "metadata": {},
   "source": [
    "# `nlargest` and `nsmallest`"
   ]
  },
  {
   "cell_type": "code",
   "execution_count": 11,
   "id": "fa4395a2-8603-4aae-9d43-2d96da6bda1d",
   "metadata": {},
   "outputs": [],
   "source": [
    "import numpy as np\n",
    "import pandas as pd\n",
    "from pandas import Series, DataFrame"
   ]
  },
  {
   "cell_type": "code",
   "execution_count": 12,
   "id": "d39a3eb2-716d-486d-9724-476a2496050f",
   "metadata": {},
   "outputs": [
    {
     "data": {
      "text/plain": [
       "a    684\n",
       "b    559\n",
       "c    629\n",
       "d    192\n",
       "e    835\n",
       "f    763\n",
       "g    707\n",
       "h    359\n",
       "i      9\n",
       "j    723\n",
       "dtype: int64"
      ]
     },
     "execution_count": 12,
     "metadata": {},
     "output_type": "execute_result"
    }
   ],
   "source": [
    "np.random.seed(0)\n",
    "s = Series(np.random.randint(0, 1000, 10),\n",
    "           index=list('abcdefghij'))\n",
    "s"
   ]
  },
  {
   "cell_type": "code",
   "execution_count": 15,
   "id": "ac5db2ce-7980-48de-a9f4-19052200ce3d",
   "metadata": {},
   "outputs": [
    {
     "data": {
      "text/plain": [
       "j    723\n",
       "f    763\n",
       "e    835\n",
       "dtype: int64"
      ]
     },
     "execution_count": 15,
     "metadata": {},
     "output_type": "execute_result"
    }
   ],
   "source": [
    "# what are the three largest numbers in s?\n",
    "\n",
    "s.sort_values().tail(3)"
   ]
  },
  {
   "cell_type": "code",
   "execution_count": 16,
   "id": "d220307a-8c39-4d46-aabc-82de784ed98f",
   "metadata": {},
   "outputs": [
    {
     "data": {
      "text/plain": [
       "e    835\n",
       "f    763\n",
       "j    723\n",
       "dtype: int64"
      ]
     },
     "execution_count": 16,
     "metadata": {},
     "output_type": "execute_result"
    }
   ],
   "source": [
    "s.sort_values(ascending=False).head(3)"
   ]
  },
  {
   "cell_type": "code",
   "execution_count": 17,
   "id": "099e88eb-1c16-440c-814b-850ab58aae24",
   "metadata": {},
   "outputs": [
    {
     "data": {
      "text/plain": [
       "i      9\n",
       "d    192\n",
       "h    359\n",
       "b    559\n",
       "dtype: int64"
      ]
     },
     "execution_count": 17,
     "metadata": {},
     "output_type": "execute_result"
    }
   ],
   "source": [
    "# what if I want the four smallest values?\n",
    "\n",
    "s.sort_values().head(4)"
   ]
  },
  {
   "cell_type": "code",
   "execution_count": 18,
   "id": "434bff46-39df-427f-a860-75da5b3f3788",
   "metadata": {},
   "outputs": [
    {
     "data": {
      "text/plain": [
       "b    559\n",
       "h    359\n",
       "d    192\n",
       "i      9\n",
       "dtype: int64"
      ]
     },
     "execution_count": 18,
     "metadata": {},
     "output_type": "execute_result"
    }
   ],
   "source": [
    "# we can turn that around, too\n",
    "\n",
    "s.sort_values(ascending=False).tail(4)"
   ]
  },
  {
   "cell_type": "code",
   "execution_count": 19,
   "id": "58371f34-4935-41cc-a2a6-2c1898e3eed2",
   "metadata": {},
   "outputs": [
    {
     "data": {
      "text/plain": [
       "e    835\n",
       "f    763\n",
       "j    723\n",
       "dtype: int64"
      ]
     },
     "execution_count": 19,
     "metadata": {},
     "output_type": "execute_result"
    }
   ],
   "source": [
    "s.nlargest(3)"
   ]
  },
  {
   "cell_type": "code",
   "execution_count": 20,
   "id": "d2b2cf33-e5ea-46c7-89d5-aec5dd4d151d",
   "metadata": {},
   "outputs": [
    {
     "data": {
      "text/plain": [
       "i      9\n",
       "d    192\n",
       "h    359\n",
       "b    559\n",
       "dtype: int64"
      ]
     },
     "execution_count": 20,
     "metadata": {},
     "output_type": "execute_result"
    }
   ],
   "source": [
    "s.nsmallest(4)"
   ]
  },
  {
   "cell_type": "code",
   "execution_count": 21,
   "id": "81939599-ecf3-44c0-afd9-0df44f28d121",
   "metadata": {},
   "outputs": [
    {
     "data": {
      "text/plain": [
       "e    835\n",
       "f    763\n",
       "j    723\n",
       "g    707\n",
       "a    684\n",
       "dtype: int64"
      ]
     },
     "execution_count": 21,
     "metadata": {},
     "output_type": "execute_result"
    }
   ],
   "source": [
    "s.nlargest()"
   ]
  },
  {
   "cell_type": "code",
   "execution_count": 22,
   "id": "31d15ca7-cd98-4adf-8f07-b0c618cde5f1",
   "metadata": {},
   "outputs": [
    {
     "data": {
      "text/html": [
       "<div>\n",
       "<style scoped>\n",
       "    .dataframe tbody tr th:only-of-type {\n",
       "        vertical-align: middle;\n",
       "    }\n",
       "\n",
       "    .dataframe tbody tr th {\n",
       "        vertical-align: top;\n",
       "    }\n",
       "\n",
       "    .dataframe thead th {\n",
       "        text-align: right;\n",
       "    }\n",
       "</style>\n",
       "<table border=\"1\" class=\"dataframe\">\n",
       "  <thead>\n",
       "    <tr style=\"text-align: right;\">\n",
       "      <th></th>\n",
       "      <th>u</th>\n",
       "      <th>v</th>\n",
       "      <th>w</th>\n",
       "      <th>x</th>\n",
       "      <th>y</th>\n",
       "      <th>z</th>\n",
       "    </tr>\n",
       "  </thead>\n",
       "  <tbody>\n",
       "    <tr>\n",
       "      <th>a</th>\n",
       "      <td>684</td>\n",
       "      <td>559</td>\n",
       "      <td>629</td>\n",
       "      <td>192</td>\n",
       "      <td>835</td>\n",
       "      <td>763</td>\n",
       "    </tr>\n",
       "    <tr>\n",
       "      <th>b</th>\n",
       "      <td>707</td>\n",
       "      <td>359</td>\n",
       "      <td>9</td>\n",
       "      <td>723</td>\n",
       "      <td>277</td>\n",
       "      <td>754</td>\n",
       "    </tr>\n",
       "    <tr>\n",
       "      <th>c</th>\n",
       "      <td>804</td>\n",
       "      <td>599</td>\n",
       "      <td>70</td>\n",
       "      <td>472</td>\n",
       "      <td>600</td>\n",
       "      <td>396</td>\n",
       "    </tr>\n",
       "    <tr>\n",
       "      <th>d</th>\n",
       "      <td>314</td>\n",
       "      <td>705</td>\n",
       "      <td>486</td>\n",
       "      <td>551</td>\n",
       "      <td>87</td>\n",
       "      <td>174</td>\n",
       "    </tr>\n",
       "    <tr>\n",
       "      <th>e</th>\n",
       "      <td>600</td>\n",
       "      <td>849</td>\n",
       "      <td>677</td>\n",
       "      <td>537</td>\n",
       "      <td>845</td>\n",
       "      <td>72</td>\n",
       "    </tr>\n",
       "    <tr>\n",
       "      <th>f</th>\n",
       "      <td>777</td>\n",
       "      <td>916</td>\n",
       "      <td>115</td>\n",
       "      <td>976</td>\n",
       "      <td>755</td>\n",
       "      <td>709</td>\n",
       "    </tr>\n",
       "  </tbody>\n",
       "</table>\n",
       "</div>"
      ],
      "text/plain": [
       "     u    v    w    x    y    z\n",
       "a  684  559  629  192  835  763\n",
       "b  707  359    9  723  277  754\n",
       "c  804  599   70  472  600  396\n",
       "d  314  705  486  551   87  174\n",
       "e  600  849  677  537  845   72\n",
       "f  777  916  115  976  755  709"
      ]
     },
     "execution_count": 22,
     "metadata": {},
     "output_type": "execute_result"
    }
   ],
   "source": [
    "np.random.seed(0)\n",
    "df = DataFrame(np.random.randint(0, 1000, [6, 6]),\n",
    "               index=list('abcdef'),\n",
    "               columns=list('uvwxyz'))\n",
    "df"
   ]
  },
  {
   "cell_type": "code",
   "execution_count": 23,
   "id": "d2eb90e4-f9c5-4dbb-be8b-d3e266522e44",
   "metadata": {},
   "outputs": [
    {
     "ename": "TypeError",
     "evalue": "DataFrame.nlargest() missing 1 required positional argument: 'columns'",
     "output_type": "error",
     "traceback": [
      "\u001b[0;31m---------------------------------------------------------------------------\u001b[0m",
      "\u001b[0;31mTypeError\u001b[0m                                 Traceback (most recent call last)",
      "Cell \u001b[0;32mIn[23], line 1\u001b[0m\n\u001b[0;32m----> 1\u001b[0m \u001b[43mdf\u001b[49m\u001b[38;5;241;43m.\u001b[39;49m\u001b[43mnlargest\u001b[49m\u001b[43m(\u001b[49m\u001b[38;5;241;43m3\u001b[39;49m\u001b[43m)\u001b[49m\n",
      "\u001b[0;31mTypeError\u001b[0m: DataFrame.nlargest() missing 1 required positional argument: 'columns'"
     ]
    }
   ],
   "source": [
    "df.nlargest(3)"
   ]
  },
  {
   "cell_type": "code",
   "execution_count": 24,
   "id": "bd9999a3-8046-4b05-928a-125f713bc4e6",
   "metadata": {},
   "outputs": [
    {
     "data": {
      "text/html": [
       "<div>\n",
       "<style scoped>\n",
       "    .dataframe tbody tr th:only-of-type {\n",
       "        vertical-align: middle;\n",
       "    }\n",
       "\n",
       "    .dataframe tbody tr th {\n",
       "        vertical-align: top;\n",
       "    }\n",
       "\n",
       "    .dataframe thead th {\n",
       "        text-align: right;\n",
       "    }\n",
       "</style>\n",
       "<table border=\"1\" class=\"dataframe\">\n",
       "  <thead>\n",
       "    <tr style=\"text-align: right;\">\n",
       "      <th></th>\n",
       "      <th>u</th>\n",
       "      <th>v</th>\n",
       "      <th>w</th>\n",
       "      <th>x</th>\n",
       "      <th>y</th>\n",
       "      <th>z</th>\n",
       "    </tr>\n",
       "  </thead>\n",
       "  <tbody>\n",
       "    <tr>\n",
       "      <th>f</th>\n",
       "      <td>777</td>\n",
       "      <td>916</td>\n",
       "      <td>115</td>\n",
       "      <td>976</td>\n",
       "      <td>755</td>\n",
       "      <td>709</td>\n",
       "    </tr>\n",
       "    <tr>\n",
       "      <th>b</th>\n",
       "      <td>707</td>\n",
       "      <td>359</td>\n",
       "      <td>9</td>\n",
       "      <td>723</td>\n",
       "      <td>277</td>\n",
       "      <td>754</td>\n",
       "    </tr>\n",
       "    <tr>\n",
       "      <th>d</th>\n",
       "      <td>314</td>\n",
       "      <td>705</td>\n",
       "      <td>486</td>\n",
       "      <td>551</td>\n",
       "      <td>87</td>\n",
       "      <td>174</td>\n",
       "    </tr>\n",
       "  </tbody>\n",
       "</table>\n",
       "</div>"
      ],
      "text/plain": [
       "     u    v    w    x    y    z\n",
       "f  777  916  115  976  755  709\n",
       "b  707  359    9  723  277  754\n",
       "d  314  705  486  551   87  174"
      ]
     },
     "execution_count": 24,
     "metadata": {},
     "output_type": "execute_result"
    }
   ],
   "source": [
    "df.nlargest(3, columns='x')"
   ]
  },
  {
   "cell_type": "code",
   "execution_count": 25,
   "id": "54b0c342-f4e9-401c-9607-37a42b61f5b8",
   "metadata": {},
   "outputs": [],
   "source": [
    "df.loc['b', 'x'] = 551\n"
   ]
  },
  {
   "cell_type": "code",
   "execution_count": 26,
   "id": "a80c5ece-9354-4ee2-9bee-151c8f80e7f9",
   "metadata": {},
   "outputs": [
    {
     "data": {
      "text/html": [
       "<div>\n",
       "<style scoped>\n",
       "    .dataframe tbody tr th:only-of-type {\n",
       "        vertical-align: middle;\n",
       "    }\n",
       "\n",
       "    .dataframe tbody tr th {\n",
       "        vertical-align: top;\n",
       "    }\n",
       "\n",
       "    .dataframe thead th {\n",
       "        text-align: right;\n",
       "    }\n",
       "</style>\n",
       "<table border=\"1\" class=\"dataframe\">\n",
       "  <thead>\n",
       "    <tr style=\"text-align: right;\">\n",
       "      <th></th>\n",
       "      <th>u</th>\n",
       "      <th>v</th>\n",
       "      <th>w</th>\n",
       "      <th>x</th>\n",
       "      <th>y</th>\n",
       "      <th>z</th>\n",
       "    </tr>\n",
       "  </thead>\n",
       "  <tbody>\n",
       "    <tr>\n",
       "      <th>a</th>\n",
       "      <td>684</td>\n",
       "      <td>559</td>\n",
       "      <td>629</td>\n",
       "      <td>192</td>\n",
       "      <td>835</td>\n",
       "      <td>763</td>\n",
       "    </tr>\n",
       "    <tr>\n",
       "      <th>b</th>\n",
       "      <td>707</td>\n",
       "      <td>359</td>\n",
       "      <td>9</td>\n",
       "      <td>551</td>\n",
       "      <td>277</td>\n",
       "      <td>754</td>\n",
       "    </tr>\n",
       "    <tr>\n",
       "      <th>c</th>\n",
       "      <td>804</td>\n",
       "      <td>599</td>\n",
       "      <td>70</td>\n",
       "      <td>472</td>\n",
       "      <td>600</td>\n",
       "      <td>396</td>\n",
       "    </tr>\n",
       "    <tr>\n",
       "      <th>d</th>\n",
       "      <td>314</td>\n",
       "      <td>705</td>\n",
       "      <td>486</td>\n",
       "      <td>551</td>\n",
       "      <td>87</td>\n",
       "      <td>174</td>\n",
       "    </tr>\n",
       "    <tr>\n",
       "      <th>e</th>\n",
       "      <td>600</td>\n",
       "      <td>849</td>\n",
       "      <td>677</td>\n",
       "      <td>537</td>\n",
       "      <td>845</td>\n",
       "      <td>72</td>\n",
       "    </tr>\n",
       "    <tr>\n",
       "      <th>f</th>\n",
       "      <td>777</td>\n",
       "      <td>916</td>\n",
       "      <td>115</td>\n",
       "      <td>976</td>\n",
       "      <td>755</td>\n",
       "      <td>709</td>\n",
       "    </tr>\n",
       "  </tbody>\n",
       "</table>\n",
       "</div>"
      ],
      "text/plain": [
       "     u    v    w    x    y    z\n",
       "a  684  559  629  192  835  763\n",
       "b  707  359    9  551  277  754\n",
       "c  804  599   70  472  600  396\n",
       "d  314  705  486  551   87  174\n",
       "e  600  849  677  537  845   72\n",
       "f  777  916  115  976  755  709"
      ]
     },
     "execution_count": 26,
     "metadata": {},
     "output_type": "execute_result"
    }
   ],
   "source": [
    "df"
   ]
  },
  {
   "cell_type": "code",
   "execution_count": 27,
   "id": "5b7204b6-242c-4489-a6b6-d3d260a9387b",
   "metadata": {},
   "outputs": [
    {
     "data": {
      "text/html": [
       "<div>\n",
       "<style scoped>\n",
       "    .dataframe tbody tr th:only-of-type {\n",
       "        vertical-align: middle;\n",
       "    }\n",
       "\n",
       "    .dataframe tbody tr th {\n",
       "        vertical-align: top;\n",
       "    }\n",
       "\n",
       "    .dataframe thead th {\n",
       "        text-align: right;\n",
       "    }\n",
       "</style>\n",
       "<table border=\"1\" class=\"dataframe\">\n",
       "  <thead>\n",
       "    <tr style=\"text-align: right;\">\n",
       "      <th></th>\n",
       "      <th>u</th>\n",
       "      <th>v</th>\n",
       "      <th>w</th>\n",
       "      <th>x</th>\n",
       "      <th>y</th>\n",
       "      <th>z</th>\n",
       "    </tr>\n",
       "  </thead>\n",
       "  <tbody>\n",
       "    <tr>\n",
       "      <th>f</th>\n",
       "      <td>777</td>\n",
       "      <td>916</td>\n",
       "      <td>115</td>\n",
       "      <td>976</td>\n",
       "      <td>755</td>\n",
       "      <td>709</td>\n",
       "    </tr>\n",
       "    <tr>\n",
       "      <th>b</th>\n",
       "      <td>707</td>\n",
       "      <td>359</td>\n",
       "      <td>9</td>\n",
       "      <td>551</td>\n",
       "      <td>277</td>\n",
       "      <td>754</td>\n",
       "    </tr>\n",
       "    <tr>\n",
       "      <th>d</th>\n",
       "      <td>314</td>\n",
       "      <td>705</td>\n",
       "      <td>486</td>\n",
       "      <td>551</td>\n",
       "      <td>87</td>\n",
       "      <td>174</td>\n",
       "    </tr>\n",
       "  </tbody>\n",
       "</table>\n",
       "</div>"
      ],
      "text/plain": [
       "     u    v    w    x    y    z\n",
       "f  777  916  115  976  755  709\n",
       "b  707  359    9  551  277  754\n",
       "d  314  705  486  551   87  174"
      ]
     },
     "execution_count": 27,
     "metadata": {},
     "output_type": "execute_result"
    }
   ],
   "source": [
    "df.nlargest(3, columns='x')"
   ]
  },
  {
   "cell_type": "code",
   "execution_count": 28,
   "id": "847fe71a-d89a-4961-8471-6637201b890d",
   "metadata": {},
   "outputs": [
    {
     "data": {
      "text/html": [
       "<div>\n",
       "<style scoped>\n",
       "    .dataframe tbody tr th:only-of-type {\n",
       "        vertical-align: middle;\n",
       "    }\n",
       "\n",
       "    .dataframe tbody tr th {\n",
       "        vertical-align: top;\n",
       "    }\n",
       "\n",
       "    .dataframe thead th {\n",
       "        text-align: right;\n",
       "    }\n",
       "</style>\n",
       "<table border=\"1\" class=\"dataframe\">\n",
       "  <thead>\n",
       "    <tr style=\"text-align: right;\">\n",
       "      <th></th>\n",
       "      <th>u</th>\n",
       "      <th>v</th>\n",
       "      <th>w</th>\n",
       "      <th>x</th>\n",
       "      <th>y</th>\n",
       "      <th>z</th>\n",
       "    </tr>\n",
       "  </thead>\n",
       "  <tbody>\n",
       "    <tr>\n",
       "      <th>f</th>\n",
       "      <td>777</td>\n",
       "      <td>916</td>\n",
       "      <td>115</td>\n",
       "      <td>976</td>\n",
       "      <td>755</td>\n",
       "      <td>709</td>\n",
       "    </tr>\n",
       "    <tr>\n",
       "      <th>b</th>\n",
       "      <td>707</td>\n",
       "      <td>359</td>\n",
       "      <td>9</td>\n",
       "      <td>551</td>\n",
       "      <td>277</td>\n",
       "      <td>754</td>\n",
       "    </tr>\n",
       "    <tr>\n",
       "      <th>d</th>\n",
       "      <td>314</td>\n",
       "      <td>705</td>\n",
       "      <td>486</td>\n",
       "      <td>551</td>\n",
       "      <td>87</td>\n",
       "      <td>174</td>\n",
       "    </tr>\n",
       "  </tbody>\n",
       "</table>\n",
       "</div>"
      ],
      "text/plain": [
       "     u    v    w    x    y    z\n",
       "f  777  916  115  976  755  709\n",
       "b  707  359    9  551  277  754\n",
       "d  314  705  486  551   87  174"
      ]
     },
     "execution_count": 28,
     "metadata": {},
     "output_type": "execute_result"
    }
   ],
   "source": [
    "df.nlargest(3, columns=['x', 'y'])"
   ]
  },
  {
   "cell_type": "code",
   "execution_count": 29,
   "id": "759d9612-8d77-4890-92d5-91a2f4467414",
   "metadata": {},
   "outputs": [
    {
     "data": {
      "text/html": [
       "<div>\n",
       "<style scoped>\n",
       "    .dataframe tbody tr th:only-of-type {\n",
       "        vertical-align: middle;\n",
       "    }\n",
       "\n",
       "    .dataframe tbody tr th {\n",
       "        vertical-align: top;\n",
       "    }\n",
       "\n",
       "    .dataframe thead th {\n",
       "        text-align: right;\n",
       "    }\n",
       "</style>\n",
       "<table border=\"1\" class=\"dataframe\">\n",
       "  <thead>\n",
       "    <tr style=\"text-align: right;\">\n",
       "      <th></th>\n",
       "      <th>u</th>\n",
       "      <th>v</th>\n",
       "      <th>w</th>\n",
       "      <th>x</th>\n",
       "      <th>y</th>\n",
       "      <th>z</th>\n",
       "    </tr>\n",
       "  </thead>\n",
       "  <tbody>\n",
       "    <tr>\n",
       "      <th>f</th>\n",
       "      <td>777</td>\n",
       "      <td>916</td>\n",
       "      <td>115</td>\n",
       "      <td>976</td>\n",
       "      <td>755</td>\n",
       "      <td>709</td>\n",
       "    </tr>\n",
       "    <tr>\n",
       "      <th>d</th>\n",
       "      <td>314</td>\n",
       "      <td>705</td>\n",
       "      <td>486</td>\n",
       "      <td>551</td>\n",
       "      <td>87</td>\n",
       "      <td>174</td>\n",
       "    </tr>\n",
       "    <tr>\n",
       "      <th>b</th>\n",
       "      <td>707</td>\n",
       "      <td>359</td>\n",
       "      <td>9</td>\n",
       "      <td>551</td>\n",
       "      <td>277</td>\n",
       "      <td>754</td>\n",
       "    </tr>\n",
       "  </tbody>\n",
       "</table>\n",
       "</div>"
      ],
      "text/plain": [
       "     u    v    w    x    y    z\n",
       "f  777  916  115  976  755  709\n",
       "d  314  705  486  551   87  174\n",
       "b  707  359    9  551  277  754"
      ]
     },
     "execution_count": 29,
     "metadata": {},
     "output_type": "execute_result"
    }
   ],
   "source": [
    "df.nlargest(3, columns=['x', 'w'])"
   ]
  },
  {
   "cell_type": "code",
   "execution_count": 31,
   "id": "a606348a-a687-437b-bda1-8a00472ba471",
   "metadata": {},
   "outputs": [
    {
     "name": "stdout",
     "output_type": "stream",
     "text": [
      "319 µs ± 8.97 µs per loop (mean ± std. dev. of 7 runs, 1,000 loops each)\n"
     ]
    }
   ],
   "source": [
    "%timeit s.nlargest(3)"
   ]
  },
  {
   "cell_type": "code",
   "execution_count": 32,
   "id": "786bc4b0-1fbb-405b-bffd-671cb4f0be7e",
   "metadata": {},
   "outputs": [
    {
     "name": "stdout",
     "output_type": "stream",
     "text": [
      "75.2 µs ± 556 ns per loop (mean ± std. dev. of 7 runs, 10,000 loops each)\n"
     ]
    }
   ],
   "source": [
    "%timeit s.sort_values().tail(3)"
   ]
  },
  {
   "cell_type": "code",
   "execution_count": null,
   "id": "4d42e516-b6aa-49ce-b083-a751ca2c19b4",
   "metadata": {},
   "outputs": [],
   "source": []
  }
 ],
 "metadata": {
  "kernelspec": {
   "display_name": "Python 3 (ipykernel)",
   "language": "python",
   "name": "python3"
  },
  "language_info": {
   "codemirror_mode": {
    "name": "ipython",
    "version": 3
   },
   "file_extension": ".py",
   "mimetype": "text/x-python",
   "name": "python",
   "nbconvert_exporter": "python",
   "pygments_lexer": "ipython3",
   "version": "3.12.1"
  }
 },
 "nbformat": 4,
 "nbformat_minor": 5
}
