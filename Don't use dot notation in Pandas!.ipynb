{
 "cells": [
  {
   "cell_type": "markdown",
   "id": "04ba6932-84ea-4774-8637-b4586c164297",
   "metadata": {},
   "source": [
    "# Why I dislike using dot notation in Pandas"
   ]
  },
  {
   "cell_type": "code",
   "execution_count": 1,
   "id": "81a50767-a4ef-4b6c-9899-79a7390f0b5e",
   "metadata": {},
   "outputs": [
    {
     "data": {
      "text/html": [
       "<div>\n",
       "<style scoped>\n",
       "    .dataframe tbody tr th:only-of-type {\n",
       "        vertical-align: middle;\n",
       "    }\n",
       "\n",
       "    .dataframe tbody tr th {\n",
       "        vertical-align: top;\n",
       "    }\n",
       "\n",
       "    .dataframe thead th {\n",
       "        text-align: right;\n",
       "    }\n",
       "</style>\n",
       "<table border=\"1\" class=\"dataframe\">\n",
       "  <thead>\n",
       "    <tr style=\"text-align: right;\">\n",
       "      <th></th>\n",
       "      <th>v</th>\n",
       "      <th>w</th>\n",
       "      <th>x</th>\n",
       "      <th>y</th>\n",
       "      <th>z</th>\n",
       "    </tr>\n",
       "  </thead>\n",
       "  <tbody>\n",
       "    <tr>\n",
       "      <th>a</th>\n",
       "      <td>176</td>\n",
       "      <td>186</td>\n",
       "      <td>319</td>\n",
       "      <td>979</td>\n",
       "      <td>194</td>\n",
       "    </tr>\n",
       "    <tr>\n",
       "      <th>b</th>\n",
       "      <td>166</td>\n",
       "      <td>591</td>\n",
       "      <td>775</td>\n",
       "      <td>564</td>\n",
       "      <td>761</td>\n",
       "    </tr>\n",
       "    <tr>\n",
       "      <th>c</th>\n",
       "      <td>666</td>\n",
       "      <td>941</td>\n",
       "      <td>767</td>\n",
       "      <td>972</td>\n",
       "      <td>748</td>\n",
       "    </tr>\n",
       "    <tr>\n",
       "      <th>d</th>\n",
       "      <td>272</td>\n",
       "      <td>660</td>\n",
       "      <td>467</td>\n",
       "      <td>85</td>\n",
       "      <td>46</td>\n",
       "    </tr>\n",
       "  </tbody>\n",
       "</table>\n",
       "</div>"
      ],
      "text/plain": [
       "     v    w    x    y    z\n",
       "a  176  186  319  979  194\n",
       "b  166  591  775  564  761\n",
       "c  666  941  767  972  748\n",
       "d  272  660  467   85   46"
      ]
     },
     "execution_count": 1,
     "metadata": {},
     "output_type": "execute_result"
    }
   ],
   "source": [
    "import numpy as np\n",
    "import pandas as pd\n",
    "\n",
    "df = pd.DataFrame(np.random.randint(0, 1000, [4,5]),\n",
    "                  index=list('abcd'),\n",
    "                  columns=list('vwxyz'))\n",
    "df"
   ]
  },
  {
   "cell_type": "code",
   "execution_count": 2,
   "id": "82c23adc-554c-4358-86e4-e19fb3ba6879",
   "metadata": {},
   "outputs": [
    {
     "data": {
      "text/plain": [
       "v    176\n",
       "w    186\n",
       "x    319\n",
       "y    979\n",
       "z    194\n",
       "Name: a, dtype: int64"
      ]
     },
     "execution_count": 2,
     "metadata": {},
     "output_type": "execute_result"
    }
   ],
   "source": [
    "# how can I retrieve a row? \n",
    "# I can use .loc or .iloc\n",
    "\n",
    "df.loc['a']  # based on the index"
   ]
  },
  {
   "cell_type": "code",
   "execution_count": 3,
   "id": "14f16d96-3e5b-4be7-ab1c-f0a0d690ed19",
   "metadata": {},
   "outputs": [
    {
     "data": {
      "text/plain": [
       "v    166\n",
       "w    591\n",
       "x    775\n",
       "y    564\n",
       "z    761\n",
       "Name: b, dtype: int64"
      ]
     },
     "execution_count": 3,
     "metadata": {},
     "output_type": "execute_result"
    }
   ],
   "source": [
    "df.iloc[1]  # based on the position"
   ]
  },
  {
   "cell_type": "code",
   "execution_count": 4,
   "id": "e48f5b79-307a-4f61-9bb0-b241f8d00d36",
   "metadata": {},
   "outputs": [
    {
     "data": {
      "text/plain": [
       "a    176\n",
       "b    166\n",
       "c    666\n",
       "d    272\n",
       "Name: v, dtype: int64"
      ]
     },
     "execution_count": 4,
     "metadata": {},
     "output_type": "execute_result"
    }
   ],
   "source": [
    "# what if I want to retrieve a column?\n",
    "# I have two options -- dot notation or square bracket notation\n",
    "\n",
    "df['v'] "
   ]
  },
  {
   "cell_type": "code",
   "execution_count": 5,
   "id": "46cab326-a657-429f-a4fb-f71f26c363af",
   "metadata": {},
   "outputs": [
    {
     "data": {
      "text/plain": [
       "a    176\n",
       "b    166\n",
       "c    666\n",
       "d    272\n",
       "Name: v, dtype: int64"
      ]
     },
     "execution_count": 5,
     "metadata": {},
     "output_type": "execute_result"
    }
   ],
   "source": [
    "# I can also use dot notation\n",
    "\n",
    "df.v"
   ]
  },
  {
   "cell_type": "code",
   "execution_count": 7,
   "id": "f9406df6-f955-4531-93df-1d49c3293274",
   "metadata": {},
   "outputs": [
    {
     "data": {
      "text/html": [
       "<div>\n",
       "<style scoped>\n",
       "    .dataframe tbody tr th:only-of-type {\n",
       "        vertical-align: middle;\n",
       "    }\n",
       "\n",
       "    .dataframe tbody tr th {\n",
       "        vertical-align: top;\n",
       "    }\n",
       "\n",
       "    .dataframe thead th {\n",
       "        text-align: right;\n",
       "    }\n",
       "</style>\n",
       "<table border=\"1\" class=\"dataframe\">\n",
       "  <thead>\n",
       "    <tr style=\"text-align: right;\">\n",
       "      <th></th>\n",
       "      <th>v v</th>\n",
       "      <th>w w</th>\n",
       "      <th>x x</th>\n",
       "      <th>y y</th>\n",
       "      <th>z z</th>\n",
       "    </tr>\n",
       "  </thead>\n",
       "  <tbody>\n",
       "    <tr>\n",
       "      <th>a</th>\n",
       "      <td>176</td>\n",
       "      <td>186</td>\n",
       "      <td>319</td>\n",
       "      <td>979</td>\n",
       "      <td>194</td>\n",
       "    </tr>\n",
       "    <tr>\n",
       "      <th>b</th>\n",
       "      <td>166</td>\n",
       "      <td>591</td>\n",
       "      <td>775</td>\n",
       "      <td>564</td>\n",
       "      <td>761</td>\n",
       "    </tr>\n",
       "    <tr>\n",
       "      <th>c</th>\n",
       "      <td>666</td>\n",
       "      <td>941</td>\n",
       "      <td>767</td>\n",
       "      <td>972</td>\n",
       "      <td>748</td>\n",
       "    </tr>\n",
       "    <tr>\n",
       "      <th>d</th>\n",
       "      <td>272</td>\n",
       "      <td>660</td>\n",
       "      <td>467</td>\n",
       "      <td>85</td>\n",
       "      <td>46</td>\n",
       "    </tr>\n",
       "  </tbody>\n",
       "</table>\n",
       "</div>"
      ],
      "text/plain": [
       "   v v  w w  x x  y y  z z\n",
       "a  176  186  319  979  194\n",
       "b  166  591  775  564  761\n",
       "c  666  941  767  972  748\n",
       "d  272  660  467   85   46"
      ]
     },
     "execution_count": 7,
     "metadata": {},
     "output_type": "execute_result"
    }
   ],
   "source": [
    "# if your column contains spaces, this won't work!\n",
    "\n",
    "df.columns = ['v v', 'w w', 'x x', 'y y', 'z z']\n",
    "df"
   ]
  },
  {
   "cell_type": "code",
   "execution_count": 8,
   "id": "9cd7e9a6-440b-449a-b2d1-49a5116365e4",
   "metadata": {},
   "outputs": [
    {
     "data": {
      "text/plain": [
       "a    319\n",
       "b    775\n",
       "c    767\n",
       "d    467\n",
       "Name: x x, dtype: int64"
      ]
     },
     "execution_count": 8,
     "metadata": {},
     "output_type": "execute_result"
    }
   ],
   "source": [
    "df['x x']"
   ]
  },
  {
   "cell_type": "code",
   "execution_count": 9,
   "id": "08bd7dea-56b7-4911-b9e4-d8f213e6f5e5",
   "metadata": {},
   "outputs": [
    {
     "ename": "SyntaxError",
     "evalue": "invalid syntax (3244531077.py, line 1)",
     "output_type": "error",
     "traceback": [
      "\u001b[0;36m  Cell \u001b[0;32mIn[9], line 1\u001b[0;36m\u001b[0m\n\u001b[0;31m    df.x x\u001b[0m\n\u001b[0m         ^\u001b[0m\n\u001b[0;31mSyntaxError\u001b[0m\u001b[0;31m:\u001b[0m invalid syntax\n"
     ]
    }
   ],
   "source": [
    "df.x x"
   ]
  },
  {
   "cell_type": "code",
   "execution_count": 10,
   "id": "ff999f52-6e06-4b23-911c-e536a10f6c02",
   "metadata": {},
   "outputs": [],
   "source": [
    "# It muddies the difference between actual Pandas methods/attributes and our own column names\n",
    "\n",
    "df.columns = ['sum', 'mean', 'x x', 'y y', 'z z']\n"
   ]
  },
  {
   "cell_type": "code",
   "execution_count": 12,
   "id": "bdd09ab3-ef1e-48bc-b5da-9e9d03f0b4e7",
   "metadata": {},
   "outputs": [
    {
     "data": {
      "text/plain": [
       "sum     1280\n",
       "mean    2378\n",
       "x x     2328\n",
       "y y     2600\n",
       "z z     1749\n",
       "dtype: int64"
      ]
     },
     "execution_count": 12,
     "metadata": {},
     "output_type": "execute_result"
    }
   ],
   "source": [
    "df.sum()"
   ]
  },
  {
   "cell_type": "code",
   "execution_count": 13,
   "id": "7592ffbe-7f9c-405b-b057-8eb5d922b433",
   "metadata": {},
   "outputs": [
    {
     "data": {
      "text/plain": [
       "a    176\n",
       "b    166\n",
       "c    666\n",
       "d    272\n",
       "Name: sum, dtype: int64"
      ]
     },
     "execution_count": 13,
     "metadata": {},
     "output_type": "execute_result"
    }
   ],
   "source": [
    "df['sum']"
   ]
  },
  {
   "cell_type": "code",
   "execution_count": null,
   "id": "1ff484cc-9fe8-451a-98ff-aed45ab5a084",
   "metadata": {},
   "outputs": [],
   "source": []
  }
 ],
 "metadata": {
  "kernelspec": {
   "display_name": "Python 3 (ipykernel)",
   "language": "python",
   "name": "python3"
  },
  "language_info": {
   "codemirror_mode": {
    "name": "ipython",
    "version": 3
   },
   "file_extension": ".py",
   "mimetype": "text/x-python",
   "name": "python",
   "nbconvert_exporter": "python",
   "pygments_lexer": "ipython3",
   "version": "3.13.1"
  }
 },
 "nbformat": 4,
 "nbformat_minor": 5
}
