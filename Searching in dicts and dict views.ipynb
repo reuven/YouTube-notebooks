{
 "cells": [
  {
   "cell_type": "markdown",
   "id": "ac11c0da-42f0-49dc-93dd-802ad718269c",
   "metadata": {},
   "source": [
    "# Searching in dicts (part 2)"
   ]
  },
  {
   "cell_type": "code",
   "execution_count": 4,
   "id": "3f28b85e-6a8b-4219-b0cc-3ab4545bee30",
   "metadata": {},
   "outputs": [],
   "source": [
    "d = {'a':10, 'b':20, 'c':30}"
   ]
  },
  {
   "cell_type": "code",
   "execution_count": 5,
   "id": "8fef474e-7e71-48a2-8d92-1f51fc8aa723",
   "metadata": {},
   "outputs": [
    {
     "data": {
      "text/plain": [
       "True"
      ]
     },
     "execution_count": 5,
     "metadata": {},
     "output_type": "execute_result"
    }
   ],
   "source": [
    "# is a particular key in the dict?\n",
    "\n",
    "'a' in d    # the dict invokes the hash function, jumps to the place where 'a' would be, and checks -- is it there?"
   ]
  },
  {
   "cell_type": "code",
   "execution_count": 7,
   "id": "9b0b14ca-f31b-45ef-a1eb-665c1d635182",
   "metadata": {},
   "outputs": [
    {
     "data": {
      "text/plain": [
       "True"
      ]
     },
     "execution_count": 7,
     "metadata": {},
     "output_type": "execute_result"
    }
   ],
   "source": [
    "'a' in d.keys()   # here, we have to find the method (keys), retrieve a new object (dict_keys), and then search there"
   ]
  },
  {
   "cell_type": "code",
   "execution_count": 8,
   "id": "ffe54684-8f31-4aca-a197-2f36ae16bbb5",
   "metadata": {},
   "outputs": [
    {
     "name": "stdout",
     "output_type": "stream",
     "text": [
      "21.1 ns ± 0.367 ns per loop (mean ± std. dev. of 7 runs, 10,000,000 loops each)\n"
     ]
    }
   ],
   "source": [
    "%timeit 'a' in d"
   ]
  },
  {
   "cell_type": "code",
   "execution_count": 9,
   "id": "bde3ca8a-d23f-4d4e-b0d2-1e98289e3bb5",
   "metadata": {},
   "outputs": [
    {
     "name": "stdout",
     "output_type": "stream",
     "text": [
      "50.6 ns ± 0.669 ns per loop (mean ± std. dev. of 7 runs, 10,000,000 loops each)\n"
     ]
    }
   ],
   "source": [
    "%timeit 'a' in d.keys()"
   ]
  },
  {
   "cell_type": "code",
   "execution_count": 10,
   "id": "22137e3f-dffc-44c0-9f2b-52bd26cb34d3",
   "metadata": {},
   "outputs": [],
   "source": [
    "# when we invoke d.keys, we're getting back a new object, a \"dict keys view\"\n",
    "\n",
    "# let's separate these two actions\n",
    "\n",
    "k = d.keys()"
   ]
  },
  {
   "cell_type": "code",
   "execution_count": 11,
   "id": "057dca8e-d241-40ed-a1fb-40851387e062",
   "metadata": {},
   "outputs": [
    {
     "data": {
      "text/plain": [
       "dict_keys(['a', 'b', 'c'])"
      ]
     },
     "execution_count": 11,
     "metadata": {},
     "output_type": "execute_result"
    }
   ],
   "source": [
    "k"
   ]
  },
  {
   "cell_type": "code",
   "execution_count": 12,
   "id": "e5da3042-99d8-4e71-bc05-b596e7d718b6",
   "metadata": {},
   "outputs": [
    {
     "data": {
      "text/plain": [
       "dict_keys"
      ]
     },
     "execution_count": 12,
     "metadata": {},
     "output_type": "execute_result"
    }
   ],
   "source": [
    "type(k)"
   ]
  },
  {
   "cell_type": "code",
   "execution_count": 13,
   "id": "7bfe5ba8-bdd2-40fb-a6c0-6b4d5fc182d5",
   "metadata": {},
   "outputs": [],
   "source": [
    "d['x'] = 100"
   ]
  },
  {
   "cell_type": "code",
   "execution_count": 14,
   "id": "03e82f58-b028-4234-bde1-580f4f642655",
   "metadata": {},
   "outputs": [
    {
     "data": {
      "text/plain": [
       "{'a': 10, 'b': 20, 'c': 30, 'x': 100}"
      ]
     },
     "execution_count": 14,
     "metadata": {},
     "output_type": "execute_result"
    }
   ],
   "source": [
    "d"
   ]
  },
  {
   "cell_type": "code",
   "execution_count": 15,
   "id": "219745bf-f67a-4be8-a108-37190af0e2fa",
   "metadata": {},
   "outputs": [
    {
     "data": {
      "text/plain": [
       "dict_keys(['a', 'b', 'c', 'x'])"
      ]
     },
     "execution_count": 15,
     "metadata": {},
     "output_type": "execute_result"
    }
   ],
   "source": [
    "k"
   ]
  },
  {
   "cell_type": "code",
   "execution_count": 16,
   "id": "60e59d57-863a-47eb-91db-73b7e06c1ee7",
   "metadata": {},
   "outputs": [
    {
     "data": {
      "text/plain": [
       "100"
      ]
     },
     "execution_count": 16,
     "metadata": {},
     "output_type": "execute_result"
    }
   ],
   "source": [
    "d.pop('x')"
   ]
  },
  {
   "cell_type": "code",
   "execution_count": 17,
   "id": "c218b605-8a33-4311-b423-d00eca6ba132",
   "metadata": {},
   "outputs": [
    {
     "name": "stdout",
     "output_type": "stream",
     "text": [
      "20.6 ns ± 0.194 ns per loop (mean ± std. dev. of 7 runs, 10,000,000 loops each)\n"
     ]
    }
   ],
   "source": [
    "%timeit 'a' in k"
   ]
  },
  {
   "cell_type": "code",
   "execution_count": 18,
   "id": "4a3b9c74-5df7-4067-b192-7f934724a8fe",
   "metadata": {},
   "outputs": [],
   "source": [
    "import string\n",
    "\n",
    "d = {}\n",
    "\n",
    "for one_character in string.ascii_letters:\n",
    "    for i in range(10_000):\n",
    "        d[one_character * i] = i"
   ]
  },
  {
   "cell_type": "code",
   "execution_count": 19,
   "id": "9904a8d7-dda5-436c-acf8-b4c29d5824dc",
   "metadata": {},
   "outputs": [
    {
     "data": {
      "text/plain": [
       "519949"
      ]
     },
     "execution_count": 19,
     "metadata": {},
     "output_type": "execute_result"
    }
   ],
   "source": [
    "len(d)"
   ]
  },
  {
   "cell_type": "code",
   "execution_count": 20,
   "id": "b9447ca5-3f97-4d6c-84ea-18d5b7901b69",
   "metadata": {},
   "outputs": [
    {
     "name": "stdout",
     "output_type": "stream",
     "text": [
      "25.3 ns ± 0.37 ns per loop (mean ± std. dev. of 7 runs, 10,000,000 loops each)\n"
     ]
    }
   ],
   "source": [
    "%timeit 'a' in d"
   ]
  },
  {
   "cell_type": "code",
   "execution_count": 21,
   "id": "1bca41a3-747a-45be-a94b-5a3740c0ce7d",
   "metadata": {},
   "outputs": [
    {
     "name": "stdout",
     "output_type": "stream",
     "text": [
      "56.9 ns ± 0.219 ns per loop (mean ± std. dev. of 7 runs, 10,000,000 loops each)\n"
     ]
    }
   ],
   "source": [
    "%timeit 'a' in d.keys()   # don't do this!"
   ]
  },
  {
   "cell_type": "code",
   "execution_count": 22,
   "id": "2ad943e9-8904-4974-936e-37fa33d7d56d",
   "metadata": {},
   "outputs": [
    {
     "name": "stdout",
     "output_type": "stream",
     "text": [
      "25 ns ± 0.233 ns per loop (mean ± std. dev. of 7 runs, 10,000,000 loops each)\n"
     ]
    }
   ],
   "source": [
    "k = d.keys()\n",
    "%timeit 'a' in k"
   ]
  },
  {
   "cell_type": "code",
   "execution_count": 23,
   "id": "a0b13387-3645-4fa4-8dd9-09df4e54b736",
   "metadata": {},
   "outputs": [
    {
     "name": "stdout",
     "output_type": "stream",
     "text": [
      "20.7 ns ± 0.322 ns per loop (mean ± std. dev. of 7 runs, 10,000,000 loops each)\n"
     ]
    }
   ],
   "source": [
    "%timeit '!!!' in d"
   ]
  },
  {
   "cell_type": "code",
   "execution_count": 24,
   "id": "fcbd9dc0-dd6f-4c0f-bf9d-e60c122d589a",
   "metadata": {},
   "outputs": [
    {
     "name": "stdout",
     "output_type": "stream",
     "text": [
      "20.5 ns ± 0.106 ns per loop (mean ± std. dev. of 7 runs, 10,000,000 loops each)\n"
     ]
    }
   ],
   "source": [
    "%timeit '!!!' in k"
   ]
  },
  {
   "cell_type": "code",
   "execution_count": null,
   "id": "4c57de54-99bc-4be3-8166-f6cebbc3a3c3",
   "metadata": {},
   "outputs": [],
   "source": []
  }
 ],
 "metadata": {
  "kernelspec": {
   "display_name": "Python 3 (ipykernel)",
   "language": "python",
   "name": "python3"
  },
  "language_info": {
   "codemirror_mode": {
    "name": "ipython",
    "version": 3
   },
   "file_extension": ".py",
   "mimetype": "text/x-python",
   "name": "python",
   "nbconvert_exporter": "python",
   "pygments_lexer": "ipython3",
   "version": "3.12.1"
  }
 },
 "nbformat": 4,
 "nbformat_minor": 5
}
