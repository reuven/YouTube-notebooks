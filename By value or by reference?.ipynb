{
 "cells": [
  {
   "cell_type": "code",
   "execution_count": 1,
   "id": "49d1f545-36af-4b44-a82a-f7c8aa307a69",
   "metadata": {},
   "outputs": [
    {
     "ename": "SyntaxError",
     "evalue": "invalid syntax (2213195575.py, line 3)",
     "output_type": "error",
     "traceback": [
      "  \u001b[36mCell\u001b[39m\u001b[36m \u001b[39m\u001b[32mIn[1]\u001b[39m\u001b[32m, line 3\u001b[39m\n\u001b[31m    \u001b[39m\u001b[31mint x;    # this tells the C compiler to allocate an int-sized piece of memory, and to alias x to that piece of memory\u001b[39m\n        ^\n\u001b[31mSyntaxError\u001b[39m\u001b[31m:\u001b[39m invalid syntax\n"
     ]
    }
   ],
   "source": [
    "# If I'm in C\n",
    "\n",
    "int x;    # this tells the C compiler to allocate an int-sized piece of memory, and to alias x to that piece of memory\n",
    "x = 5 ;   # this places the integer 5 into the address that was allocated in the initialization"
   ]
  },
  {
   "cell_type": "code",
   "execution_count": 2,
   "id": "d5bceef4-a432-40fe-aa8b-9dc08899d08f",
   "metadata": {},
   "outputs": [],
   "source": [
    "x = 5  # we create (or use an existing) integer value, which is on the heap, and we assign x to refer to that value (address)"
   ]
  },
  {
   "cell_type": "code",
   "execution_count": 3,
   "id": "ec9c4a8c-a551-4392-ae5e-93fb984e0cae",
   "metadata": {},
   "outputs": [
    {
     "data": {
      "text/plain": [
       "4485920928"
      ]
     },
     "execution_count": 3,
     "metadata": {},
     "output_type": "execute_result"
    }
   ],
   "source": [
    "id(x)"
   ]
  },
  {
   "cell_type": "code",
   "execution_count": 4,
   "id": "b074e961-e236-4c6f-b583-706216318a09",
   "metadata": {},
   "outputs": [
    {
     "data": {
      "text/plain": [
       "4485920928"
      ]
     },
     "execution_count": 4,
     "metadata": {},
     "output_type": "execute_result"
    }
   ],
   "source": [
    "id(5)"
   ]
  },
  {
   "cell_type": "code",
   "execution_count": 5,
   "id": "f63c9682-dfac-47be-b0a3-304aac96ae95",
   "metadata": {},
   "outputs": [],
   "source": [
    "y = [10, 20, 30]"
   ]
  },
  {
   "cell_type": "code",
   "execution_count": 6,
   "id": "78c6ac13-1b48-4a90-a390-529d85a10302",
   "metadata": {},
   "outputs": [
    {
     "data": {
      "text/plain": [
       "4555331776"
      ]
     },
     "execution_count": 6,
     "metadata": {},
     "output_type": "execute_result"
    }
   ],
   "source": [
    "id(y)"
   ]
  },
  {
   "cell_type": "markdown",
   "id": "cff139d9-f0c2-4158-98fc-c93755a22fcb",
   "metadata": {},
   "source": [
    "Every time we assign to a variable in Python, we are assigning a reference address to a variable.\n",
    "\n",
    "Assignment takes the value on the right of the `=` and assigns it to the name on the left side of the `=`.\n",
    "\n",
    "If we reuse a variable, and assign to it a second time, then it will refer to a new value, rather than an old one.\n",
    "\n",
    "Because every variable is just a reference to a value, and values are in charge of their types, any variable in Python can refer to any value, and we thus don't need to declare our variables (or their types) in advance."
   ]
  },
  {
   "cell_type": "code",
   "execution_count": 7,
   "id": "79fa0545-b378-47a3-b76f-4eb21acb8bf1",
   "metadata": {},
   "outputs": [
    {
     "data": {
      "text/plain": [
       "100"
      ]
     },
     "execution_count": 7,
     "metadata": {},
     "output_type": "execute_result"
    }
   ],
   "source": [
    "x = 100\n",
    "\n",
    "def add_1(y):\n",
    "    y = y + 1\n",
    "\n",
    "add_1(x)\n",
    "x   # if Python is a call-by-value language, then this won't affect x at all.\n",
    "\n",
    "# in a call-by-value language, y will get a copy of x's value, and any assignment to y will not affect x at all."
   ]
  },
  {
   "cell_type": "code",
   "execution_count": 8,
   "id": "1e73db39-b307-461f-8892-769697f6fbda",
   "metadata": {},
   "outputs": [
    {
     "data": {
      "text/plain": [
       "[10, 20, 30, 1]"
      ]
     },
     "execution_count": 8,
     "metadata": {},
     "output_type": "execute_result"
    }
   ],
   "source": [
    "# in a call-by-reference language, passing an argument means passing a *reference* to the original memory location.\n",
    "# this means that assigning to a local variable will affect the global as well.\n",
    "\n",
    "x = [10, 20, 30]\n",
    "\n",
    "def append_1(y):\n",
    "    y.append(1)\n",
    "\n",
    "append_1(x)\n",
    "x"
   ]
  },
  {
   "cell_type": "markdown",
   "id": "12fbb7ad-ef95-4851-8bd6-3a3c81d1ece3",
   "metadata": {},
   "source": [
    "In this second case, we didn't get a reference to x passed to y. It's not that y and x are equivalents to one another. Rather, both x and \n",
    "y are references to the same list value. Modifying that value is reflected both in x and in y."
   ]
  },
  {
   "cell_type": "markdown",
   "id": "417c60c3-3b6d-443e-9606-d0b471290e8d",
   "metadata": {},
   "source": [
    "Every time we invoke a function, the reference to the value is copied to the parameter. We then get, inside of the function, the same reference, which means that if we assign to the variable, it'll remain local. But if mutate the data, we'll see that reflected both locally and globally.\n",
    "\n",
    "The behavior we observe depends on :\n",
    "\n",
    "1. Is the value mutable?\n",
    "2. Are we assigning to the variable, or are we mutating the value?"
   ]
  },
  {
   "cell_type": "code",
   "execution_count": null,
   "id": "9cc038a4-3d9c-4f85-8a56-6bf0af879866",
   "metadata": {},
   "outputs": [],
   "source": []
  }
 ],
 "metadata": {
  "kernelspec": {
   "display_name": "Python 3 (ipykernel)",
   "language": "python",
   "name": "python3"
  },
  "language_info": {
   "codemirror_mode": {
    "name": "ipython",
    "version": 3
   },
   "file_extension": ".py",
   "mimetype": "text/x-python",
   "name": "python",
   "nbconvert_exporter": "python",
   "pygments_lexer": "ipython3",
   "version": "3.13.2"
  }
 },
 "nbformat": 4,
 "nbformat_minor": 5
}
