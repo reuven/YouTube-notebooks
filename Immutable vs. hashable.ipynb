{
 "cells": [
  {
   "cell_type": "markdown",
   "id": "bd65b4ba-79a9-49df-9ae3-6d268cf94acd",
   "metadata": {},
   "source": [
    "# Immutable and hashable"
   ]
  },
  {
   "cell_type": "code",
   "execution_count": 1,
   "id": "04eaee88-5a78-450b-a84d-9251849b700f",
   "metadata": {},
   "outputs": [
    {
     "data": {
      "text/plain": [
       "[10, 20, 30, 40, 50, 60]"
      ]
     },
     "execution_count": 1,
     "metadata": {},
     "output_type": "execute_result"
    }
   ],
   "source": [
    "# lists\n",
    "\n",
    "mylist = [10, 20, 30, 40, 50]\n",
    "\n",
    "# I can change mylist:\n",
    "# add a new element \n",
    "mylist.append(60)\n",
    "mylist"
   ]
  },
  {
   "cell_type": "code",
   "execution_count": 2,
   "id": "fb4d07a0-f07c-46b4-8df1-4f4df9589e3a",
   "metadata": {},
   "outputs": [
    {
     "data": {
      "text/plain": [
       "[10, 20, 30, 999, 50, 60]"
      ]
     },
     "execution_count": 2,
     "metadata": {},
     "output_type": "execute_result"
    }
   ],
   "source": [
    "# I can replace an existing element\n",
    "mylist[3] = 999\n",
    "mylist"
   ]
  },
  {
   "cell_type": "code",
   "execution_count": 3,
   "id": "a0053f79-6d5e-44da-8815-3dbe5e961665",
   "metadata": {},
   "outputs": [
    {
     "data": {
      "text/plain": [
       "[10, 20, 30, 999, 50]"
      ]
     },
     "execution_count": 3,
     "metadata": {},
     "output_type": "execute_result"
    }
   ],
   "source": [
    "# I can remove an element\n",
    "mylist.pop()\n",
    "mylist"
   ]
  },
  {
   "cell_type": "code",
   "execution_count": 4,
   "id": "e8dea984-5804-41c3-ae2c-c1ad8bfcebec",
   "metadata": {},
   "outputs": [
    {
     "ename": "TypeError",
     "evalue": "'str' object does not support item assignment",
     "output_type": "error",
     "traceback": [
      "\u001b[0;31m---------------------------------------------------------------------------\u001b[0m",
      "\u001b[0;31mTypeError\u001b[0m                                 Traceback (most recent call last)",
      "Cell \u001b[0;32mIn[4], line 4\u001b[0m\n\u001b[1;32m      1\u001b[0m \u001b[38;5;66;03m# strings and tuples are *immutable* -- once they are created, we cannot change them\u001b[39;00m\n\u001b[1;32m      3\u001b[0m s \u001b[38;5;241m=\u001b[39m \u001b[38;5;124m'\u001b[39m\u001b[38;5;124mabcdefghij\u001b[39m\u001b[38;5;124m'\u001b[39m\n\u001b[0;32m----> 4\u001b[0m \u001b[43ms\u001b[49m\u001b[43m[\u001b[49m\u001b[38;5;241;43m0\u001b[39;49m\u001b[43m]\u001b[49m \u001b[38;5;241m=\u001b[39m \u001b[38;5;124m'\u001b[39m\u001b[38;5;124m!\u001b[39m\u001b[38;5;124m'\u001b[39m\n",
      "\u001b[0;31mTypeError\u001b[0m: 'str' object does not support item assignment"
     ]
    }
   ],
   "source": [
    "# strings and tuples are *immutable* -- once they are created, we cannot change them\n",
    "\n",
    "s = 'abcdefghij'\n",
    "s[0] = '!'"
   ]
  },
  {
   "cell_type": "code",
   "execution_count": 5,
   "id": "e16f86f4-4649-476d-8bba-b22b712dc740",
   "metadata": {},
   "outputs": [
    {
     "data": {
      "text/plain": [
       "'abcdefghijklmnop'"
      ]
     },
     "execution_count": 5,
     "metadata": {},
     "output_type": "execute_result"
    }
   ],
   "source": [
    "# can I make a string longer?\n",
    "\n",
    "s += 'klmnop'  # here, we basically said s = s + 'klmnop\"\n",
    "s"
   ]
  },
  {
   "cell_type": "code",
   "execution_count": 6,
   "id": "09d28a8e-af61-469d-b9c3-0a4a345996c3",
   "metadata": {},
   "outputs": [
    {
     "ename": "TypeError",
     "evalue": "'tuple' object does not support item assignment",
     "output_type": "error",
     "traceback": [
      "\u001b[0;31m---------------------------------------------------------------------------\u001b[0m",
      "\u001b[0;31mTypeError\u001b[0m                                 Traceback (most recent call last)",
      "Cell \u001b[0;32mIn[6], line 4\u001b[0m\n\u001b[1;32m      1\u001b[0m \u001b[38;5;66;03m# tuples are also immutable\u001b[39;00m\n\u001b[1;32m      3\u001b[0m t \u001b[38;5;241m=\u001b[39m (\u001b[38;5;241m10\u001b[39m, \u001b[38;5;241m20\u001b[39m, \u001b[38;5;241m30\u001b[39m, \u001b[38;5;241m40\u001b[39m, \u001b[38;5;241m50\u001b[39m)\n\u001b[0;32m----> 4\u001b[0m \u001b[43mt\u001b[49m\u001b[43m[\u001b[49m\u001b[38;5;241;43m0\u001b[39;49m\u001b[43m]\u001b[49m \u001b[38;5;241m=\u001b[39m \u001b[38;5;124m'\u001b[39m\u001b[38;5;124m!\u001b[39m\u001b[38;5;124m'\u001b[39m\n",
      "\u001b[0;31mTypeError\u001b[0m: 'tuple' object does not support item assignment"
     ]
    }
   ],
   "source": [
    "# tuples are also immutable\n",
    "\n",
    "t = (10, 20, 30, 40, 50)\n",
    "t[0] = '!'"
   ]
  },
  {
   "cell_type": "code",
   "execution_count": 7,
   "id": "d380439b-490e-4cc8-ab80-824274b71958",
   "metadata": {},
   "outputs": [
    {
     "data": {
      "text/plain": [
       "{'abcdefghijklmnop': 10}"
      ]
     },
     "execution_count": 7,
     "metadata": {},
     "output_type": "execute_result"
    }
   ],
   "source": [
    "# dictionaries\n",
    "\n",
    "# dict keys must be immutable\n",
    "\n",
    "d = {}\n",
    "d[s] = 10\n",
    "d"
   ]
  },
  {
   "cell_type": "code",
   "execution_count": 8,
   "id": "70bd3396-69b2-493f-ab7f-1a8dd56831d7",
   "metadata": {},
   "outputs": [
    {
     "data": {
      "text/plain": [
       "{'abcdefghijklmnop': 10, (10, 20, 30, 40, 50): 20}"
      ]
     },
     "execution_count": 8,
     "metadata": {},
     "output_type": "execute_result"
    }
   ],
   "source": [
    "d[t] = 20\n",
    "d"
   ]
  },
  {
   "cell_type": "code",
   "execution_count": 9,
   "id": "cb51f782-490b-483d-a0c4-2dcbf05013be",
   "metadata": {},
   "outputs": [
    {
     "ename": "TypeError",
     "evalue": "unhashable type: 'list'",
     "output_type": "error",
     "traceback": [
      "\u001b[0;31m---------------------------------------------------------------------------\u001b[0m",
      "\u001b[0;31mTypeError\u001b[0m                                 Traceback (most recent call last)",
      "Cell \u001b[0;32mIn[9], line 1\u001b[0m\n\u001b[0;32m----> 1\u001b[0m \u001b[43md\u001b[49m\u001b[43m[\u001b[49m\u001b[43mmylist\u001b[49m\u001b[43m]\u001b[49m \u001b[38;5;241m=\u001b[39m \u001b[38;5;241m30\u001b[39m\n",
      "\u001b[0;31mTypeError\u001b[0m: unhashable type: 'list'"
     ]
    }
   ],
   "source": [
    "d[mylist] = 30"
   ]
  },
  {
   "cell_type": "code",
   "execution_count": 10,
   "id": "f05e936e-8bf2-499a-b170-8b8800d9110a",
   "metadata": {},
   "outputs": [],
   "source": [
    "d['a'] = 100    # Python uses the key ('a') as the input to the hash function, which returns an integer telling us where to store the pair"
   ]
  },
  {
   "cell_type": "code",
   "execution_count": 11,
   "id": "09a7b7a3-d37e-4a10-bfdd-f4edd778433f",
   "metadata": {},
   "outputs": [
    {
     "data": {
      "text/plain": [
       "1920735995193089073"
      ]
     },
     "execution_count": 11,
     "metadata": {},
     "output_type": "execute_result"
    }
   ],
   "source": [
    "hash('a')"
   ]
  },
  {
   "cell_type": "code",
   "execution_count": 12,
   "id": "bd752485-793e-43d3-a501-0c47c3cb41c2",
   "metadata": {},
   "outputs": [
    {
     "data": {
      "text/plain": [
       "True"
      ]
     },
     "execution_count": 12,
     "metadata": {},
     "output_type": "execute_result"
    }
   ],
   "source": [
    "'a' in d  # hash('a') "
   ]
  },
  {
   "cell_type": "code",
   "execution_count": 13,
   "id": "280f8b11-51cf-4185-8e0a-ab42ea978f63",
   "metadata": {},
   "outputs": [],
   "source": [
    "key = 'abcd'\n",
    "\n",
    "d[key] = 999    # python runs hash(key), gets a number back, and uses that for storage"
   ]
  },
  {
   "cell_type": "code",
   "execution_count": null,
   "id": "5e95f2ec-9999-4daf-9ddc-1493e621cc6a",
   "metadata": {},
   "outputs": [],
   "source": [
    "# in our parallel universe\n",
    "key[0] = 'z'\n",
    "\n",
    "hash(key) # now Python will return a *different* number, thus losing our key-value pair"
   ]
  },
  {
   "cell_type": "code",
   "execution_count": 14,
   "id": "d3d32fd4-27d0-424f-8f9f-884cebe3fd8b",
   "metadata": {},
   "outputs": [],
   "source": [
    "t = (10, 20, 30, [100, 200, 300])"
   ]
  },
  {
   "cell_type": "code",
   "execution_count": 15,
   "id": "3ce0cecb-8690-48b8-b75d-bce817c8700b",
   "metadata": {},
   "outputs": [
    {
     "ename": "TypeError",
     "evalue": "unhashable type: 'list'",
     "output_type": "error",
     "traceback": [
      "\u001b[0;31m---------------------------------------------------------------------------\u001b[0m",
      "\u001b[0;31mTypeError\u001b[0m                                 Traceback (most recent call last)",
      "Cell \u001b[0;32mIn[15], line 1\u001b[0m\n\u001b[0;32m----> 1\u001b[0m \u001b[43md\u001b[49m\u001b[43m[\u001b[49m\u001b[43mt\u001b[49m\u001b[43m]\u001b[49m \u001b[38;5;241m=\u001b[39m \u001b[38;5;241m888\u001b[39m\n",
      "\u001b[0;31mTypeError\u001b[0m: unhashable type: 'list'"
     ]
    }
   ],
   "source": [
    "d[t] = 888"
   ]
  },
  {
   "cell_type": "code",
   "execution_count": 16,
   "id": "56994d60-c7e0-4650-9cc3-84ac0c55be23",
   "metadata": {},
   "outputs": [],
   "source": [
    "class Person:\n",
    "    def __init__(self, name):\n",
    "        self.name = name\n",
    "\n",
    "p1 = Person('name1')\n",
    "p2 = Person('name2')"
   ]
  },
  {
   "cell_type": "code",
   "execution_count": 17,
   "id": "ad457d7e-b8d0-4b0d-8662-6405dbb25dd0",
   "metadata": {},
   "outputs": [],
   "source": [
    "# I want to create a dict in which these Person objects are the keys, and their ID numbers are the values\n",
    "\n",
    "d = {p1:100, p2:200}\n"
   ]
  },
  {
   "cell_type": "code",
   "execution_count": 18,
   "id": "863b3d3f-b9bd-48f1-abdd-1842c9d7cb51",
   "metadata": {},
   "outputs": [
    {
     "data": {
      "text/plain": [
       "'name1'"
      ]
     },
     "execution_count": 18,
     "metadata": {},
     "output_type": "execute_result"
    }
   ],
   "source": [
    "p1.name"
   ]
  },
  {
   "cell_type": "code",
   "execution_count": 19,
   "id": "95cb219d-fc6f-4a4f-812b-fa23f76e6d1b",
   "metadata": {},
   "outputs": [
    {
     "data": {
      "text/plain": [
       "'another name'"
      ]
     },
     "execution_count": 19,
     "metadata": {},
     "output_type": "execute_result"
    }
   ],
   "source": [
    "p1.name = 'another name'\n",
    "p1.name"
   ]
  },
  {
   "cell_type": "code",
   "execution_count": 20,
   "id": "686d4fc0-9c78-43a3-a6a2-c5921e6c8455",
   "metadata": {},
   "outputs": [
    {
     "data": {
      "text/plain": [
       "100"
      ]
     },
     "execution_count": 20,
     "metadata": {},
     "output_type": "execute_result"
    }
   ],
   "source": [
    "d[p1]"
   ]
  },
  {
   "cell_type": "code",
   "execution_count": 21,
   "id": "5069a9bd-f900-41f1-9527-43c5d29d24bb",
   "metadata": {},
   "outputs": [
    {
     "data": {
      "text/plain": [
       "284682809"
      ]
     },
     "execution_count": 21,
     "metadata": {},
     "output_type": "execute_result"
    }
   ],
   "source": [
    "hash(p1)"
   ]
  },
  {
   "cell_type": "code",
   "execution_count": 22,
   "id": "e3f1a615-a59c-4b1d-9eed-52755e5d5377",
   "metadata": {},
   "outputs": [
    {
     "data": {
      "text/plain": [
       "284682809"
      ]
     },
     "execution_count": 22,
     "metadata": {},
     "output_type": "execute_result"
    }
   ],
   "source": [
    "p1.name = 'xyz'\n",
    "hash(p1)"
   ]
  },
  {
   "cell_type": "code",
   "execution_count": 23,
   "id": "b876ce7f-e7ad-4c71-9089-595c3bd66060",
   "metadata": {},
   "outputs": [],
   "source": [
    "class Person:\n",
    "    def __init__(self, name):\n",
    "        self.name = name\n",
    "\n",
    "    def __hash__(self):   \n",
    "        return hash(self.name)\n",
    "\n",
    "p1 = Person('name1')\n",
    "p2 = Person('name2')"
   ]
  },
  {
   "cell_type": "code",
   "execution_count": 24,
   "id": "d57fbeb6-5c70-47ed-b4ff-c6c879bea412",
   "metadata": {},
   "outputs": [
    {
     "data": {
      "text/plain": [
       "-6426440262539922409"
      ]
     },
     "execution_count": 24,
     "metadata": {},
     "output_type": "execute_result"
    }
   ],
   "source": [
    "hash(p1)"
   ]
  },
  {
   "cell_type": "code",
   "execution_count": 25,
   "id": "3514dbb9-10b8-41ce-8e21-333f2475b855",
   "metadata": {},
   "outputs": [
    {
     "data": {
      "text/plain": [
       "-4849235061254634392"
      ]
     },
     "execution_count": 25,
     "metadata": {},
     "output_type": "execute_result"
    }
   ],
   "source": [
    "p1.name = 'something else'\n",
    "hash(p1)"
   ]
  },
  {
   "cell_type": "code",
   "execution_count": 26,
   "id": "09d8521a-947d-4c42-9248-d18bcfeadf66",
   "metadata": {},
   "outputs": [],
   "source": [
    "d = {p1:10, p2:20}"
   ]
  },
  {
   "cell_type": "code",
   "execution_count": 27,
   "id": "fdc3a9e9-7e58-412e-9fa2-86c63e4e6295",
   "metadata": {},
   "outputs": [
    {
     "data": {
      "text/plain": [
       "10"
      ]
     },
     "execution_count": 27,
     "metadata": {},
     "output_type": "execute_result"
    }
   ],
   "source": [
    "d[p1]"
   ]
  },
  {
   "cell_type": "code",
   "execution_count": 28,
   "id": "6fbe4415-cab4-4f7d-8b0a-7a5078f9b6bc",
   "metadata": {},
   "outputs": [],
   "source": [
    "p1.name = 'yet another value'"
   ]
  },
  {
   "cell_type": "code",
   "execution_count": 29,
   "id": "52de2f08-f28a-429d-a9cb-1c4b124bc9b0",
   "metadata": {},
   "outputs": [
    {
     "ename": "KeyError",
     "evalue": "<__main__.Person object at 0x10f7be210>",
     "output_type": "error",
     "traceback": [
      "\u001b[0;31m---------------------------------------------------------------------------\u001b[0m",
      "\u001b[0;31mKeyError\u001b[0m                                  Traceback (most recent call last)",
      "Cell \u001b[0;32mIn[29], line 1\u001b[0m\n\u001b[0;32m----> 1\u001b[0m \u001b[43md\u001b[49m\u001b[43m[\u001b[49m\u001b[43mp1\u001b[49m\u001b[43m]\u001b[49m\n",
      "\u001b[0;31mKeyError\u001b[0m: <__main__.Person object at 0x10f7be210>"
     ]
    }
   ],
   "source": [
    "d[p1]"
   ]
  },
  {
   "cell_type": "code",
   "execution_count": null,
   "id": "7f1d551f-f165-4cbb-82a8-357f5c4dd99c",
   "metadata": {},
   "outputs": [],
   "source": []
  }
 ],
 "metadata": {
  "kernelspec": {
   "display_name": "Python 3 (ipykernel)",
   "language": "python",
   "name": "python3"
  },
  "language_info": {
   "codemirror_mode": {
    "name": "ipython",
    "version": 3
   },
   "file_extension": ".py",
   "mimetype": "text/x-python",
   "name": "python",
   "nbconvert_exporter": "python",
   "pygments_lexer": "ipython3",
   "version": "3.12.5"
  }
 },
 "nbformat": 4,
 "nbformat_minor": 5
}
