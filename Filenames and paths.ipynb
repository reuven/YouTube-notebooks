{
 "cells": [
  {
   "cell_type": "markdown",
   "id": "736e8b26-8c3b-4899-aa20-96f23df9af83",
   "metadata": {},
   "source": [
    "# Opening files"
   ]
  },
  {
   "cell_type": "code",
   "execution_count": 10,
   "id": "0f7d0667-9f23-42a3-9109-ede60e000b40",
   "metadata": {},
   "outputs": [
    {
     "name": "stdout",
     "output_type": "stream",
     "text": [
      "myfile.txt\n"
     ]
    }
   ],
   "source": [
    "# in the current directory, I have a file called myfile.txt\n",
    "\n",
    "!ls myfile.txt"
   ]
  },
  {
   "cell_type": "code",
   "execution_count": 11,
   "id": "fcd65b6e-2caa-464c-a062-72182f9a4b85",
   "metadata": {},
   "outputs": [],
   "source": [
    "f = open('myfile.txt')"
   ]
  },
  {
   "cell_type": "code",
   "execution_count": 12,
   "id": "32b821f2-6887-426d-9da6-b93ffb4ed3cf",
   "metadata": {},
   "outputs": [
    {
     "data": {
      "text/plain": [
       "<_io.TextIOWrapper name='myfile.txt' mode='r' encoding='UTF-8'>"
      ]
     },
     "execution_count": 12,
     "metadata": {},
     "output_type": "execute_result"
    }
   ],
   "source": [
    "f"
   ]
  },
  {
   "cell_type": "code",
   "execution_count": 13,
   "id": "9733575b-d2e9-466c-9ed1-2dd114cc8fde",
   "metadata": {},
   "outputs": [
    {
     "data": {
      "text/plain": [
       "'This is myfile.txt\\n'"
      ]
     },
     "execution_count": 13,
     "metadata": {},
     "output_type": "execute_result"
    }
   ],
   "source": [
    "f.read()"
   ]
  },
  {
   "cell_type": "code",
   "execution_count": 15,
   "id": "8424f5d8-a580-4ff2-b060-7e27d7a6ed1a",
   "metadata": {},
   "outputs": [
    {
     "data": {
      "text/plain": [
       "'##\\n# User Database\\n# \\n# Note that this file is consulted directly only when the system is running\\n# in single-user mode.  At other times this information is provided by\\n# Open Directory.\\n#\\n# See the o'"
      ]
     },
     "execution_count": 15,
     "metadata": {},
     "output_type": "execute_result"
    }
   ],
   "source": [
    "# I want to open the file /etc/passwd\n",
    "# the initial slash means: I'm describing the file's absolute location, starting at the root of the filesystem\n",
    "\n",
    "f = open('/etc/passwd')\n",
    "f.read()[:200]\n"
   ]
  },
  {
   "cell_type": "code",
   "execution_count": 16,
   "id": "b7f1327e-7dee-42bd-a9f1-93fe5a9492a8",
   "metadata": {},
   "outputs": [
    {
     "data": {
      "text/plain": [
       "'This is myfile.txt\\n'"
      ]
     },
     "execution_count": 16,
     "metadata": {},
     "output_type": "execute_result"
    }
   ],
   "source": [
    "filename = '/Users/reuven/Courses/YouTube-notebooks/myfile.txt'  # the absolute path for myfile.txt in the current directory\n",
    "open(filename).read()"
   ]
  },
  {
   "cell_type": "code",
   "execution_count": 19,
   "id": "53334a40-b5a8-4a4f-be1a-41d918ae07df",
   "metadata": {},
   "outputs": [
    {
     "name": "stdout",
     "output_type": "stream",
     "text": [
      "drwxr-xr-x 3 reuven staff 96 Oct 31 14:44 subdir\n"
     ]
    }
   ],
   "source": [
    "# we can use a relative path, which doesn't start with /, but does contain a /\n",
    "\n",
    "!ls -ld subdir"
   ]
  },
  {
   "cell_type": "code",
   "execution_count": 20,
   "id": "cdfb483f-1f89-44f5-87c1-4dde9f85370e",
   "metadata": {},
   "outputs": [
    {
     "name": "stdout",
     "output_type": "stream",
     "text": [
      "subfile.txt\n"
     ]
    }
   ],
   "source": [
    "!ls subdir"
   ]
  },
  {
   "cell_type": "code",
   "execution_count": 21,
   "id": "4f2b056b-3e4f-4d47-8107-f1963415c193",
   "metadata": {},
   "outputs": [
    {
     "data": {
      "text/plain": [
       "'This is a subfile!\\n'"
      ]
     },
     "execution_count": 21,
     "metadata": {},
     "output_type": "execute_result"
    }
   ],
   "source": [
    "# if I want to open that file from the current directory, I can use a relative path\n",
    "\n",
    "filename = 'subdir/subfile.txt'\n",
    "f = open(filename)\n",
    "f.read()"
   ]
  },
  {
   "cell_type": "code",
   "execution_count": 22,
   "id": "faadf07d-7e19-4a83-8444-d08a7a339697",
   "metadata": {},
   "outputs": [
    {
     "data": {
      "text/plain": [
       "'This is a subfile!\\n'"
      ]
     },
     "execution_count": 22,
     "metadata": {},
     "output_type": "execute_result"
    }
   ],
   "source": [
    "filename = '/Users/reuven/Courses/YouTube-notebooks/subdir/subfile.txt'\n",
    "open(filename).read()"
   ]
  },
  {
   "cell_type": "code",
   "execution_count": 23,
   "id": "4151f8ef-7b68-42c5-97c8-c704df90c102",
   "metadata": {},
   "outputs": [
    {
     "data": {
      "text/plain": [
       "'# Enable Powerlevel10k instant prompt. Should stay close to the top of ~/.zshrc.\\n# Initialization code that may require console input (password prompts, [y/n]\\n# confirmations, etc.) must go above this'"
      ]
     },
     "execution_count": 23,
     "metadata": {},
     "output_type": "execute_result"
    }
   ],
   "source": [
    "filename = '../../.zshrc'\n",
    "open(filename).read()[:200]"
   ]
  },
  {
   "cell_type": "code",
   "execution_count": null,
   "id": "d00401e1-5414-4e34-8883-fcd67e92c236",
   "metadata": {},
   "outputs": [],
   "source": []
  }
 ],
 "metadata": {
  "kernelspec": {
   "display_name": "Python 3 (ipykernel)",
   "language": "python",
   "name": "python3"
  },
  "language_info": {
   "codemirror_mode": {
    "name": "ipython",
    "version": 3
   },
   "file_extension": ".py",
   "mimetype": "text/x-python",
   "name": "python",
   "nbconvert_exporter": "python",
   "pygments_lexer": "ipython3",
   "version": "3.13.0"
  }
 },
 "nbformat": 4,
 "nbformat_minor": 5
}
