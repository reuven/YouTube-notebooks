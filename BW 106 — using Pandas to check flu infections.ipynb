{
 "cells": [
  {
   "cell_type": "code",
   "execution_count": 2,
   "id": "54162876-8803-4fb6-bac4-5194cc27777a",
   "metadata": {},
   "outputs": [],
   "source": [
    "filename = '/Users/reuven/BambooWeekly/notebooks/data/VIW_FID.zip'\n",
    "\n",
    "import pandas as pd"
   ]
  },
  {
   "cell_type": "code",
   "execution_count": 8,
   "id": "e29fc90a-228d-4e3b-b182-e9915aec86a2",
   "metadata": {},
   "outputs": [],
   "source": [
    "# Create the data frame. Make sure that the ISO_WEEKSTARTDATE column is a datetime.\n",
    "\n",
    "df = pd.read_csv(filename, low_memory=False,\n",
    "                 parse_dates=['ISO_WEEKSTARTDATE'])"
   ]
  },
  {
   "cell_type": "code",
   "execution_count": 9,
   "id": "b4f1cd51-9903-4c7d-b276-a9a29d1a0c56",
   "metadata": {},
   "outputs": [
    {
     "data": {
      "text/plain": [
       "0         2018-07-09\n",
       "1         2018-07-16\n",
       "2         2019-07-01\n",
       "3         2018-02-12\n",
       "4         2019-02-18\n",
       "             ...    \n",
       "1123353   2024-02-19\n",
       "1123354   2024-02-26\n",
       "1123355   2024-03-04\n",
       "1123356   2024-03-11\n",
       "1123357   2024-03-18\n",
       "Name: ISO_WEEKSTARTDATE, Length: 1123358, dtype: datetime64[ns]"
      ]
     },
     "execution_count": 9,
     "metadata": {},
     "output_type": "execute_result"
    }
   ],
   "source": [
    "df['ISO_WEEKSTARTDATE']"
   ]
  },
  {
   "cell_type": "code",
   "execution_count": 12,
   "id": "cd88dfb3-8078-47c2-8c77-a5f7c21d3ef4",
   "metadata": {},
   "outputs": [],
   "source": [
    "df = pd.read_csv(filename, engine='pyarrow', parse_dates=['ISO_WEEKSTARTDATE'])"
   ]
  },
  {
   "cell_type": "code",
   "execution_count": 13,
   "id": "056151e4-1c30-45a5-9557-97d9c77e301d",
   "metadata": {},
   "outputs": [
    {
     "data": {
      "text/plain": [
       "0         2018-07-09\n",
       "1         2018-07-16\n",
       "2         2019-07-01\n",
       "3         2018-02-12\n",
       "4         2019-02-18\n",
       "             ...    \n",
       "1123353   2024-02-19\n",
       "1123354   2024-02-26\n",
       "1123355   2024-03-04\n",
       "1123356   2024-03-11\n",
       "1123357   2024-03-18\n",
       "Name: ISO_WEEKSTARTDATE, Length: 1123358, dtype: datetime64[ns]"
      ]
     },
     "execution_count": 13,
     "metadata": {},
     "output_type": "execute_result"
    }
   ],
   "source": [
    "df['ISO_WEEKSTARTDATE']"
   ]
  },
  {
   "cell_type": "code",
   "execution_count": 14,
   "id": "535b480d-8fac-4123-81a5-1e4d883f8eef",
   "metadata": {},
   "outputs": [
    {
     "data": {
      "text/plain": [
       "(1123358, 52)"
      ]
     },
     "execution_count": 14,
     "metadata": {},
     "output_type": "execute_result"
    }
   ],
   "source": [
    "df.shape"
   ]
  },
  {
   "cell_type": "code",
   "execution_count": 15,
   "id": "3d94fbfe-3fd1-4643-aef4-663c9bdfcf2b",
   "metadata": {},
   "outputs": [
    {
     "data": {
      "text/plain": [
       "Index(['WHOREGION', 'FLUSEASON', 'HEMISPHERE', 'ITZ', 'COUNTRY_CODE',\n",
       "       'COUNTRY_AREA_TERRITORY', 'ISO_WEEKSTARTDATE', 'ISO_YEAR', 'ISO_WEEK',\n",
       "       'MMWR_WEEKSTARTDATE', 'MMWR_YEAR', 'MMWR_WEEK', 'ORIGIN_SOURCE',\n",
       "       'AGEGROUP_CODE', 'CASE_INFO', 'REPORTED_CASES', 'OUTPATIENTS',\n",
       "       'INPATIENTS', 'POP_COV', 'INF_TESTED', 'INF_POS', 'INF_NEG', 'INF_A',\n",
       "       'INF_B', 'INF_MIXED', 'AH1', 'AH1N12009', 'AH3', 'AH5', 'AH7',\n",
       "       'ANOTSUBTYPED', 'AOTHERTYPES', 'BYAMAGATA', 'BVICTORIA',\n",
       "       'BNOTDETERMINED', 'OTHER', 'RSV', 'ADENO', 'PARAINFLUENZA', 'INF_RISK',\n",
       "       'GEOSPREAD', 'IMPACT', 'INTENSITY', 'TREND', 'GEOSPREAD_COMMENTS',\n",
       "       'COMMENTS', 'NB_SITES', 'MORTALITY_ALL', 'MORTALITY_PNI', 'ISO2',\n",
       "       'ISOYW', 'MMWRYW'],\n",
       "      dtype='object')"
      ]
     },
     "execution_count": 15,
     "metadata": {},
     "output_type": "execute_result"
    }
   ],
   "source": [
    "df.columns"
   ]
  },
  {
   "cell_type": "code",
   "execution_count": 20,
   "id": "c752b738-d717-4242-88f9-fc8f6436d779",
   "metadata": {},
   "outputs": [
    {
     "name": "stdout",
     "output_type": "stream",
     "text": [
      "434 ms ± 6.44 ms per loop (mean ± std. dev. of 7 runs, 1 loop each)\n"
     ]
    }
   ],
   "source": [
    "# %%timeit\n",
    "\n",
    "# In each quarter of our data set, starting in 2020, which country had the greatest number of deaths from \n",
    "# flu and flu-related viruses? Ignore weeks in which the maximum is 0.\n",
    "\n",
    "(\n",
    "    df\n",
    "    .set_index('ISO_WEEKSTARTDATE')\n",
    "    .sort_index()\n",
    "    .loc['2020':]\n",
    "    .reset_index()\n",
    ")"
   ]
  },
  {
   "cell_type": "code",
   "execution_count": 22,
   "id": "da9043c7-38dd-4694-983d-884b35c48097",
   "metadata": {},
   "outputs": [
    {
     "name": "stdout",
     "output_type": "stream",
     "text": [
      "104 ms ± 1.82 ms per loop (mean ± std. dev. of 7 runs, 10 loops each)\n"
     ]
    }
   ],
   "source": [
    "# %%timeit\n",
    "\n",
    "(\n",
    "    df\n",
    "    .loc[lambda df_: df_['ISO_WEEKSTARTDATE'].dt.year >= 2020]\n",
    ")"
   ]
  },
  {
   "cell_type": "code",
   "execution_count": 29,
   "id": "f798aca4-6d8a-4a45-9531-8ca61242641d",
   "metadata": {},
   "outputs": [
    {
     "data": {
      "text/html": [
       "<div>\n",
       "<style scoped>\n",
       "    .dataframe tbody tr th:only-of-type {\n",
       "        vertical-align: middle;\n",
       "    }\n",
       "\n",
       "    .dataframe tbody tr th {\n",
       "        vertical-align: top;\n",
       "    }\n",
       "\n",
       "    .dataframe thead th {\n",
       "        text-align: right;\n",
       "    }\n",
       "</style>\n",
       "<table border=\"1\" class=\"dataframe\">\n",
       "  <thead>\n",
       "    <tr style=\"text-align: right;\">\n",
       "      <th></th>\n",
       "      <th>max</th>\n",
       "      <th>idxmax</th>\n",
       "    </tr>\n",
       "    <tr>\n",
       "      <th>ISO_WEEKSTARTDATE</th>\n",
       "      <th></th>\n",
       "      <th></th>\n",
       "    </tr>\n",
       "  </thead>\n",
       "  <tbody>\n",
       "    <tr>\n",
       "      <th>2020-03-31</th>\n",
       "      <td>783968.0</td>\n",
       "      <td>United States of America</td>\n",
       "    </tr>\n",
       "    <tr>\n",
       "      <th>2020-06-30</th>\n",
       "      <td>841209.0</td>\n",
       "      <td>United States of America</td>\n",
       "    </tr>\n",
       "    <tr>\n",
       "      <th>2020-09-30</th>\n",
       "      <td>780022.0</td>\n",
       "      <td>United States of America</td>\n",
       "    </tr>\n",
       "    <tr>\n",
       "      <th>2020-12-31</th>\n",
       "      <td>941385.0</td>\n",
       "      <td>United States of America</td>\n",
       "    </tr>\n",
       "    <tr>\n",
       "      <th>2021-03-31</th>\n",
       "      <td>923401.0</td>\n",
       "      <td>United States of America</td>\n",
       "    </tr>\n",
       "    <tr>\n",
       "      <th>2021-06-30</th>\n",
       "      <td>747531.0</td>\n",
       "      <td>United States of America</td>\n",
       "    </tr>\n",
       "    <tr>\n",
       "      <th>2021-09-30</th>\n",
       "      <td>803331.0</td>\n",
       "      <td>United States of America</td>\n",
       "    </tr>\n",
       "    <tr>\n",
       "      <th>2021-12-31</th>\n",
       "      <td>897629.0</td>\n",
       "      <td>United States of America</td>\n",
       "    </tr>\n",
       "    <tr>\n",
       "      <th>2022-03-31</th>\n",
       "      <td>930896.0</td>\n",
       "      <td>United States of America</td>\n",
       "    </tr>\n",
       "    <tr>\n",
       "      <th>2022-06-30</th>\n",
       "      <td>745687.0</td>\n",
       "      <td>United States of America</td>\n",
       "    </tr>\n",
       "    <tr>\n",
       "      <th>2022-09-30</th>\n",
       "      <td>680880.0</td>\n",
       "      <td>United States of America</td>\n",
       "    </tr>\n",
       "    <tr>\n",
       "      <th>2022-12-31</th>\n",
       "      <td>823872.0</td>\n",
       "      <td>United States of America</td>\n",
       "    </tr>\n",
       "    <tr>\n",
       "      <th>2023-03-31</th>\n",
       "      <td>809972.0</td>\n",
       "      <td>United States of America</td>\n",
       "    </tr>\n",
       "    <tr>\n",
       "      <th>2023-06-30</th>\n",
       "      <td>736137.0</td>\n",
       "      <td>United States of America</td>\n",
       "    </tr>\n",
       "    <tr>\n",
       "      <th>2023-09-30</th>\n",
       "      <td>704903.0</td>\n",
       "      <td>United States of America</td>\n",
       "    </tr>\n",
       "    <tr>\n",
       "      <th>2023-12-31</th>\n",
       "      <td>780194.0</td>\n",
       "      <td>United States of America</td>\n",
       "    </tr>\n",
       "    <tr>\n",
       "      <th>2024-03-31</th>\n",
       "      <td>807582.0</td>\n",
       "      <td>United States of America</td>\n",
       "    </tr>\n",
       "    <tr>\n",
       "      <th>2024-06-30</th>\n",
       "      <td>738413.0</td>\n",
       "      <td>United States of America</td>\n",
       "    </tr>\n",
       "    <tr>\n",
       "      <th>2024-09-30</th>\n",
       "      <td>777357.0</td>\n",
       "      <td>United States of America</td>\n",
       "    </tr>\n",
       "    <tr>\n",
       "      <th>2024-12-31</th>\n",
       "      <td>674790.0</td>\n",
       "      <td>United States of America</td>\n",
       "    </tr>\n",
       "  </tbody>\n",
       "</table>\n",
       "</div>"
      ],
      "text/plain": [
       "                        max                    idxmax\n",
       "ISO_WEEKSTARTDATE                                    \n",
       "2020-03-31         783968.0  United States of America\n",
       "2020-06-30         841209.0  United States of America\n",
       "2020-09-30         780022.0  United States of America\n",
       "2020-12-31         941385.0  United States of America\n",
       "2021-03-31         923401.0  United States of America\n",
       "2021-06-30         747531.0  United States of America\n",
       "2021-09-30         803331.0  United States of America\n",
       "2021-12-31         897629.0  United States of America\n",
       "2022-03-31         930896.0  United States of America\n",
       "2022-06-30         745687.0  United States of America\n",
       "2022-09-30         680880.0  United States of America\n",
       "2022-12-31         823872.0  United States of America\n",
       "2023-03-31         809972.0  United States of America\n",
       "2023-06-30         736137.0  United States of America\n",
       "2023-09-30         704903.0  United States of America\n",
       "2023-12-31         780194.0  United States of America\n",
       "2024-03-31         807582.0  United States of America\n",
       "2024-06-30         738413.0  United States of America\n",
       "2024-09-30         777357.0  United States of America\n",
       "2024-12-31         674790.0  United States of America"
      ]
     },
     "execution_count": 29,
     "metadata": {},
     "output_type": "execute_result"
    }
   ],
   "source": [
    "(\n",
    "    df\n",
    "    .loc[lambda df_: df_['ISO_WEEKSTARTDATE'].dt.year >= 2020]\n",
    "    .pivot_table(index=pd.Grouper(key='ISO_WEEKSTARTDATE', freq='1QE'),\n",
    "                 columns='COUNTRY_AREA_TERRITORY',\n",
    "                 values='MORTALITY_ALL',\n",
    "                 aggfunc='sum')\n",
    "    .agg(['max', 'idxmax'], axis='columns')\n",
    "    .loc[lambda df_: df_['max'] > 0]\n",
    ")"
   ]
  },
  {
   "cell_type": "code",
   "execution_count": null,
   "id": "795c598d-c161-4dae-bcce-c61728619ae0",
   "metadata": {},
   "outputs": [],
   "source": []
  }
 ],
 "metadata": {
  "kernelspec": {
   "display_name": "Python 3 (ipykernel)",
   "language": "python",
   "name": "python3"
  },
  "language_info": {
   "codemirror_mode": {
    "name": "ipython",
    "version": 3
   },
   "file_extension": ".py",
   "mimetype": "text/x-python",
   "name": "python",
   "nbconvert_exporter": "python",
   "pygments_lexer": "ipython3",
   "version": "3.13.2"
  }
 },
 "nbformat": 4,
 "nbformat_minor": 5
}
