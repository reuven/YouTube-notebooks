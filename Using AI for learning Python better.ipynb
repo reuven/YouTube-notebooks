{
 "cells": [
  {
   "cell_type": "markdown",
   "id": "132ef15a-3514-43f9-8714-8fa1ee922509",
   "metadata": {},
   "source": [
    "# 10 ways that AI chatbots can help you to learn Python better"
   ]
  },
  {
   "cell_type": "markdown",
   "id": "825a1ab6-e4ca-4f93-9b7f-230107b5c305",
   "metadata": {},
   "source": [
    "# Exercise: Guessing game\n",
    "\n",
    "1. Assign an integer from 0-100 to the variable `number`.\n",
    "2. Ask the user to enter a guess, and assign to `guess`.\n",
    "3. Based on the user's input, print one of the following:\n",
    "    - You got it!\n",
    "    - Too low!\n",
    "    - Too high!"
   ]
  },
  {
   "cell_type": "markdown",
   "id": "c43f4f25-b786-446a-917d-d389fbb6087d",
   "metadata": {},
   "source": [
    "# Exercise: Pig Latin (one word)\n",
    "\n",
    "1. Ask the user to enter a single word, all lowercase, no punctuation.\n",
    "2. Check the first letter:\n",
    "     - If the first letter is a vowel (a, e, i, o, u) then add `way` to the word\n",
    "     - Otherwise, move the first letter to the end, and add `ay`."
   ]
  },
  {
   "cell_type": "markdown",
   "id": "86cdb83f-772a-4387-a952-8cce1d71e553",
   "metadata": {},
   "source": [
    "# 1. Strategy session\n",
    "\n",
    "Before writing any code, run your strategy by the chatbot. Don't have it write code for you."
   ]
  },
  {
   "cell_type": "markdown",
   "id": "99912460-16d3-4cd8-a468-803bcfe04e64",
   "metadata": {},
   "source": [
    "# 2. Teaching back\n",
    "\n",
    "Explain to the chatbot why/how working code actually works."
   ]
  },
  {
   "cell_type": "markdown",
   "id": "dd28555b-78ee-40a0-96e8-3a19923736f1",
   "metadata": {},
   "source": [
    "# 3. Specify and compare\n",
    "\n",
    "Solve a problem. Ask the chatbot to solve the same problem by feeding in the same specs. Compare the code that you wrote with its code."
   ]
  },
  {
   "cell_type": "markdown",
   "id": "4760daae-b983-471c-b1a6-cdc14dbaa75b",
   "metadata": {},
   "source": [
    "# 4. Interview\n",
    "\n",
    "Take some working code, and ask the chatbot to interview you about it, asking repeated questions."
   ]
  },
  {
   "cell_type": "markdown",
   "id": "407d52b3-06d3-4a33-8263-0f774606043b",
   "metadata": {},
   "source": [
    "# 5. Add a bug\n",
    "\n",
    "Take working code, and add a bug to it. Ask the chatbot to find the bug."
   ]
  },
  {
   "cell_type": "markdown",
   "id": "099d09d2-d846-486b-8cba-0fd74f76dd2f",
   "metadata": {},
   "source": [
    "# 6. Find the bug\n",
    "\n",
    "Ask the chatbot to add a bug to the code, and see if you can find it."
   ]
  },
  {
   "cell_type": "markdown",
   "id": "76efc838-99f8-46a5-bdf7-e8962848f8dd",
   "metadata": {},
   "source": [
    "# 7. Reverse Socratic method\n",
    "\n"
   ]
  },
  {
   "cell_type": "markdown",
   "id": "b199bdac-1056-4ec9-863c-32ab8c74e37e",
   "metadata": {},
   "source": [
    "# 8. Rubber duck programming\n",
    "\n"
   ]
  },
  {
   "cell_type": "markdown",
   "id": "40c6d712-e03f-45b5-842a-ae5a8e74caed",
   "metadata": {},
   "source": [
    "# 9. Error archaeology\n",
    "\n",
    "I show code and an error (traceback) and I tell the chatbot why I think the error occured."
   ]
  },
  {
   "cell_type": "code",
   "execution_count": 2,
   "id": "06f93e95-b615-43f4-bd74-c87b3b476fc7",
   "metadata": {},
   "outputs": [
    {
     "name": "stdin",
     "output_type": "stream",
     "text": [
      "Enter a word:  \n"
     ]
    },
    {
     "ename": "IndexError",
     "evalue": "string index out of range",
     "output_type": "error",
     "traceback": [
      "\u001b[31m---------------------------------------------------------------------------\u001b[39m",
      "\u001b[31mIndexError\u001b[39m                                Traceback (most recent call last)",
      "\u001b[36mCell\u001b[39m\u001b[36m \u001b[39m\u001b[32mIn[2]\u001b[39m\u001b[32m, line 3\u001b[39m\n\u001b[32m      1\u001b[39m word = \u001b[38;5;28minput\u001b[39m(\u001b[33m'\u001b[39m\u001b[33mEnter a word: \u001b[39m\u001b[33m'\u001b[39m).strip()\n\u001b[32m----> \u001b[39m\u001b[32m3\u001b[39m \u001b[38;5;28;01mif\u001b[39;00m \u001b[43mword\u001b[49m\u001b[43m[\u001b[49m\u001b[32;43m0\u001b[39;49m\u001b[43m]\u001b[49m \u001b[38;5;129;01min\u001b[39;00m \u001b[33m'\u001b[39m\u001b[33maeiou\u001b[39m\u001b[33m'\u001b[39m:\n\u001b[32m      4\u001b[39m     \u001b[38;5;28mprint\u001b[39m(word + \u001b[33m'\u001b[39m\u001b[33mway\u001b[39m\u001b[33m'\u001b[39m)\n\u001b[32m      5\u001b[39m \u001b[38;5;28;01melse\u001b[39;00m:\n",
      "\u001b[31mIndexError\u001b[39m: string index out of range"
     ]
    }
   ],
   "source": [
    "word = input('Enter a word: ').strip()\n",
    "\n",
    "if word[0] in 'aeiou':\n",
    "    print(word + 'way')\n",
    "else:\n",
    "    print(word[1:] + word[0] + 'ay')"
   ]
  },
  {
   "cell_type": "markdown",
   "id": "e17bc5d7-3bc3-444f-9e11-50bfba594c6f",
   "metadata": {},
   "source": [
    "# 10. Code review\n",
    "\n",
    "Show the chatbot our code, and ask for it to respond as a senior developer."
   ]
  },
  {
   "cell_type": "code",
   "execution_count": null,
   "id": "e8ef6507-ae62-4abe-87c8-1434e2e42f14",
   "metadata": {},
   "outputs": [],
   "source": []
  }
 ],
 "metadata": {
  "kernelspec": {
   "display_name": "Python 3 (ipykernel)",
   "language": "python",
   "name": "python3"
  },
  "language_info": {
   "codemirror_mode": {
    "name": "ipython",
    "version": 3
   },
   "file_extension": ".py",
   "mimetype": "text/x-python",
   "name": "python",
   "nbconvert_exporter": "python",
   "pygments_lexer": "ipython3",
   "version": "3.13.2"
  }
 },
 "nbformat": 4,
 "nbformat_minor": 5
}
