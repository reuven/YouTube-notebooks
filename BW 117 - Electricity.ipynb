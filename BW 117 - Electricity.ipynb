{
 "cells": [
  {
   "cell_type": "code",
   "execution_count": 19,
   "id": "ab81cb63-c46e-4272-82ef-8555f8edddf7",
   "metadata": {},
   "outputs": [],
   "source": [
    "import pandas as pd\n",
    "\n",
    "filename = '/Users/reuven/BambooWeekly/notebooks/data/bw-117-mes-0125.csv'"
   ]
  },
  {
   "cell_type": "markdown",
   "id": "8588168f-5959-4d76-8df6-9a38420a7bad",
   "metadata": {},
   "source": [
    "# Import the CSV file into a data frame. Make sure that the Time column is treated as a datetime value. Remove rows in which the Country column is from the OECD or IEA."
   ]
  },
  {
   "cell_type": "code",
   "execution_count": 28,
   "id": "18af50a0-1b7d-42f5-b8d9-7dee16739543",
   "metadata": {
    "scrolled": true
   },
   "outputs": [
    {
     "data": {
      "text/html": [
       "<div>\n",
       "<style scoped>\n",
       "    .dataframe tbody tr th:only-of-type {\n",
       "        vertical-align: middle;\n",
       "    }\n",
       "\n",
       "    .dataframe tbody tr th {\n",
       "        vertical-align: top;\n",
       "    }\n",
       "\n",
       "    .dataframe thead th {\n",
       "        text-align: right;\n",
       "    }\n",
       "</style>\n",
       "<table border=\"1\" class=\"dataframe\">\n",
       "  <thead>\n",
       "    <tr style=\"text-align: right;\">\n",
       "      <th></th>\n",
       "      <th>Country</th>\n",
       "      <th>Time</th>\n",
       "      <th>Balance</th>\n",
       "      <th>Product</th>\n",
       "      <th>Value</th>\n",
       "      <th>Unit</th>\n",
       "    </tr>\n",
       "  </thead>\n",
       "  <tbody>\n",
       "    <tr>\n",
       "      <th>0</th>\n",
       "      <td>Australia</td>\n",
       "      <td>2025-01-01</td>\n",
       "      <td>Net Electricity Production</td>\n",
       "      <td>Electricity</td>\n",
       "      <td>24339.7201</td>\n",
       "      <td>GWh</td>\n",
       "    </tr>\n",
       "    <tr>\n",
       "      <th>1</th>\n",
       "      <td>Australia</td>\n",
       "      <td>2025-01-01</td>\n",
       "      <td>Net Electricity Production</td>\n",
       "      <td>Hydro</td>\n",
       "      <td>934.8261</td>\n",
       "      <td>GWh</td>\n",
       "    </tr>\n",
       "    <tr>\n",
       "      <th>2</th>\n",
       "      <td>Australia</td>\n",
       "      <td>2025-01-01</td>\n",
       "      <td>Net Electricity Production</td>\n",
       "      <td>Total Combustible Fuels</td>\n",
       "      <td>13845.2112</td>\n",
       "      <td>GWh</td>\n",
       "    </tr>\n",
       "    <tr>\n",
       "      <th>3</th>\n",
       "      <td>Australia</td>\n",
       "      <td>2025-01-01</td>\n",
       "      <td>Net Electricity Production</td>\n",
       "      <td>Coal, Peat and Manufactured Gases</td>\n",
       "      <td>9948.2225</td>\n",
       "      <td>GWh</td>\n",
       "    </tr>\n",
       "    <tr>\n",
       "      <th>4</th>\n",
       "      <td>Australia</td>\n",
       "      <td>2025-01-01</td>\n",
       "      <td>Net Electricity Production</td>\n",
       "      <td>Oil and Petroleum Products</td>\n",
       "      <td>318.1188</td>\n",
       "      <td>GWh</td>\n",
       "    </tr>\n",
       "    <tr>\n",
       "      <th>...</th>\n",
       "      <td>...</td>\n",
       "      <td>...</td>\n",
       "      <td>...</td>\n",
       "      <td>...</td>\n",
       "      <td>...</td>\n",
       "      <td>...</td>\n",
       "    </tr>\n",
       "    <tr>\n",
       "      <th>149009</th>\n",
       "      <td>United States</td>\n",
       "      <td>2010-01-01</td>\n",
       "      <td>Total Exports</td>\n",
       "      <td>Electricity</td>\n",
       "      <td>996.5670</td>\n",
       "      <td>GWh</td>\n",
       "    </tr>\n",
       "    <tr>\n",
       "      <th>149010</th>\n",
       "      <td>United States</td>\n",
       "      <td>2010-01-01</td>\n",
       "      <td>Used for pumped storage</td>\n",
       "      <td>Electricity</td>\n",
       "      <td>2283.3220</td>\n",
       "      <td>GWh</td>\n",
       "    </tr>\n",
       "    <tr>\n",
       "      <th>149011</th>\n",
       "      <td>United States</td>\n",
       "      <td>2010-01-01</td>\n",
       "      <td>Distribution Losses</td>\n",
       "      <td>Electricity</td>\n",
       "      <td>22933.2970</td>\n",
       "      <td>GWh</td>\n",
       "    </tr>\n",
       "    <tr>\n",
       "      <th>149012</th>\n",
       "      <td>United States</td>\n",
       "      <td>2010-01-01</td>\n",
       "      <td>Final Consumption (Calculated)</td>\n",
       "      <td>Electricity</td>\n",
       "      <td>343866.4180</td>\n",
       "      <td>GWh</td>\n",
       "    </tr>\n",
       "    <tr>\n",
       "      <th>149013</th>\n",
       "      <td>United States</td>\n",
       "      <td>2010-01-01</td>\n",
       "      <td>Net Electricity Production</td>\n",
       "      <td>Wind</td>\n",
       "      <td>6964.9640</td>\n",
       "      <td>GWh</td>\n",
       "    </tr>\n",
       "  </tbody>\n",
       "</table>\n",
       "<p>131172 rows × 6 columns</p>\n",
       "</div>"
      ],
      "text/plain": [
       "              Country       Time                         Balance  \\\n",
       "0           Australia 2025-01-01      Net Electricity Production   \n",
       "1           Australia 2025-01-01      Net Electricity Production   \n",
       "2           Australia 2025-01-01      Net Electricity Production   \n",
       "3           Australia 2025-01-01      Net Electricity Production   \n",
       "4           Australia 2025-01-01      Net Electricity Production   \n",
       "...               ...        ...                             ...   \n",
       "149009  United States 2010-01-01                   Total Exports   \n",
       "149010  United States 2010-01-01         Used for pumped storage   \n",
       "149011  United States 2010-01-01             Distribution Losses   \n",
       "149012  United States 2010-01-01  Final Consumption (Calculated)   \n",
       "149013  United States 2010-01-01      Net Electricity Production   \n",
       "\n",
       "                                  Product        Value Unit  \n",
       "0                             Electricity   24339.7201  GWh  \n",
       "1                                   Hydro     934.8261  GWh  \n",
       "2                 Total Combustible Fuels   13845.2112  GWh  \n",
       "3       Coal, Peat and Manufactured Gases    9948.2225  GWh  \n",
       "4              Oil and Petroleum Products     318.1188  GWh  \n",
       "...                                   ...          ...  ...  \n",
       "149009                        Electricity     996.5670  GWh  \n",
       "149010                        Electricity    2283.3220  GWh  \n",
       "149011                        Electricity   22933.2970  GWh  \n",
       "149012                        Electricity  343866.4180  GWh  \n",
       "149013                               Wind    6964.9640  GWh  \n",
       "\n",
       "[131172 rows x 6 columns]"
      ]
     },
     "execution_count": 28,
     "metadata": {},
     "output_type": "execute_result"
    }
   ],
   "source": [
    "df = (pd\n",
    "      .read_csv(filename,\n",
    "               encoding='Latin-1',\n",
    "               header=8,\n",
    "               parse_dates=['Time'],\n",
    "               date_format='%B %Y')\n",
    "      .loc[lambda df_: ~df_['Country'].str.contains('OECD|IEA')]\n",
    "     )\n",
    "\n",
    "df"
   ]
  },
  {
   "cell_type": "code",
   "execution_count": 29,
   "id": "09801b7f-5219-4cb8-9d5d-396e57eb4436",
   "metadata": {
    "scrolled": true
   },
   "outputs": [
    {
     "data": {
      "text/plain": [
       "Country            object\n",
       "Time       datetime64[ns]\n",
       "Balance            object\n",
       "Product            object\n",
       "Value             float64\n",
       "Unit               object\n",
       "dtype: object"
      ]
     },
     "execution_count": 29,
     "metadata": {},
     "output_type": "execute_result"
    }
   ],
   "source": [
    "df.dtypes"
   ]
  },
  {
   "cell_type": "code",
   "execution_count": 30,
   "id": "9cc89fde-ae3b-4b8a-909d-979bf4ead739",
   "metadata": {},
   "outputs": [
    {
     "data": {
      "text/plain": [
       "(131172, 6)"
      ]
     },
     "execution_count": 30,
     "metadata": {},
     "output_type": "execute_result"
    }
   ],
   "source": [
    "df.shape"
   ]
  },
  {
   "cell_type": "markdown",
   "id": "dac14be4-61df-4e05-829f-2c2da0db2577",
   "metadata": {},
   "source": [
    "# Create a bar plot showing the 10 countries that had the greatest total net electricity production in 2025."
   ]
  },
  {
   "cell_type": "code",
   "execution_count": 35,
   "id": "0184ced1-cb38-4a3b-9a5f-519003eb4be6",
   "metadata": {},
   "outputs": [
    {
     "data": {
      "text/plain": [
       "<Axes: xlabel='Country'>"
      ]
     },
     "execution_count": 35,
     "metadata": {},
     "output_type": "execute_result"
    },
    {
     "data": {
      "image/png": "[encoded data removed]",
      "text/plain": [
       "<Figure size 640x480 with 1 Axes>"
      ]
     },
     "metadata": {},
     "output_type": "display_data"
    }
   ],
   "source": [
    "(\n",
    "    df\n",
    "    .loc[lambda df_: df_['Time'].dt.year == 2025]\n",
    "    .loc[lambda df_: df_['Balance'] == 'Net Electricity Production']\n",
    "    .loc[lambda df_: ~df_['Product'].str.contains('Total')]\n",
    "    .groupby('Country')['Value'].sum()\n",
    "    .nlargest(10)\n",
    "    .plot.bar()\n",
    ")"
   ]
  },
  {
   "cell_type": "code",
   "execution_count": null,
   "id": "664174b1-ce7a-4a6e-8dec-256a2566b8cc",
   "metadata": {},
   "outputs": [],
   "source": []
  }
 ],
 "metadata": {
  "kernelspec": {
   "display_name": "Python 3 (ipykernel)",
   "language": "python",
   "name": "python3"
  },
  "language_info": {
   "codemirror_mode": {
    "name": "ipython",
    "version": 3
   },
   "file_extension": ".py",
   "mimetype": "text/x-python",
   "name": "python",
   "nbconvert_exporter": "python",
   "pygments_lexer": "ipython3",
   "version": "3.13.2"
  }
 },
 "nbformat": 4,
 "nbformat_minor": 5
}
