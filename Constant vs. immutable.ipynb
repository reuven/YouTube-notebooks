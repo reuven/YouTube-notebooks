{
 "cells": [
  {
   "cell_type": "markdown",
   "id": "74fc2130-41b6-4b6a-994a-781c3ff83fd2",
   "metadata": {},
   "source": [
    "# Immutable values vs. constants"
   ]
  },
  {
   "cell_type": "code",
   "execution_count": 7,
   "id": "7ab09fd9-624c-4688-9272-e22d1d91e525",
   "metadata": {},
   "outputs": [
    {
     "ename": "TypeError",
     "evalue": "'str' object does not support item assignment",
     "output_type": "error",
     "traceback": [
      "\u001b[0;31m---------------------------------------------------------------------------\u001b[0m",
      "\u001b[0;31mTypeError\u001b[0m                                 Traceback (most recent call last)",
      "Cell \u001b[0;32mIn[7], line 7\u001b[0m\n\u001b[1;32m      1\u001b[0m s \u001b[38;5;241m=\u001b[39m \u001b[38;5;124m'\u001b[39m\u001b[38;5;124mabcde\u001b[39m\u001b[38;5;124m'\u001b[39m\n\u001b[1;32m      3\u001b[0m \u001b[38;5;66;03m# s (the variable) refers to 'abcde' (the string value)\u001b[39;00m\n\u001b[1;32m      4\u001b[0m \n\u001b[1;32m      5\u001b[0m \u001b[38;5;66;03m# can I change that value? The answer: No, because strings are immutable; they cannot be changed.\u001b[39;00m\n\u001b[0;32m----> 7\u001b[0m \u001b[43ms\u001b[49m\u001b[43m[\u001b[49m\u001b[38;5;241;43m0\u001b[39;49m\u001b[43m]\u001b[49m \u001b[38;5;241m=\u001b[39m \u001b[38;5;124m'\u001b[39m\u001b[38;5;124m!\u001b[39m\u001b[38;5;124m'\u001b[39m\n",
      "\u001b[0;31mTypeError\u001b[0m: 'str' object does not support item assignment"
     ]
    }
   ],
   "source": [
    "s = 'abcde'\n",
    "\n",
    "# s (the variable) refers to 'abcde' (the string value)\n",
    "\n",
    "# can I change that value? The answer: No, because strings are immutable; they cannot be changed.\n",
    "\n",
    "s[0] = '!'"
   ]
  },
  {
   "cell_type": "code",
   "execution_count": 8,
   "id": "86e350ad-8f10-4386-8c5c-988f41dc4c3a",
   "metadata": {},
   "outputs": [
    {
     "data": {
      "text/plain": [
       "'ABCDE'"
      ]
     },
     "execution_count": 8,
     "metadata": {},
     "output_type": "execute_result"
    }
   ],
   "source": [
    "# immutable means: Without assigning (or re-assigning) to the variable s, we can change the value of what it refers to\n",
    "\n",
    "s.upper()"
   ]
  },
  {
   "cell_type": "code",
   "execution_count": 9,
   "id": "36589b4b-2b84-49e2-9b6b-69dcad40baa4",
   "metadata": {},
   "outputs": [
    {
     "data": {
      "text/plain": [
       "'abcde'"
      ]
     },
     "execution_count": 9,
     "metadata": {},
     "output_type": "execute_result"
    }
   ],
   "source": [
    "s"
   ]
  },
  {
   "cell_type": "code",
   "execution_count": 10,
   "id": "c3f54b20-ac73-4441-9e66-9b51f98174a6",
   "metadata": {},
   "outputs": [
    {
     "data": {
      "text/plain": [
       "'cd'"
      ]
     },
     "execution_count": 10,
     "metadata": {},
     "output_type": "execute_result"
    }
   ],
   "source": [
    "s[2:4]"
   ]
  },
  {
   "cell_type": "markdown",
   "id": "b1874911-5a9b-40b3-9336-3a9f8d388f92",
   "metadata": {},
   "source": [
    "# Other immutable types in Python:\n",
    "\n",
    "- `None`\n",
    "- booleans (`True` and `False`)\n",
    "- integers and floats\n",
    "- strings\n",
    "- tuples\n",
    "\n",
    "In all of these cases, once you assign a value to a variable, the variable will continue to reflect that value, unchanged, until you assign something new to it."
   ]
  },
  {
   "cell_type": "markdown",
   "id": "ca26abe2-621b-4623-b314-1ea3067b0e4f",
   "metadata": {},
   "source": [
    "# Constants\n",
    "\n",
    "A constant is a \"variable\" that once assigned can never be re-assigned.\n"
   ]
  },
  {
   "cell_type": "code",
   "execution_count": 11,
   "id": "15299716-481e-4357-b6aa-dcc69c7f8d6f",
   "metadata": {},
   "outputs": [],
   "source": [
    "PI = 3.14159"
   ]
  },
  {
   "cell_type": "code",
   "execution_count": 12,
   "id": "f8b1f07f-5265-4462-86f6-f6c3beb46d88",
   "metadata": {},
   "outputs": [],
   "source": [
    "PI = 4"
   ]
  },
  {
   "cell_type": "markdown",
   "id": "60731aac-996e-4303-afcb-2589345f015a",
   "metadata": {},
   "source": [
    "Python doesn't really have constants. They are 100% a convention that we adhere to."
   ]
  },
  {
   "cell_type": "code",
   "execution_count": null,
   "id": "8fea075d-a4c6-409f-b63d-fc1923e4072a",
   "metadata": {},
   "outputs": [],
   "source": []
  }
 ],
 "metadata": {
  "kernelspec": {
   "display_name": "Python 3 (ipykernel)",
   "language": "python",
   "name": "python3"
  },
  "language_info": {
   "codemirror_mode": {
    "name": "ipython",
    "version": 3
   },
   "file_extension": ".py",
   "mimetype": "text/x-python",
   "name": "python",
   "nbconvert_exporter": "python",
   "pygments_lexer": "ipython3",
   "version": "3.13.1"
  }
 },
 "nbformat": 4,
 "nbformat_minor": 5
}
