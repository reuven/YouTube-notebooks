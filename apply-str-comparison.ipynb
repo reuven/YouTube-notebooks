{
 "cells": [
  {
   "cell_type": "code",
   "execution_count": 1,
   "id": "fb7b1870-e154-4fff-9df2-65a1295aff8c",
   "metadata": {},
   "outputs": [],
   "source": [
    "import pandas as pd\n",
    "\n",
    "filename = 'words.txt'"
   ]
  },
  {
   "cell_type": "code",
   "execution_count": 2,
   "id": "f221124f-847d-48f4-93c0-4d6d2cf96b00",
   "metadata": {},
   "outputs": [],
   "source": [
    "s = pd.Series([one_word.strip()\n",
    "               for one_word in open(filename)])"
   ]
  },
  {
   "cell_type": "code",
   "execution_count": 3,
   "id": "4685112a-0f3f-4795-9ac3-b037f0030bde",
   "metadata": {},
   "outputs": [
    {
     "data": {
      "text/plain": [
       "0        A\n",
       "1        a\n",
       "2       aa\n",
       "3      aal\n",
       "4    aalii\n",
       "dtype: object"
      ]
     },
     "execution_count": 3,
     "metadata": {},
     "output_type": "execute_result"
    }
   ],
   "source": [
    "s.head()"
   ]
  },
  {
   "cell_type": "code",
   "execution_count": 4,
   "id": "2fd5f465-73ed-45ef-b1bd-be4b113d0557",
   "metadata": {},
   "outputs": [
    {
     "data": {
      "text/plain": [
       "235886"
      ]
     },
     "execution_count": 4,
     "metadata": {},
     "output_type": "execute_result"
    }
   ],
   "source": [
    "len(s)"
   ]
  },
  {
   "cell_type": "code",
   "execution_count": 6,
   "id": "c0e19720-7bf3-42a0-9b02-55c5a5bd3e98",
   "metadata": {},
   "outputs": [
    {
     "name": "stdout",
     "output_type": "stream",
     "text": [
      "51 ms ± 761 μs per loop (mean ± std. dev. of 7 runs, 10 loops each)\n"
     ]
    }
   ],
   "source": [
    "# I want to get the length of each word in this series. How can I do that?\n",
    "\n",
    "%timeit s.apply(len)"
   ]
  },
  {
   "cell_type": "code",
   "execution_count": 7,
   "id": "f618292b-8a5a-4820-ae3b-00e5071cb567",
   "metadata": {},
   "outputs": [
    {
     "name": "stdout",
     "output_type": "stream",
     "text": [
      "45.1 ms ± 436 μs per loop (mean ± std. dev. of 7 runs, 10 loops each)\n"
     ]
    }
   ],
   "source": [
    "%timeit s.str.len()"
   ]
  },
  {
   "cell_type": "code",
   "execution_count": 8,
   "id": "2ecb4c30-6a82-489b-83fd-8d05214abd63",
   "metadata": {},
   "outputs": [
    {
     "data": {
      "text/plain": [
       "0.8823529411764706"
      ]
     },
     "execution_count": 8,
     "metadata": {},
     "output_type": "execute_result"
    }
   ],
   "source": [
    "45 / 51"
   ]
  },
  {
   "cell_type": "code",
   "execution_count": 9,
   "id": "865b2f5a-e1ac-4bb7-9597-84dfc4c7d6eb",
   "metadata": {},
   "outputs": [
    {
     "name": "stdout",
     "output_type": "stream",
     "text": [
      "22.4 ms ± 548 μs per loop (mean ± std. dev. of 7 runs, 10 loops each)\n"
     ]
    }
   ],
   "source": [
    "# what about getting the first character from the string?\n",
    "\n",
    "%timeit s.apply(lambda x: x[0])"
   ]
  },
  {
   "cell_type": "code",
   "execution_count": 10,
   "id": "cf5d041d-fca9-413a-80f2-4a48f8755228",
   "metadata": {},
   "outputs": [
    {
     "name": "stdout",
     "output_type": "stream",
     "text": [
      "45 ms ± 450 μs per loop (mean ± std. dev. of 7 runs, 10 loops each)\n"
     ]
    }
   ],
   "source": [
    "%timeit s.str.get(0)"
   ]
  },
  {
   "cell_type": "code",
   "execution_count": 11,
   "id": "2488b4bf-5884-4c79-8fe7-5c29042adf1f",
   "metadata": {},
   "outputs": [
    {
     "name": "stdout",
     "output_type": "stream",
     "text": [
      "40.1 ms ± 111 μs per loop (mean ± std. dev. of 7 runs, 10 loops each)\n"
     ]
    }
   ],
   "source": [
    "# what about getting the first 3 characters?\n",
    "\n",
    "%timeit s.apply(lambda x: x[:3])"
   ]
  },
  {
   "cell_type": "code",
   "execution_count": 12,
   "id": "c7460a34-eb1d-4eb7-bd72-f97ff4189340",
   "metadata": {},
   "outputs": [
    {
     "name": "stdout",
     "output_type": "stream",
     "text": [
      "32.8 ms ± 163 μs per loop (mean ± std. dev. of 7 runs, 10 loops each)\n"
     ]
    }
   ],
   "source": [
    "%timeit s.str.slice(0, 3)"
   ]
  },
  {
   "cell_type": "code",
   "execution_count": 13,
   "id": "5bd9482a-3d3c-4873-9106-c9d66ba3976c",
   "metadata": {},
   "outputs": [
    {
     "data": {
      "text/plain": [
       "0.8"
      ]
     },
     "execution_count": 13,
     "metadata": {},
     "output_type": "execute_result"
    }
   ],
   "source": [
    "32 / 40"
   ]
  },
  {
   "cell_type": "code",
   "execution_count": 14,
   "id": "25de6af9-0672-499c-9bb4-149a54870d03",
   "metadata": {},
   "outputs": [
    {
     "data": {
      "text/plain": [
       "dtype('O')"
      ]
     },
     "execution_count": 14,
     "metadata": {},
     "output_type": "execute_result"
    }
   ],
   "source": [
    "s.dtype"
   ]
  },
  {
   "cell_type": "code",
   "execution_count": 15,
   "id": "6d7b68f0-3e75-4736-9f14-43eabcc0e116",
   "metadata": {},
   "outputs": [
    {
     "data": {
      "text/plain": [
       "0    10\n",
       "1    20\n",
       "2    30\n",
       "3    40\n",
       "4    50\n",
       "dtype: int64"
      ]
     },
     "execution_count": 15,
     "metadata": {},
     "output_type": "execute_result"
    }
   ],
   "source": [
    "my_series = pd.Series([10, 20, 30, 40, 50])\n",
    "my_series"
   ]
  },
  {
   "cell_type": "code",
   "execution_count": 16,
   "id": "4d2b7f6a-4713-4f06-915f-41e08134df36",
   "metadata": {},
   "outputs": [],
   "source": [
    "# PyArrow \n",
    "\n",
    "s = pd.Series([one_word.strip()\n",
    "               for one_word in open(filename)], dtype='string[pyarrow]')"
   ]
  },
  {
   "cell_type": "code",
   "execution_count": 17,
   "id": "1085ab28-90e4-440e-8971-11b297339208",
   "metadata": {},
   "outputs": [
    {
     "data": {
      "text/plain": [
       "string[pyarrow]"
      ]
     },
     "execution_count": 17,
     "metadata": {},
     "output_type": "execute_result"
    }
   ],
   "source": [
    "s.dtype"
   ]
  },
  {
   "cell_type": "code",
   "execution_count": 18,
   "id": "11e552dc-0faa-46c7-8ab1-3535715ca4a0",
   "metadata": {},
   "outputs": [
    {
     "name": "stdout",
     "output_type": "stream",
     "text": [
      "65 ms ± 503 μs per loop (mean ± std. dev. of 7 runs, 10 loops each)\n"
     ]
    }
   ],
   "source": [
    "%timeit s.apply(len)"
   ]
  },
  {
   "cell_type": "code",
   "execution_count": 19,
   "id": "27885210-e22c-4158-af8a-d5115bce90ef",
   "metadata": {},
   "outputs": [
    {
     "name": "stdout",
     "output_type": "stream",
     "text": [
      "2.45 ms ± 20.7 μs per loop (mean ± std. dev. of 7 runs, 100 loops each)\n"
     ]
    }
   ],
   "source": [
    "%timeit s.str.len()"
   ]
  },
  {
   "cell_type": "code",
   "execution_count": 20,
   "id": "688702d3-ba96-496c-ae96-c394e8b59544",
   "metadata": {},
   "outputs": [
    {
     "data": {
      "text/plain": [
       "0.03769230769230769"
      ]
     },
     "execution_count": 20,
     "metadata": {},
     "output_type": "execute_result"
    }
   ],
   "source": [
    "2.45 / 65"
   ]
  },
  {
   "cell_type": "code",
   "execution_count": 21,
   "id": "34c28915-e402-43b6-87dc-4827510be6a6",
   "metadata": {},
   "outputs": [
    {
     "name": "stdout",
     "output_type": "stream",
     "text": [
      "35.9 ms ± 316 μs per loop (mean ± std. dev. of 7 runs, 10 loops each)\n"
     ]
    }
   ],
   "source": [
    "%timeit s.apply(lambda x: x[0])"
   ]
  },
  {
   "cell_type": "code",
   "execution_count": 22,
   "id": "4000459d-47f5-4682-9c0b-0a852a687868",
   "metadata": {},
   "outputs": [
    {
     "name": "stdout",
     "output_type": "stream",
     "text": [
      "4.4 ms ± 22.1 μs per loop (mean ± std. dev. of 7 runs, 100 loops each)\n"
     ]
    }
   ],
   "source": [
    "%timeit s.str.get(0)"
   ]
  },
  {
   "cell_type": "code",
   "execution_count": 23,
   "id": "d35f7332-9820-4f07-a4e6-4c49b4b7c4f8",
   "metadata": {},
   "outputs": [
    {
     "name": "stdout",
     "output_type": "stream",
     "text": [
      "53.7 ms ± 357 μs per loop (mean ± std. dev. of 7 runs, 10 loops each)\n"
     ]
    }
   ],
   "source": [
    "%timeit s.apply(lambda x: x[:3])"
   ]
  },
  {
   "cell_type": "code",
   "execution_count": 24,
   "id": "b82e0590-05e8-49ab-8070-c3bdbde60f13",
   "metadata": {},
   "outputs": [
    {
     "name": "stdout",
     "output_type": "stream",
     "text": [
      "2.62 ms ± 11.8 μs per loop (mean ± std. dev. of 7 runs, 100 loops each)\n"
     ]
    }
   ],
   "source": [
    "%timeit s.str.slice(0, 3)"
   ]
  },
  {
   "cell_type": "code",
   "execution_count": 25,
   "id": "3f6dcd39-451d-4b45-b980-b2f1b49d0655",
   "metadata": {},
   "outputs": [
    {
     "data": {
      "text/plain": [
       "0.048789571694599625"
      ]
     },
     "execution_count": 25,
     "metadata": {},
     "output_type": "execute_result"
    }
   ],
   "source": [
    "2.62 / 53.7"
   ]
  },
  {
   "cell_type": "code",
   "execution_count": null,
   "id": "6d67cd36-cf48-4bac-a5a2-69c257de9c60",
   "metadata": {},
   "outputs": [],
   "source": []
  }
 ],
 "metadata": {
  "kernelspec": {
   "display_name": "Python 3 (ipykernel)",
   "language": "python",
   "name": "python3"
  },
  "language_info": {
   "codemirror_mode": {
    "name": "ipython",
    "version": 3
   },
   "file_extension": ".py",
   "mimetype": "text/x-python",
   "name": "python",
   "nbconvert_exporter": "python",
   "pygments_lexer": "ipython3",
   "version": "3.13.2"
  }
 },
 "nbformat": 4,
 "nbformat_minor": 5
}
