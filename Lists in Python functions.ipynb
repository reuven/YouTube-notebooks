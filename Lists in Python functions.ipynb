{
 "cells": [
  {
   "cell_type": "markdown",
   "id": "66f3ba00-a2c8-4b08-b7bf-d28f6c42f773",
   "metadata": {},
   "source": [
    "# Surprises in Python bytecode"
   ]
  },
  {
   "cell_type": "code",
   "execution_count": 3,
   "id": "195bb48c-d61e-4950-b5a5-b6b11a126b88",
   "metadata": {},
   "outputs": [],
   "source": [
    "def myfunc():\n",
    "    x = 5\n",
    "    return x"
   ]
  },
  {
   "cell_type": "code",
   "execution_count": 4,
   "id": "4338c7b1-1352-40a8-8874-00f78913e5f8",
   "metadata": {},
   "outputs": [],
   "source": [
    "import dis"
   ]
  },
  {
   "cell_type": "code",
   "execution_count": 5,
   "id": "340f5f0f-6a5c-494a-b319-8d2f3147d473",
   "metadata": {},
   "outputs": [
    {
     "name": "stdout",
     "output_type": "stream",
     "text": [
      "  1           RESUME                   0\n",
      "\n",
      "  2           LOAD_CONST               1 (5)\n",
      "              STORE_FAST               0 (x)\n",
      "\n",
      "  3           LOAD_FAST                0 (x)\n",
      "              RETURN_VALUE\n"
     ]
    }
   ],
   "source": [
    "dis.dis(myfunc)"
   ]
  },
  {
   "cell_type": "code",
   "execution_count": 6,
   "id": "647efcf7-ba19-4bea-80d5-1bd3c21fb8d4",
   "metadata": {},
   "outputs": [
    {
     "data": {
      "text/plain": [
       "(None, 5)"
      ]
     },
     "execution_count": 6,
     "metadata": {},
     "output_type": "execute_result"
    }
   ],
   "source": [
    "myfunc.__code__.co_consts"
   ]
  },
  {
   "cell_type": "code",
   "execution_count": 7,
   "id": "448aa6ce-315e-4029-9608-7a74af4402f6",
   "metadata": {},
   "outputs": [],
   "source": [
    "def myfunc():\n",
    "    x = [10, 20, 30]\n",
    "    return x"
   ]
  },
  {
   "cell_type": "code",
   "execution_count": 8,
   "id": "f3a313c5-8811-4c27-869d-fa23bcc99e5d",
   "metadata": {},
   "outputs": [
    {
     "name": "stdout",
     "output_type": "stream",
     "text": [
      "  1           RESUME                   0\n",
      "\n",
      "  2           BUILD_LIST               0\n",
      "              LOAD_CONST               1 ((10, 20, 30))\n",
      "              LIST_EXTEND              1\n",
      "              STORE_FAST               0 (x)\n",
      "\n",
      "  3           LOAD_FAST                0 (x)\n",
      "              RETURN_VALUE\n"
     ]
    }
   ],
   "source": [
    "dis.dis(myfunc)"
   ]
  },
  {
   "cell_type": "code",
   "execution_count": 9,
   "id": "64d85e48-d5b2-4310-854e-1a64340ee4ba",
   "metadata": {},
   "outputs": [
    {
     "data": {
      "text/plain": [
       "(None, (10, 20, 30))"
      ]
     },
     "execution_count": 9,
     "metadata": {},
     "output_type": "execute_result"
    }
   ],
   "source": [
    "myfunc.__code__.co_consts"
   ]
  },
  {
   "cell_type": "code",
   "execution_count": 10,
   "id": "30172e00-5fb6-45df-8b52-c50bfc66fefa",
   "metadata": {},
   "outputs": [
    {
     "data": {
      "text/plain": [
       "('x',)"
      ]
     },
     "execution_count": 10,
     "metadata": {},
     "output_type": "execute_result"
    }
   ],
   "source": [
    "myfunc.__code__.co_varnames"
   ]
  },
  {
   "cell_type": "code",
   "execution_count": null,
   "id": "76e239aa-9d50-4305-b8b3-3232175afa98",
   "metadata": {},
   "outputs": [],
   "source": []
  }
 ],
 "metadata": {
  "kernelspec": {
   "display_name": "Python 3 (ipykernel)",
   "language": "python",
   "name": "python3"
  },
  "language_info": {
   "codemirror_mode": {
    "name": "ipython",
    "version": 3
   },
   "file_extension": ".py",
   "mimetype": "text/x-python",
   "name": "python",
   "nbconvert_exporter": "python",
   "pygments_lexer": "ipython3",
   "version": "3.13.1"
  }
 },
 "nbformat": 4,
 "nbformat_minor": 5
}
