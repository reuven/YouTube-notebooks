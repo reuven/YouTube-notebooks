{
 "cells": [
  {
   "cell_type": "code",
   "execution_count": 1,
   "id": "b1e48554-1dfe-409f-afde-a90e163ec291",
   "metadata": {},
   "outputs": [],
   "source": [
    "import pandas as pd"
   ]
  },
  {
   "cell_type": "code",
   "execution_count": 3,
   "id": "f4447629-a830-408c-8ffa-7e0338bd388b",
   "metadata": {},
   "outputs": [
    {
     "data": {
      "text/html": [
       "<div>\n",
       "<style scoped>\n",
       "    .dataframe tbody tr th:only-of-type {\n",
       "        vertical-align: middle;\n",
       "    }\n",
       "\n",
       "    .dataframe tbody tr th {\n",
       "        vertical-align: top;\n",
       "    }\n",
       "\n",
       "    .dataframe thead th {\n",
       "        text-align: right;\n",
       "    }\n",
       "</style>\n",
       "<table border=\"1\" class=\"dataframe\">\n",
       "  <thead>\n",
       "    <tr style=\"text-align: right;\">\n",
       "      <th></th>\n",
       "      <th>Price</th>\n",
       "    </tr>\n",
       "    <tr>\n",
       "      <th>Date</th>\n",
       "      <th></th>\n",
       "    </tr>\n",
       "  </thead>\n",
       "  <tbody>\n",
       "    <tr>\n",
       "      <th>1986-01-02</th>\n",
       "      <td>25.56</td>\n",
       "    </tr>\n",
       "    <tr>\n",
       "      <th>1986-01-03</th>\n",
       "      <td>26.00</td>\n",
       "    </tr>\n",
       "    <tr>\n",
       "      <th>1986-01-06</th>\n",
       "      <td>26.53</td>\n",
       "    </tr>\n",
       "    <tr>\n",
       "      <th>1986-01-07</th>\n",
       "      <td>25.85</td>\n",
       "    </tr>\n",
       "    <tr>\n",
       "      <th>1986-01-08</th>\n",
       "      <td>25.87</td>\n",
       "    </tr>\n",
       "    <tr>\n",
       "      <th>...</th>\n",
       "      <td>...</td>\n",
       "    </tr>\n",
       "    <tr>\n",
       "      <th>2025-06-30</th>\n",
       "      <td>66.30</td>\n",
       "    </tr>\n",
       "    <tr>\n",
       "      <th>2025-07-01</th>\n",
       "      <td>66.64</td>\n",
       "    </tr>\n",
       "    <tr>\n",
       "      <th>2025-07-02</th>\n",
       "      <td>68.66</td>\n",
       "    </tr>\n",
       "    <tr>\n",
       "      <th>2025-07-03</th>\n",
       "      <td>68.13</td>\n",
       "    </tr>\n",
       "    <tr>\n",
       "      <th>2025-07-07</th>\n",
       "      <td>69.16</td>\n",
       "    </tr>\n",
       "  </tbody>\n",
       "</table>\n",
       "<p>9947 rows × 1 columns</p>\n",
       "</div>"
      ],
      "text/plain": [
       "            Price\n",
       "Date             \n",
       "1986-01-02  25.56\n",
       "1986-01-03  26.00\n",
       "1986-01-06  26.53\n",
       "1986-01-07  25.85\n",
       "1986-01-08  25.87\n",
       "...           ...\n",
       "2025-06-30  66.30\n",
       "2025-07-01  66.64\n",
       "2025-07-02  68.66\n",
       "2025-07-03  68.13\n",
       "2025-07-07  69.16\n",
       "\n",
       "[9947 rows x 1 columns]"
      ]
     },
     "execution_count": 3,
     "metadata": {},
     "output_type": "execute_result"
    }
   ],
   "source": [
    "url = 'https://raw.githubusercontent.com/datasets/oil-prices/refs/heads/main/data/wti-daily.csv'\n",
    "\n",
    "df = pd.read_csv(url,\n",
    "                parse_dates=['Date'],\n",
    "                index_col='Date')\n",
    "df\n"
   ]
  },
  {
   "cell_type": "code",
   "execution_count": 4,
   "id": "384ddbf4-a5b1-4bc0-b185-d0459a860053",
   "metadata": {},
   "outputs": [
    {
     "data": {
      "text/plain": [
       "np.float64(47.87041620589122)"
      ]
     },
     "execution_count": 4,
     "metadata": {},
     "output_type": "execute_result"
    }
   ],
   "source": [
    "# how can I get the mean price of oil in this data set?\n",
    "df['Price'].mean()"
   ]
  },
  {
   "cell_type": "code",
   "execution_count": 5,
   "id": "66a956d2-13d6-4e35-9f7f-b5e7d3cd578c",
   "metadata": {},
   "outputs": [
    {
     "data": {
      "text/plain": [
       "Date\n",
       "1986-01-02     NaN\n",
       "1986-01-03    0.44\n",
       "1986-01-06    0.53\n",
       "1986-01-07   -0.68\n",
       "1986-01-08    0.02\n",
       "              ... \n",
       "2025-06-30   -0.36\n",
       "2025-07-01    0.34\n",
       "2025-07-02    2.02\n",
       "2025-07-03   -0.53\n",
       "2025-07-07    1.03\n",
       "Name: Price, Length: 9947, dtype: float64"
      ]
     },
     "execution_count": 5,
     "metadata": {},
     "output_type": "execute_result"
    }
   ],
   "source": [
    "# what is the difference in price that each row shows relative to its predecessor?\n",
    "df['Price'].diff()"
   ]
  },
  {
   "cell_type": "code",
   "execution_count": 6,
   "id": "ae764259-7a70-4167-841b-d731386e7ded",
   "metadata": {},
   "outputs": [
    {
     "data": {
      "text/plain": [
       "Date\n",
       "1986-01-02     NaN\n",
       "1986-01-03     NaN\n",
       "1986-01-06     NaN\n",
       "1986-01-07     NaN\n",
       "1986-01-08     NaN\n",
       "              ... \n",
       "2025-06-30   -9.59\n",
       "2025-07-01   -9.08\n",
       "2025-07-02   -0.70\n",
       "2025-07-03    2.68\n",
       "2025-07-07    3.18\n",
       "Name: Price, Length: 9947, dtype: float64"
      ]
     },
     "execution_count": 6,
     "metadata": {},
     "output_type": "execute_result"
    }
   ],
   "source": [
    "df['Price'].diff(periods=7)  # show me how much the WTI index changes in the last week"
   ]
  },
  {
   "cell_type": "code",
   "execution_count": 7,
   "id": "9fd7fb72-b294-4999-b7e1-e57f41122d49",
   "metadata": {},
   "outputs": [
    {
     "data": {
      "text/plain": [
       "Date\n",
       "1986-01-02         NaN\n",
       "1986-01-03    0.017214\n",
       "1986-01-06    0.020385\n",
       "1986-01-07   -0.025631\n",
       "1986-01-08    0.000774\n",
       "                ...   \n",
       "2025-06-30   -0.005401\n",
       "2025-07-01    0.005128\n",
       "2025-07-02    0.030312\n",
       "2025-07-03   -0.007719\n",
       "2025-07-07    0.015118\n",
       "Name: Price, Length: 9947, dtype: float64"
      ]
     },
     "execution_count": 7,
     "metadata": {},
     "output_type": "execute_result"
    }
   ],
   "source": [
    "df['Price'].pct_change()"
   ]
  },
  {
   "cell_type": "code",
   "execution_count": 9,
   "id": "14c34c08-9e30-40e2-a49b-ab520875f70d",
   "metadata": {},
   "outputs": [
    {
     "data": {
      "text/plain": [
       "Date\n",
       "1986-01-02       NaN\n",
       "1986-01-03     51.56\n",
       "1986-01-06     52.53\n",
       "1986-01-07     52.38\n",
       "1986-01-08     51.72\n",
       "               ...  \n",
       "2025-06-30    132.96\n",
       "2025-07-01    132.94\n",
       "2025-07-02    135.30\n",
       "2025-07-03    136.79\n",
       "2025-07-07    137.29\n",
       "Name: Price, Length: 9947, dtype: float64"
      ]
     },
     "execution_count": 9,
     "metadata": {},
     "output_type": "execute_result"
    }
   ],
   "source": [
    "# we can use other kinds of window functions, too\n",
    "\n",
    "df['Price'].rolling(window=2).sum()"
   ]
  },
  {
   "cell_type": "code",
   "execution_count": 10,
   "id": "4585d585-ea34-44c2-964e-9524e863ee54",
   "metadata": {},
   "outputs": [
    {
     "data": {
      "text/plain": [
       "Date\n",
       "1986-01-02       NaN\n",
       "1986-01-03    25.780\n",
       "1986-01-06    26.265\n",
       "1986-01-07    26.190\n",
       "1986-01-08    25.860\n",
       "               ...  \n",
       "2025-06-30    66.480\n",
       "2025-07-01    66.470\n",
       "2025-07-02    67.650\n",
       "2025-07-03    68.395\n",
       "2025-07-07    68.645\n",
       "Name: Price, Length: 9947, dtype: float64"
      ]
     },
     "execution_count": 10,
     "metadata": {},
     "output_type": "execute_result"
    }
   ],
   "source": [
    "df['Price'].rolling(window=2).mean()"
   ]
  },
  {
   "cell_type": "code",
   "execution_count": 11,
   "id": "db96dfaf-0ee5-403a-83e3-081a0e40a540",
   "metadata": {},
   "outputs": [
    {
     "data": {
      "text/plain": [
       "Date\n",
       "1986-01-02          NaN\n",
       "1986-01-03          NaN\n",
       "1986-01-06          NaN\n",
       "1986-01-07          NaN\n",
       "1986-01-08          NaN\n",
       "                ...    \n",
       "2025-06-30    67.987143\n",
       "2025-07-01    66.690000\n",
       "2025-07-02    66.590000\n",
       "2025-07-03    66.972857\n",
       "2025-07-07    67.427143\n",
       "Name: Price, Length: 9947, dtype: float64"
      ]
     },
     "execution_count": 11,
     "metadata": {},
     "output_type": "execute_result"
    }
   ],
   "source": [
    "df['Price'].rolling(window=7).mean()"
   ]
  },
  {
   "cell_type": "code",
   "execution_count": 12,
   "id": "1744faf1-1a7a-449b-8ccc-2f2e90f78954",
   "metadata": {},
   "outputs": [
    {
     "data": {
      "text/plain": [
       "Date\n",
       "1986-01-02    25.560000\n",
       "1986-01-03    25.780000\n",
       "1986-01-06    26.030000\n",
       "1986-01-07    25.985000\n",
       "1986-01-08    25.962000\n",
       "                ...    \n",
       "2025-06-30    47.862259\n",
       "2025-07-01    47.864147\n",
       "2025-07-02    47.866238\n",
       "2025-07-03    47.868276\n",
       "2025-07-07    47.870416\n",
       "Name: Price, Length: 9947, dtype: float64"
      ]
     },
     "execution_count": 12,
     "metadata": {},
     "output_type": "execute_result"
    }
   ],
   "source": [
    "df['Price'].expanding().mean()"
   ]
  },
  {
   "cell_type": "code",
   "execution_count": null,
   "id": "f741e5d7-7ae0-4fbf-91bf-8696c49ac921",
   "metadata": {},
   "outputs": [],
   "source": []
  }
 ],
 "metadata": {
  "kernelspec": {
   "display_name": "Python 3 (ipykernel)",
   "language": "python",
   "name": "python3"
  },
  "language_info": {
   "codemirror_mode": {
    "name": "ipython",
    "version": 3
   },
   "file_extension": ".py",
   "mimetype": "text/x-python",
   "name": "python",
   "nbconvert_exporter": "python",
   "pygments_lexer": "ipython3",
   "version": "3.13.2"
  }
 },
 "nbformat": 4,
 "nbformat_minor": 5
}
