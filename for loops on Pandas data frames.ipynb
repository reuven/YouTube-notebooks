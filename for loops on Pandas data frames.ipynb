{
 "cells": [
  {
   "cell_type": "code",
   "execution_count": 1,
   "id": "fdd8c69d-e907-438c-b0a7-b31d8afe3dec",
   "metadata": {},
   "outputs": [],
   "source": [
    "import pandas as pd"
   ]
  },
  {
   "cell_type": "code",
   "execution_count": 2,
   "id": "80457b4a-9722-4046-b6ed-303c1c445ccc",
   "metadata": {},
   "outputs": [],
   "source": [
    "filename = '/Users/reuven/Courses/Current/Data/taxi.csv'"
   ]
  },
  {
   "cell_type": "code",
   "execution_count": 3,
   "id": "af9db0c2-6502-4d00-b853-dbf210ecc0d8",
   "metadata": {},
   "outputs": [],
   "source": [
    "df = pd.read_csv(filename)"
   ]
  },
  {
   "cell_type": "code",
   "execution_count": 4,
   "id": "97044d32-9123-416a-b749-e9a3ed593e18",
   "metadata": {},
   "outputs": [
    {
     "data": {
      "text/plain": [
       "(9999, 19)"
      ]
     },
     "execution_count": 4,
     "metadata": {},
     "output_type": "execute_result"
    }
   ],
   "source": [
    "df.shape"
   ]
  },
  {
   "cell_type": "code",
   "execution_count": 6,
   "id": "2dcf7fb0-5e03-4a48-ab2b-218b32da3d5d",
   "metadata": {},
   "outputs": [],
   "source": [
    "import numpy as np\n",
    "import time"
   ]
  },
  {
   "cell_type": "code",
   "execution_count": 10,
   "id": "3559e1bf-34db-4020-a935-01e5b599f081",
   "metadata": {},
   "outputs": [
    {
     "name": "stdout",
     "output_type": "stream",
     "text": [
      "1.00\n"
     ]
    }
   ],
   "source": [
    "# I want to create a new column, dollars_per_mile, that will calculate total_amount / trip_distance\n",
    "\n",
    "start_time = time.perf_counter()\n",
    "\n",
    "for index in df.index:\n",
    "    total_amount = df.loc[index, 'total_amount']\n",
    "    trip_distance = df.loc[index, 'trip_distance']\n",
    "\n",
    "    if trip_distance:\n",
    "        df.loc[index, 'dollars_per_mile'] = total_amount / trip_distance\n",
    "    else:\n",
    "        df.loc[index, 'dollars_per_mile'] = np.nan\n",
    "\n",
    "end_time = time.perf_counter()\n",
    "\n",
    "total_time = end_time - start_time\n",
    "print(f'{total_time:0.2f}')"
   ]
  },
  {
   "cell_type": "code",
   "execution_count": 13,
   "id": "041a0d50-bd0b-466a-8866-12e2cc21e851",
   "metadata": {},
   "outputs": [
    {
     "name": "stdout",
     "output_type": "stream",
     "text": [
      "153 μs ± 941 ns per loop (mean ± std. dev. of 7 runs, 10,000 loops each)\n"
     ]
    }
   ],
   "source": [
    "%%timeit\n",
    "# if we want, we can use Pandas vectorized operations\n",
    "\n",
    "df['dollars_per_mile'] = df['total_amount'] / df['trip_distance']\n",
    "df['dollars_per_mile'] = df['dollars_per_mile'].replace(np.inf, np.nan)"
   ]
  },
  {
   "cell_type": "code",
   "execution_count": null,
   "id": "a9ee4478-ffc6-4c90-90a7-bfa454229a01",
   "metadata": {},
   "outputs": [],
   "source": []
  }
 ],
 "metadata": {
  "kernelspec": {
   "display_name": "Python 3 (ipykernel)",
   "language": "python",
   "name": "python3"
  },
  "language_info": {
   "codemirror_mode": {
    "name": "ipython",
    "version": 3
   },
   "file_extension": ".py",
   "mimetype": "text/x-python",
   "name": "python",
   "nbconvert_exporter": "python",
   "pygments_lexer": "ipython3",
   "version": "3.13.2"
  }
 },
 "nbformat": 4,
 "nbformat_minor": 5
}
