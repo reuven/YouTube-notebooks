{
 "cells": [
  {
   "cell_type": "code",
   "execution_count": 1,
   "id": "7aae9c80-1230-4a69-ad7f-09cf956f75f1",
   "metadata": {},
   "outputs": [],
   "source": [
    "n = 1,234,567,890"
   ]
  },
  {
   "cell_type": "code",
   "execution_count": 2,
   "id": "6905c4c5-2594-49ad-ae27-46408564f971",
   "metadata": {},
   "outputs": [
    {
     "data": {
      "text/plain": [
       "tuple"
      ]
     },
     "execution_count": 2,
     "metadata": {},
     "output_type": "execute_result"
    }
   ],
   "source": [
    "type(n)"
   ]
  },
  {
   "cell_type": "code",
   "execution_count": 3,
   "id": "f57b8264-62f3-4a07-94d0-5a6f64d28836",
   "metadata": {},
   "outputs": [
    {
     "data": {
      "text/plain": [
       "(1, 234, 567, 890)"
      ]
     },
     "execution_count": 3,
     "metadata": {},
     "output_type": "execute_result"
    }
   ],
   "source": [
    "n"
   ]
  },
  {
   "cell_type": "code",
   "execution_count": 4,
   "id": "807be223-a1b2-42ef-85af-b5ca4e235047",
   "metadata": {},
   "outputs": [],
   "source": [
    "n = 1_234_567_890"
   ]
  },
  {
   "cell_type": "code",
   "execution_count": 5,
   "id": "f4e51ffc-ea99-4158-98cc-4d6fa60bd351",
   "metadata": {},
   "outputs": [
    {
     "data": {
      "text/plain": [
       "int"
      ]
     },
     "execution_count": 5,
     "metadata": {},
     "output_type": "execute_result"
    }
   ],
   "source": [
    "type(n)"
   ]
  },
  {
   "cell_type": "code",
   "execution_count": 6,
   "id": "a0c8e3a5-d0ea-4ec5-bcfb-9a30199e9125",
   "metadata": {},
   "outputs": [
    {
     "ename": "SyntaxError",
     "evalue": "invalid decimal literal (2256524874.py, line 1)",
     "output_type": "error",
     "traceback": [
      "  \u001b[36mCell\u001b[39m\u001b[36m \u001b[39m\u001b[32mIn[6]\u001b[39m\u001b[32m, line 1\u001b[39m\n\u001b[31m    \u001b[39m\u001b[31mn = 1__234_567_890\u001b[39m\n         ^\n\u001b[31mSyntaxError\u001b[39m\u001b[31m:\u001b[39m invalid decimal literal\n"
     ]
    }
   ],
   "source": [
    "n = 1__234_567_890"
   ]
  },
  {
   "cell_type": "code",
   "execution_count": 7,
   "id": "e9d81db4-0e62-4939-8894-efd3cc22d22f",
   "metadata": {},
   "outputs": [
    {
     "ename": "NameError",
     "evalue": "name '_1_234_567_890' is not defined",
     "output_type": "error",
     "traceback": [
      "\u001b[31m---------------------------------------------------------------------------\u001b[39m",
      "\u001b[31mNameError\u001b[39m                                 Traceback (most recent call last)",
      "\u001b[36mCell\u001b[39m\u001b[36m \u001b[39m\u001b[32mIn[7]\u001b[39m\u001b[32m, line 1\u001b[39m\n\u001b[32m----> \u001b[39m\u001b[32m1\u001b[39m n = \u001b[43m_1_234_567_890\u001b[49m\n",
      "\u001b[31mNameError\u001b[39m: name '_1_234_567_890' is not defined"
     ]
    }
   ],
   "source": [
    "n = _1_234_567_890"
   ]
  },
  {
   "cell_type": "code",
   "execution_count": 10,
   "id": "a342af14-15bc-4b67-8310-7587c5a90def",
   "metadata": {},
   "outputs": [],
   "source": [
    "n = 1_234_567_890.12_345"
   ]
  },
  {
   "cell_type": "code",
   "execution_count": 11,
   "id": "239fa477-66d7-45aa-87b5-271e49a2b9dd",
   "metadata": {},
   "outputs": [
    {
     "data": {
      "text/plain": [
       "1234567890.12345"
      ]
     },
     "execution_count": 11,
     "metadata": {},
     "output_type": "execute_result"
    }
   ],
   "source": [
    "n"
   ]
  },
  {
   "cell_type": "code",
   "execution_count": 12,
   "id": "c45ce6db-6c8f-4a87-a041-50c26ebe7f6f",
   "metadata": {},
   "outputs": [],
   "source": [
    "n = 1_234_567_890"
   ]
  },
  {
   "cell_type": "code",
   "execution_count": 13,
   "id": "570ed9ce-6e3c-4bf4-a214-87912e07445b",
   "metadata": {},
   "outputs": [
    {
     "name": "stdout",
     "output_type": "stream",
     "text": [
      "1234567890\n"
     ]
    }
   ],
   "source": [
    "print(f'{n}')"
   ]
  },
  {
   "cell_type": "code",
   "execution_count": 14,
   "id": "cf786e2c-1225-4819-aeca-4e82d77c0cc7",
   "metadata": {},
   "outputs": [
    {
     "name": "stdout",
     "output_type": "stream",
     "text": [
      "1,234,567,890\n"
     ]
    }
   ],
   "source": [
    "print(f'{n:,}')"
   ]
  },
  {
   "cell_type": "code",
   "execution_count": 15,
   "id": "2033c8e2-8115-4165-862b-42c141099cb0",
   "metadata": {},
   "outputs": [
    {
     "name": "stdout",
     "output_type": "stream",
     "text": [
      "1_234_567_890\n"
     ]
    }
   ],
   "source": [
    "print(f'{n:_}')"
   ]
  },
  {
   "cell_type": "code",
   "execution_count": 16,
   "id": "628fcbbc-d7ac-4a40-b638-3aad3b687366",
   "metadata": {},
   "outputs": [],
   "source": [
    "f = 1234567890.12345"
   ]
  },
  {
   "cell_type": "code",
   "execution_count": 18,
   "id": "293e25f3-a4af-4c4d-98a9-946131c45d4b",
   "metadata": {},
   "outputs": [
    {
     "name": "stdout",
     "output_type": "stream",
     "text": [
      "1,234,567,890.12345\n"
     ]
    }
   ],
   "source": [
    "print(f'{f:,}')"
   ]
  },
  {
   "cell_type": "code",
   "execution_count": 19,
   "id": "426e53ba-7d87-41ca-8e80-fcb9c7d041c9",
   "metadata": {},
   "outputs": [
    {
     "name": "stdout",
     "output_type": "stream",
     "text": [
      "1,234,567,890.12\n"
     ]
    }
   ],
   "source": [
    "print(f'{f:,.02f}')"
   ]
  },
  {
   "cell_type": "code",
   "execution_count": 20,
   "id": "5ea84c23-c1a6-4dc0-a58c-635e66cbd7cb",
   "metadata": {},
   "outputs": [],
   "source": [
    "s = '1,234,567,890'"
   ]
  },
  {
   "cell_type": "code",
   "execution_count": 21,
   "id": "98a15270-edeb-41fd-8b12-530e1b8e7c03",
   "metadata": {},
   "outputs": [
    {
     "ename": "ValueError",
     "evalue": "invalid literal for int() with base 10: '1,234,567,890'",
     "output_type": "error",
     "traceback": [
      "\u001b[31m---------------------------------------------------------------------------\u001b[39m",
      "\u001b[31mValueError\u001b[39m                                Traceback (most recent call last)",
      "\u001b[36mCell\u001b[39m\u001b[36m \u001b[39m\u001b[32mIn[21]\u001b[39m\u001b[32m, line 1\u001b[39m\n\u001b[32m----> \u001b[39m\u001b[32m1\u001b[39m \u001b[38;5;28;43mint\u001b[39;49m\u001b[43m(\u001b[49m\u001b[43ms\u001b[49m\u001b[43m)\u001b[49m\n",
      "\u001b[31mValueError\u001b[39m: invalid literal for int() with base 10: '1,234,567,890'"
     ]
    }
   ],
   "source": [
    "int(s)"
   ]
  },
  {
   "cell_type": "code",
   "execution_count": 22,
   "id": "005eec8c-110e-4db1-af7f-d8bf6735f4d0",
   "metadata": {},
   "outputs": [],
   "source": [
    "import locale"
   ]
  },
  {
   "cell_type": "code",
   "execution_count": 23,
   "id": "417c1304-f044-433e-9b66-db7d447cd505",
   "metadata": {},
   "outputs": [
    {
     "data": {
      "text/plain": [
       "'en_US.UTF-8'"
      ]
     },
     "execution_count": 23,
     "metadata": {},
     "output_type": "execute_result"
    }
   ],
   "source": [
    "locale.setlocale(locale.LC_ALL, 'en_US.UTF-8')"
   ]
  },
  {
   "cell_type": "code",
   "execution_count": 24,
   "id": "3a744577-61c8-43c1-97d9-de8ad8023d14",
   "metadata": {},
   "outputs": [
    {
     "data": {
      "text/plain": [
       "1234567890"
      ]
     },
     "execution_count": 24,
     "metadata": {},
     "output_type": "execute_result"
    }
   ],
   "source": [
    "locale.atoi(s)"
   ]
  },
  {
   "cell_type": "code",
   "execution_count": 26,
   "id": "84d691c3-32c7-414b-b48c-c0b80f56a0d7",
   "metadata": {},
   "outputs": [],
   "source": [
    "s = '1,234,567,890.12345'"
   ]
  },
  {
   "cell_type": "code",
   "execution_count": 27,
   "id": "368a83c7-a59a-4c90-b577-f95b59f7c681",
   "metadata": {},
   "outputs": [
    {
     "ename": "ValueError",
     "evalue": "invalid literal for int() with base 10: '1234567890.12345'",
     "output_type": "error",
     "traceback": [
      "\u001b[31m---------------------------------------------------------------------------\u001b[39m",
      "\u001b[31mValueError\u001b[39m                                Traceback (most recent call last)",
      "\u001b[36mCell\u001b[39m\u001b[36m \u001b[39m\u001b[32mIn[27]\u001b[39m\u001b[32m, line 1\u001b[39m\n\u001b[32m----> \u001b[39m\u001b[32m1\u001b[39m \u001b[43mlocale\u001b[49m\u001b[43m.\u001b[49m\u001b[43matoi\u001b[49m\u001b[43m(\u001b[49m\u001b[43ms\u001b[49m\u001b[43m)\u001b[49m\n",
      "\u001b[36mFile \u001b[39m\u001b[32m~/.pyenv/versions/3.13.5/lib/python3.13/locale.py:327\u001b[39m, in \u001b[36matoi\u001b[39m\u001b[34m(string)\u001b[39m\n\u001b[32m    325\u001b[39m \u001b[38;5;28;01mdef\u001b[39;00m\u001b[38;5;250m \u001b[39m\u001b[34matoi\u001b[39m(string):\n\u001b[32m    326\u001b[39m     \u001b[33m\"\u001b[39m\u001b[33mConverts a string to an integer according to the locale settings.\u001b[39m\u001b[33m\"\u001b[39m\n\u001b[32m--> \u001b[39m\u001b[32m327\u001b[39m     \u001b[38;5;28;01mreturn\u001b[39;00m \u001b[38;5;28;43mint\u001b[39;49m\u001b[43m(\u001b[49m\u001b[43mdelocalize\u001b[49m\u001b[43m(\u001b[49m\u001b[43mstring\u001b[49m\u001b[43m)\u001b[49m\u001b[43m)\u001b[49m\n",
      "\u001b[31mValueError\u001b[39m: invalid literal for int() with base 10: '1234567890.12345'"
     ]
    }
   ],
   "source": [
    "locale.atoi(s)"
   ]
  },
  {
   "cell_type": "code",
   "execution_count": 28,
   "id": "5099252a-b751-48dd-880a-1b52fdc57ec5",
   "metadata": {},
   "outputs": [
    {
     "data": {
      "text/plain": [
       "1234567890.12345"
      ]
     },
     "execution_count": 28,
     "metadata": {},
     "output_type": "execute_result"
    }
   ],
   "source": [
    "locale.atof(s)"
   ]
  },
  {
   "cell_type": "code",
   "execution_count": null,
   "id": "581a8d36-7621-4a87-8872-69538a989b95",
   "metadata": {},
   "outputs": [],
   "source": []
  }
 ],
 "metadata": {
  "kernelspec": {
   "display_name": "Python 3 (ipykernel)",
   "language": "python",
   "name": "python3"
  },
  "language_info": {
   "codemirror_mode": {
    "name": "ipython",
    "version": 3
   },
   "file_extension": ".py",
   "mimetype": "text/x-python",
   "name": "python",
   "nbconvert_exporter": "python",
   "pygments_lexer": "ipython3",
   "version": "3.13.5"
  }
 },
 "nbformat": 4,
 "nbformat_minor": 5
}
