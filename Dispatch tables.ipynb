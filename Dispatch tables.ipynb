{
 "cells": [
  {
   "cell_type": "markdown",
   "id": "acac4109-9181-4667-9ed0-cc121d9a90c2",
   "metadata": {},
   "source": [
    "# Dispatch tables"
   ]
  },
  {
   "cell_type": "code",
   "execution_count": 2,
   "id": "6b1c5574-235b-42e0-b216-9e073ef54301",
   "metadata": {},
   "outputs": [
    {
     "name": "stdin",
     "output_type": "stream",
     "text": [
      "Enter a function name:  a\n"
     ]
    },
    {
     "name": "stdout",
     "output_type": "stream",
     "text": [
      "a\n"
     ]
    },
    {
     "name": "stdin",
     "output_type": "stream",
     "text": [
      "Enter a function name:  b\n"
     ]
    },
    {
     "name": "stdout",
     "output_type": "stream",
     "text": [
      "b\n"
     ]
    },
    {
     "name": "stdin",
     "output_type": "stream",
     "text": [
      "Enter a function name:  c\n"
     ]
    },
    {
     "name": "stdout",
     "output_type": "stream",
     "text": [
      "c is not a known function\n"
     ]
    },
    {
     "name": "stdin",
     "output_type": "stream",
     "text": [
      "Enter a function name:  \n"
     ]
    }
   ],
   "source": [
    "def a():\n",
    "    return 'a'\n",
    "\n",
    "def b():\n",
    "    return 'b'\n",
    "\n",
    "while True:\n",
    "    s = input('Enter a function name: ').strip()\n",
    "\n",
    "    if not s:\n",
    "        break\n",
    "\n",
    "    if s == 'a':\n",
    "        print(a())\n",
    "    elif s == 'b':\n",
    "        print(b())\n",
    "    else:\n",
    "        print(f'{s} is not a known function')"
   ]
  },
  {
   "cell_type": "code",
   "execution_count": 4,
   "id": "d2ac91fd-c749-40b8-a364-f01b07833dbc",
   "metadata": {},
   "outputs": [
    {
     "data": {
      "text/plain": [
       "'a'"
      ]
     },
     "execution_count": 4,
     "metadata": {},
     "output_type": "execute_result"
    }
   ],
   "source": [
    "# dict in which strings are the keys,\n",
    "# and functions are the values\n",
    "\n",
    "funcs = {'a':a,\n",
    "         'b':b}\n",
    "\n",
    "funcs['a']()"
   ]
  },
  {
   "cell_type": "code",
   "execution_count": 6,
   "id": "48dbc748-4685-43ef-baca-ff730491163e",
   "metadata": {},
   "outputs": [
    {
     "name": "stdin",
     "output_type": "stream",
     "text": [
      "Enter a function name:  a\n"
     ]
    },
    {
     "name": "stdout",
     "output_type": "stream",
     "text": [
      "a\n"
     ]
    },
    {
     "name": "stdin",
     "output_type": "stream",
     "text": [
      "Enter a function name:  b\n"
     ]
    },
    {
     "name": "stdout",
     "output_type": "stream",
     "text": [
      "b\n"
     ]
    },
    {
     "name": "stdin",
     "output_type": "stream",
     "text": [
      "Enter a function name:  c\n"
     ]
    },
    {
     "name": "stdout",
     "output_type": "stream",
     "text": [
      "c is not a known function\n"
     ]
    },
    {
     "name": "stdin",
     "output_type": "stream",
     "text": [
      "Enter a function name:  \n"
     ]
    }
   ],
   "source": [
    "while True:\n",
    "    s = input('Enter a function name: ').strip()\n",
    "\n",
    "    if not s:\n",
    "        break\n",
    "\n",
    "    if s in funcs:   # if the user's input string is a key in our \"funcs\" dict\n",
    "        print(funcs[s]())\n",
    "    else:\n",
    "        print(f'{s} is not a known function')"
   ]
  },
  {
   "cell_type": "code",
   "execution_count": null,
   "id": "ce5ee8c4-bcfd-413d-8426-457fcab46a4c",
   "metadata": {},
   "outputs": [],
   "source": []
  }
 ],
 "metadata": {
  "kernelspec": {
   "display_name": "Python 3 (ipykernel)",
   "language": "python",
   "name": "python3"
  },
  "language_info": {
   "codemirror_mode": {
    "name": "ipython",
    "version": 3
   },
   "file_extension": ".py",
   "mimetype": "text/x-python",
   "name": "python",
   "nbconvert_exporter": "python",
   "pygments_lexer": "ipython3",
   "version": "3.13.0"
  }
 },
 "nbformat": 4,
 "nbformat_minor": 5
}
