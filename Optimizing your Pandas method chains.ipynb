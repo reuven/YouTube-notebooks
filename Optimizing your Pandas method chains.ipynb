{
 "cells": [
  {
   "cell_type": "code",
   "execution_count": 1,
   "id": "3ccc1339-6bbc-492b-b1d7-0eff0f537d36",
   "metadata": {},
   "outputs": [],
   "source": [
    "filename = '/Users/reuven/Courses/Current/data/nyc-parking-violations-2020.csv'"
   ]
  },
  {
   "cell_type": "code",
   "execution_count": 2,
   "id": "9373a5dc-6989-4ced-b8d3-1bc010904ce3",
   "metadata": {},
   "outputs": [],
   "source": [
    "import pandas as pd"
   ]
  },
  {
   "cell_type": "code",
   "execution_count": 3,
   "id": "17020886-1916-40bd-b6c9-c7581ffd51a6",
   "metadata": {},
   "outputs": [],
   "source": [
    "df = pd.read_csv(filename, engine='pyarrow')"
   ]
  },
  {
   "cell_type": "code",
   "execution_count": 4,
   "id": "57387ee2-8841-4b38-b00e-4a04cb41b0d4",
   "metadata": {},
   "outputs": [
    {
     "data": {
      "text/plain": [
       "(12495734, 43)"
      ]
     },
     "execution_count": 4,
     "metadata": {},
     "output_type": "execute_result"
    }
   ],
   "source": [
    "df.shape"
   ]
  },
  {
   "cell_type": "code",
   "execution_count": 5,
   "id": "c72ddc4d-8f90-49d6-8f3b-2c32c96f3d26",
   "metadata": {},
   "outputs": [
    {
     "data": {
      "text/html": [
       "<div>\n",
       "<style scoped>\n",
       "    .dataframe tbody tr th:only-of-type {\n",
       "        vertical-align: middle;\n",
       "    }\n",
       "\n",
       "    .dataframe tbody tr th {\n",
       "        vertical-align: top;\n",
       "    }\n",
       "\n",
       "    .dataframe thead th {\n",
       "        text-align: right;\n",
       "    }\n",
       "</style>\n",
       "<table border=\"1\" class=\"dataframe\">\n",
       "  <thead>\n",
       "    <tr style=\"text-align: right;\">\n",
       "      <th></th>\n",
       "      <th>Summons Number</th>\n",
       "      <th>Plate ID</th>\n",
       "      <th>Registration State</th>\n",
       "      <th>Plate Type</th>\n",
       "      <th>Issue Date</th>\n",
       "      <th>Violation Code</th>\n",
       "      <th>Vehicle Body Type</th>\n",
       "      <th>Vehicle Make</th>\n",
       "      <th>Issuing Agency</th>\n",
       "      <th>Street Code1</th>\n",
       "      <th>...</th>\n",
       "      <th>Vehicle Color</th>\n",
       "      <th>Unregistered Vehicle?</th>\n",
       "      <th>Vehicle Year</th>\n",
       "      <th>Meter Number</th>\n",
       "      <th>Feet From Curb</th>\n",
       "      <th>Violation Post Code</th>\n",
       "      <th>Violation Description</th>\n",
       "      <th>No Standing or Stopping Violation</th>\n",
       "      <th>Hydrant Violation</th>\n",
       "      <th>Double Parking Violation</th>\n",
       "    </tr>\n",
       "  </thead>\n",
       "  <tbody>\n",
       "    <tr>\n",
       "      <th>0</th>\n",
       "      <td>1477633194</td>\n",
       "      <td>J58JKX</td>\n",
       "      <td>NJ</td>\n",
       "      <td>PAS</td>\n",
       "      <td>05/08/1972 12:00:00 AM</td>\n",
       "      <td>16</td>\n",
       "      <td>SDN</td>\n",
       "      <td>HONDA</td>\n",
       "      <td>P</td>\n",
       "      <td>8730</td>\n",
       "      <td>...</td>\n",
       "      <td>BK</td>\n",
       "      <td>0.0</td>\n",
       "      <td>0</td>\n",
       "      <td>-</td>\n",
       "      <td>0</td>\n",
       "      <td>None</td>\n",
       "      <td>None</td>\n",
       "      <td>NaN</td>\n",
       "      <td>NaN</td>\n",
       "      <td>NaN</td>\n",
       "    </tr>\n",
       "    <tr>\n",
       "      <th>1</th>\n",
       "      <td>1449715424</td>\n",
       "      <td>KRE6058</td>\n",
       "      <td>PA</td>\n",
       "      <td>PAS</td>\n",
       "      <td>08/29/1977 12:00:00 AM</td>\n",
       "      <td>98</td>\n",
       "      <td>SUBN</td>\n",
       "      <td>ME/BE</td>\n",
       "      <td>P</td>\n",
       "      <td>86530</td>\n",
       "      <td>...</td>\n",
       "      <td>BLK</td>\n",
       "      <td>0.0</td>\n",
       "      <td>0</td>\n",
       "      <td>-</td>\n",
       "      <td>0</td>\n",
       "      <td>None</td>\n",
       "      <td>None</td>\n",
       "      <td>NaN</td>\n",
       "      <td>NaN</td>\n",
       "      <td>NaN</td>\n",
       "    </tr>\n",
       "    <tr>\n",
       "      <th>2</th>\n",
       "      <td>1455779155</td>\n",
       "      <td>444326R</td>\n",
       "      <td>NJ</td>\n",
       "      <td>PAS</td>\n",
       "      <td>10/03/1988 12:00:00 AM</td>\n",
       "      <td>20</td>\n",
       "      <td>SDN</td>\n",
       "      <td>LEXUS</td>\n",
       "      <td>P</td>\n",
       "      <td>27030</td>\n",
       "      <td>...</td>\n",
       "      <td>BLACK</td>\n",
       "      <td>0.0</td>\n",
       "      <td>0</td>\n",
       "      <td>-</td>\n",
       "      <td>0</td>\n",
       "      <td>None</td>\n",
       "      <td>None</td>\n",
       "      <td>NaN</td>\n",
       "      <td>NaN</td>\n",
       "      <td>NaN</td>\n",
       "    </tr>\n",
       "    <tr>\n",
       "      <th>3</th>\n",
       "      <td>1458800908</td>\n",
       "      <td>F728330</td>\n",
       "      <td>OH</td>\n",
       "      <td>PAS</td>\n",
       "      <td>01/03/1990 12:00:00 AM</td>\n",
       "      <td>21</td>\n",
       "      <td>SDN</td>\n",
       "      <td>CHEVR</td>\n",
       "      <td>P</td>\n",
       "      <td>33030</td>\n",
       "      <td>...</td>\n",
       "      <td>None</td>\n",
       "      <td>0.0</td>\n",
       "      <td>0</td>\n",
       "      <td>-</td>\n",
       "      <td>0</td>\n",
       "      <td>None</td>\n",
       "      <td>None</td>\n",
       "      <td>NaN</td>\n",
       "      <td>NaN</td>\n",
       "      <td>NaN</td>\n",
       "    </tr>\n",
       "    <tr>\n",
       "      <th>4</th>\n",
       "      <td>1466038676</td>\n",
       "      <td>FMY9090</td>\n",
       "      <td>NY</td>\n",
       "      <td>PAS</td>\n",
       "      <td>02/14/1990 12:00:00 AM</td>\n",
       "      <td>21</td>\n",
       "      <td>SUBN</td>\n",
       "      <td>JEEP</td>\n",
       "      <td>S</td>\n",
       "      <td>45130</td>\n",
       "      <td>...</td>\n",
       "      <td>GREY</td>\n",
       "      <td>0.0</td>\n",
       "      <td>2015</td>\n",
       "      <td>-</td>\n",
       "      <td>0</td>\n",
       "      <td>None</td>\n",
       "      <td>None</td>\n",
       "      <td>NaN</td>\n",
       "      <td>NaN</td>\n",
       "      <td>NaN</td>\n",
       "    </tr>\n",
       "  </tbody>\n",
       "</table>\n",
       "<p>5 rows × 43 columns</p>\n",
       "</div>"
      ],
      "text/plain": [
       "   Summons Number Plate ID Registration State Plate Type  \\\n",
       "0      1477633194   J58JKX                 NJ        PAS   \n",
       "1      1449715424  KRE6058                 PA        PAS   \n",
       "2      1455779155  444326R                 NJ        PAS   \n",
       "3      1458800908  F728330                 OH        PAS   \n",
       "4      1466038676  FMY9090                 NY        PAS   \n",
       "\n",
       "               Issue Date  Violation Code Vehicle Body Type Vehicle Make  \\\n",
       "0  05/08/1972 12:00:00 AM              16               SDN        HONDA   \n",
       "1  08/29/1977 12:00:00 AM              98              SUBN        ME/BE   \n",
       "2  10/03/1988 12:00:00 AM              20               SDN        LEXUS   \n",
       "3  01/03/1990 12:00:00 AM              21               SDN        CHEVR   \n",
       "4  02/14/1990 12:00:00 AM              21              SUBN         JEEP   \n",
       "\n",
       "  Issuing Agency  Street Code1  ...  Vehicle Color  Unregistered Vehicle?  \\\n",
       "0              P          8730  ...             BK                    0.0   \n",
       "1              P         86530  ...            BLK                    0.0   \n",
       "2              P         27030  ...          BLACK                    0.0   \n",
       "3              P         33030  ...           None                    0.0   \n",
       "4              S         45130  ...           GREY                    0.0   \n",
       "\n",
       "   Vehicle Year  Meter Number  Feet From Curb  Violation Post Code  \\\n",
       "0             0             -               0                 None   \n",
       "1             0             -               0                 None   \n",
       "2             0             -               0                 None   \n",
       "3             0             -               0                 None   \n",
       "4          2015             -               0                 None   \n",
       "\n",
       "   Violation Description No Standing or Stopping Violation Hydrant Violation  \\\n",
       "0                   None                               NaN               NaN   \n",
       "1                   None                               NaN               NaN   \n",
       "2                   None                               NaN               NaN   \n",
       "3                   None                               NaN               NaN   \n",
       "4                   None                               NaN               NaN   \n",
       "\n",
       "  Double Parking Violation  \n",
       "0                      NaN  \n",
       "1                      NaN  \n",
       "2                      NaN  \n",
       "3                      NaN  \n",
       "4                      NaN  \n",
       "\n",
       "[5 rows x 43 columns]"
      ]
     },
     "execution_count": 5,
     "metadata": {},
     "output_type": "execute_result"
    }
   ],
   "source": [
    "df.head()"
   ]
  },
  {
   "cell_type": "code",
   "execution_count": 7,
   "id": "fe9e88d1-1d90-4933-a30c-6acadf9eaa9c",
   "metadata": {},
   "outputs": [
    {
     "name": "stdout",
     "output_type": "stream",
     "text": [
      "3.51 s ± 19.4 ms per loop (mean ± std. dev. of 7 runs, 1 loop each)\n"
     ]
    }
   ],
   "source": [
    "%%timeit\n",
    "\n",
    "# I want to find:\n",
    "# - cars from New York\n",
    "# - red cars\n",
    "# - Toyotas\n",
    "\n",
    "(\n",
    "    df\n",
    "    .loc[lambda df_: df_['Registration State'] == 'NY']\n",
    "    .loc[lambda df_: df_['Vehicle Color'] == 'RED']\n",
    "    .loc[lambda df_: df_['Vehicle Make'] == 'TOYOT']\n",
    ")"
   ]
  },
  {
   "cell_type": "code",
   "execution_count": 8,
   "id": "dfd45809-65c3-4232-a037-84b5d4c5109c",
   "metadata": {},
   "outputs": [
    {
     "name": "stdout",
     "output_type": "stream",
     "text": [
      "598 ms ± 3.55 ms per loop (mean ± std. dev. of 7 runs, 1 loop each)\n"
     ]
    }
   ],
   "source": [
    "%%timeit\n",
    "\n",
    "# I want to find:\n",
    "# - cars from New York\n",
    "# - red cars\n",
    "# - Toyotas\n",
    "\n",
    "(\n",
    "    df\n",
    "    .loc[lambda df_: df_['Vehicle Color'] == 'RED']\n",
    "    .loc[lambda df_: df_['Vehicle Make'] == 'TOYOT']\n",
    "    .loc[lambda df_: df_['Registration State'] == 'NY']\n",
    ")"
   ]
  },
  {
   "cell_type": "code",
   "execution_count": 9,
   "id": "c00d49f9-13d0-4e1b-b03f-4feca42666c6",
   "metadata": {},
   "outputs": [
    {
     "name": "stdout",
     "output_type": "stream",
     "text": [
      "924 ms ± 3.4 ms per loop (mean ± std. dev. of 7 runs, 1 loop each)\n"
     ]
    }
   ],
   "source": [
    "%%timeit\n",
    "\n",
    "# I want to find:\n",
    "# - cars from New York\n",
    "# - red cars\n",
    "# - Toyotas\n",
    "\n",
    "(\n",
    "    df\n",
    "    .loc[lambda df_: df_['Vehicle Make'] == 'TOYOT']\n",
    "    .loc[lambda df_: df_['Vehicle Color'] == 'RED']\n",
    "    .loc[lambda df_: df_['Registration State'] == 'NY']\n",
    ")"
   ]
  },
  {
   "cell_type": "code",
   "execution_count": null,
   "id": "2816af13-3b70-4e59-83bd-55d593e9957f",
   "metadata": {},
   "outputs": [],
   "source": []
  }
 ],
 "metadata": {
  "kernelspec": {
   "display_name": "Python 3 (ipykernel)",
   "language": "python",
   "name": "python3"
  },
  "language_info": {
   "codemirror_mode": {
    "name": "ipython",
    "version": 3
   },
   "file_extension": ".py",
   "mimetype": "text/x-python",
   "name": "python",
   "nbconvert_exporter": "python",
   "pygments_lexer": "ipython3",
   "version": "3.13.2"
  }
 },
 "nbformat": 4,
 "nbformat_minor": 5
}
