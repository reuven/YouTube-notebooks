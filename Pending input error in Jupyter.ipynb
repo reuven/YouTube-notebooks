{
 "cells": [
  {
   "cell_type": "code",
   "execution_count": 3,
   "id": "109d6b9c-d610-4e5d-a935-4e9b48ddf996",
   "metadata": {},
   "outputs": [
    {
     "name": "stdout",
     "output_type": "stream",
     "text": [
      "Hello, world again again!\n"
     ]
    }
   ],
   "source": [
    "print('Hello, world again again!')"
   ]
  },
  {
   "cell_type": "markdown",
   "id": "10756ec0-7b92-4b05-b141-3ecc32194f63",
   "metadata": {},
   "source": [
    "# Title\n",
    "\n",
    "This a bunch of *very* important things for you to do **today**:\n",
    "\n",
    "1. First\n",
    "2. Second\n",
    "3. Third\n",
    "    - Sub-item a\n",
    "    - sub-item b"
   ]
  },
  {
   "cell_type": "code",
   "execution_count": 5,
   "id": "73c98832-ae23-4a03-9e0c-cd0d7c841ed7",
   "metadata": {},
   "outputs": [
    {
     "name": "stdin",
     "output_type": "stream",
     "text": [
      "Enter your name:  Reuven\n"
     ]
    },
    {
     "name": "stdout",
     "output_type": "stream",
     "text": [
      "Hello, Reuven!\n"
     ]
    }
   ],
   "source": [
    "name = input('Enter your name: ').strip()\n",
    "print(f'Hello, {name}!')"
   ]
  },
  {
   "cell_type": "code",
   "execution_count": null,
   "id": "939768fd-2fa9-4420-bb46-4e3cd7865c66",
   "metadata": {},
   "outputs": [],
   "source": []
  }
 ],
 "metadata": {
  "kernelspec": {
   "display_name": "Python 3 (ipykernel)",
   "language": "python",
   "name": "python3"
  },
  "language_info": {
   "codemirror_mode": {
    "name": "ipython",
    "version": 3
   },
   "file_extension": ".py",
   "mimetype": "text/x-python",
   "name": "python",
   "nbconvert_exporter": "python",
   "pygments_lexer": "ipython3",
   "version": "3.13.2"
  }
 },
 "nbformat": 4,
 "nbformat_minor": 5
}
