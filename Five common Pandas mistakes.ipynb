{
 "cells": [
  {
   "cell_type": "code",
   "execution_count": 1,
   "id": "f48df2b5-d8b0-4474-a190-fb8574e43a18",
   "metadata": {},
   "outputs": [],
   "source": [
    "import pandas as pd"
   ]
  },
  {
   "cell_type": "code",
   "execution_count": 2,
   "id": "8f9aea7d-6e9a-410a-a6c2-a8e60f7f7f5e",
   "metadata": {},
   "outputs": [],
   "source": [
    "df = pd.read_csv('taxi.csv')"
   ]
  },
  {
   "cell_type": "code",
   "execution_count": 3,
   "id": "81740632-9510-45b5-8526-0191d7a70623",
   "metadata": {},
   "outputs": [
    {
     "data": {
      "text/html": [
       "<div>\n",
       "<style scoped>\n",
       "    .dataframe tbody tr th:only-of-type {\n",
       "        vertical-align: middle;\n",
       "    }\n",
       "\n",
       "    .dataframe tbody tr th {\n",
       "        vertical-align: top;\n",
       "    }\n",
       "\n",
       "    .dataframe thead th {\n",
       "        text-align: right;\n",
       "    }\n",
       "</style>\n",
       "<table border=\"1\" class=\"dataframe\">\n",
       "  <thead>\n",
       "    <tr style=\"text-align: right;\">\n",
       "      <th></th>\n",
       "      <th>VendorID</th>\n",
       "      <th>tpep_pickup_datetime</th>\n",
       "      <th>tpep_dropoff_datetime</th>\n",
       "      <th>passenger_count</th>\n",
       "      <th>trip_distance</th>\n",
       "      <th>pickup_longitude</th>\n",
       "      <th>pickup_latitude</th>\n",
       "      <th>RateCodeID</th>\n",
       "      <th>store_and_fwd_flag</th>\n",
       "      <th>dropoff_longitude</th>\n",
       "      <th>dropoff_latitude</th>\n",
       "      <th>payment_type</th>\n",
       "      <th>fare_amount</th>\n",
       "      <th>extra</th>\n",
       "      <th>mta_tax</th>\n",
       "      <th>tip_amount</th>\n",
       "      <th>tolls_amount</th>\n",
       "      <th>improvement_surcharge</th>\n",
       "      <th>total_amount</th>\n",
       "    </tr>\n",
       "  </thead>\n",
       "  <tbody>\n",
       "    <tr>\n",
       "      <th>0</th>\n",
       "      <td>2</td>\n",
       "      <td>2015-06-02 11:19:29</td>\n",
       "      <td>2015-06-02 11:47:52</td>\n",
       "      <td>1</td>\n",
       "      <td>1.63</td>\n",
       "      <td>-73.954430</td>\n",
       "      <td>40.764141</td>\n",
       "      <td>1</td>\n",
       "      <td>N</td>\n",
       "      <td>-73.974754</td>\n",
       "      <td>40.754093</td>\n",
       "      <td>2</td>\n",
       "      <td>17.0</td>\n",
       "      <td>0.0</td>\n",
       "      <td>0.5</td>\n",
       "      <td>0.00</td>\n",
       "      <td>0.0</td>\n",
       "      <td>0.3</td>\n",
       "      <td>17.80</td>\n",
       "    </tr>\n",
       "    <tr>\n",
       "      <th>1</th>\n",
       "      <td>2</td>\n",
       "      <td>2015-06-02 11:19:30</td>\n",
       "      <td>2015-06-02 11:27:56</td>\n",
       "      <td>1</td>\n",
       "      <td>0.46</td>\n",
       "      <td>-73.971443</td>\n",
       "      <td>40.758942</td>\n",
       "      <td>1</td>\n",
       "      <td>N</td>\n",
       "      <td>-73.978539</td>\n",
       "      <td>40.761909</td>\n",
       "      <td>1</td>\n",
       "      <td>6.5</td>\n",
       "      <td>0.0</td>\n",
       "      <td>0.5</td>\n",
       "      <td>1.00</td>\n",
       "      <td>0.0</td>\n",
       "      <td>0.3</td>\n",
       "      <td>8.30</td>\n",
       "    </tr>\n",
       "    <tr>\n",
       "      <th>2</th>\n",
       "      <td>2</td>\n",
       "      <td>2015-06-02 11:19:31</td>\n",
       "      <td>2015-06-02 11:30:30</td>\n",
       "      <td>1</td>\n",
       "      <td>0.87</td>\n",
       "      <td>-73.978111</td>\n",
       "      <td>40.738434</td>\n",
       "      <td>1</td>\n",
       "      <td>N</td>\n",
       "      <td>-73.990273</td>\n",
       "      <td>40.745438</td>\n",
       "      <td>1</td>\n",
       "      <td>8.0</td>\n",
       "      <td>0.0</td>\n",
       "      <td>0.5</td>\n",
       "      <td>2.20</td>\n",
       "      <td>0.0</td>\n",
       "      <td>0.3</td>\n",
       "      <td>11.00</td>\n",
       "    </tr>\n",
       "    <tr>\n",
       "      <th>3</th>\n",
       "      <td>2</td>\n",
       "      <td>2015-06-02 11:19:31</td>\n",
       "      <td>2015-06-02 11:39:02</td>\n",
       "      <td>1</td>\n",
       "      <td>2.13</td>\n",
       "      <td>-73.945892</td>\n",
       "      <td>40.773529</td>\n",
       "      <td>1</td>\n",
       "      <td>N</td>\n",
       "      <td>-73.971527</td>\n",
       "      <td>40.760330</td>\n",
       "      <td>1</td>\n",
       "      <td>13.5</td>\n",
       "      <td>0.0</td>\n",
       "      <td>0.5</td>\n",
       "      <td>2.86</td>\n",
       "      <td>0.0</td>\n",
       "      <td>0.3</td>\n",
       "      <td>17.16</td>\n",
       "    </tr>\n",
       "    <tr>\n",
       "      <th>4</th>\n",
       "      <td>1</td>\n",
       "      <td>2015-06-02 11:19:32</td>\n",
       "      <td>2015-06-02 11:32:49</td>\n",
       "      <td>1</td>\n",
       "      <td>1.40</td>\n",
       "      <td>-73.979088</td>\n",
       "      <td>40.776772</td>\n",
       "      <td>1</td>\n",
       "      <td>N</td>\n",
       "      <td>-73.982162</td>\n",
       "      <td>40.758999</td>\n",
       "      <td>2</td>\n",
       "      <td>9.5</td>\n",
       "      <td>0.0</td>\n",
       "      <td>0.5</td>\n",
       "      <td>0.00</td>\n",
       "      <td>0.0</td>\n",
       "      <td>0.3</td>\n",
       "      <td>10.30</td>\n",
       "    </tr>\n",
       "  </tbody>\n",
       "</table>\n",
       "</div>"
      ],
      "text/plain": [
       "   VendorID tpep_pickup_datetime tpep_dropoff_datetime  passenger_count  \\\n",
       "0         2  2015-06-02 11:19:29   2015-06-02 11:47:52                1   \n",
       "1         2  2015-06-02 11:19:30   2015-06-02 11:27:56                1   \n",
       "2         2  2015-06-02 11:19:31   2015-06-02 11:30:30                1   \n",
       "3         2  2015-06-02 11:19:31   2015-06-02 11:39:02                1   \n",
       "4         1  2015-06-02 11:19:32   2015-06-02 11:32:49                1   \n",
       "\n",
       "   trip_distance  pickup_longitude  pickup_latitude  RateCodeID  \\\n",
       "0           1.63        -73.954430        40.764141           1   \n",
       "1           0.46        -73.971443        40.758942           1   \n",
       "2           0.87        -73.978111        40.738434           1   \n",
       "3           2.13        -73.945892        40.773529           1   \n",
       "4           1.40        -73.979088        40.776772           1   \n",
       "\n",
       "  store_and_fwd_flag  dropoff_longitude  dropoff_latitude  payment_type  \\\n",
       "0                  N         -73.974754         40.754093             2   \n",
       "1                  N         -73.978539         40.761909             1   \n",
       "2                  N         -73.990273         40.745438             1   \n",
       "3                  N         -73.971527         40.760330             1   \n",
       "4                  N         -73.982162         40.758999             2   \n",
       "\n",
       "   fare_amount  extra  mta_tax  tip_amount  tolls_amount  \\\n",
       "0         17.0    0.0      0.5        0.00           0.0   \n",
       "1          6.5    0.0      0.5        1.00           0.0   \n",
       "2          8.0    0.0      0.5        2.20           0.0   \n",
       "3         13.5    0.0      0.5        2.86           0.0   \n",
       "4          9.5    0.0      0.5        0.00           0.0   \n",
       "\n",
       "   improvement_surcharge  total_amount  \n",
       "0                    0.3         17.80  \n",
       "1                    0.3          8.30  \n",
       "2                    0.3         11.00  \n",
       "3                    0.3         17.16  \n",
       "4                    0.3         10.30  "
      ]
     },
     "execution_count": 3,
     "metadata": {},
     "output_type": "execute_result"
    }
   ],
   "source": [
    "df.head()"
   ]
  },
  {
   "cell_type": "markdown",
   "id": "2c1b59dd-50ba-49bd-b92e-1e24e8d371e1",
   "metadata": {},
   "source": [
    "# 1. Chained indexing for retrieval"
   ]
  },
  {
   "cell_type": "code",
   "execution_count": 6,
   "id": "06f75ac8-6ba2-4212-9672-bafdc3633d1f",
   "metadata": {},
   "outputs": [
    {
     "name": "stdout",
     "output_type": "stream",
     "text": [
      "25.9 μs ± 202 ns per loop (mean ± std. dev. of 7 runs, 10,000 loops each)\n"
     ]
    }
   ],
   "source": [
    "%timeit df.loc[4]['trip_distance']"
   ]
  },
  {
   "cell_type": "code",
   "execution_count": 7,
   "id": "fba996bf-0aaf-4b77-b1e7-0928cc6a8bfb",
   "metadata": {},
   "outputs": [
    {
     "name": "stdout",
     "output_type": "stream",
     "text": [
      "29.9 μs ± 229 ns per loop (mean ± std. dev. of 7 runs, 10,000 loops each)\n"
     ]
    }
   ],
   "source": [
    "%timeit df.loc[4].loc['trip_distance']"
   ]
  },
  {
   "cell_type": "code",
   "execution_count": 9,
   "id": "f34d7680-0c7c-45a5-9e21-e411f5eb0106",
   "metadata": {},
   "outputs": [
    {
     "name": "stdout",
     "output_type": "stream",
     "text": [
      "5.4 μs ± 16 ns per loop (mean ± std. dev. of 7 runs, 100,000 loops each)\n"
     ]
    }
   ],
   "source": [
    "%timeit df.loc[4, 'trip_distance']"
   ]
  },
  {
   "cell_type": "markdown",
   "id": "3284548c-9a0e-48f3-91b5-56e6b38ae514",
   "metadata": {},
   "source": [
    "# 2. Chained indexing for assignment\n",
    "\n"
   ]
  },
  {
   "cell_type": "code",
   "execution_count": 10,
   "id": "f05ad944-8d9b-4aa4-b24e-701416a608ae",
   "metadata": {},
   "outputs": [
    {
     "name": "stderr",
     "output_type": "stream",
     "text": [
      "/var/folders/rr/0mnyyv811fs5vyp22gf4fxk00000gn/T/ipykernel_76913/2855573213.py:1: SettingWithCopyWarning: \n",
      "A value is trying to be set on a copy of a slice from a DataFrame\n",
      "\n",
      "See the caveats in the documentation: https://pandas.pydata.org/pandas-docs/stable/user_guide/indexing.html#returning-a-view-versus-a-copy\n",
      "  df.loc[4]['trip_distance'] = 20\n"
     ]
    }
   ],
   "source": [
    "df.loc[4]['trip_distance'] = 20"
   ]
  },
  {
   "cell_type": "code",
   "execution_count": 11,
   "id": "ca82d9a4-7a17-4026-ba48-400041d37861",
   "metadata": {},
   "outputs": [],
   "source": [
    "df.loc[4, 'trip_distance'] = 20"
   ]
  },
  {
   "cell_type": "markdown",
   "id": "50c2bd3b-a630-49f7-8691-8f128ff6f73e",
   "metadata": {},
   "source": [
    "# 3. Ignoring dtypes\n",
    "\n"
   ]
  },
  {
   "cell_type": "code",
   "execution_count": 12,
   "id": "3560a539-3ab9-4246-8c55-cda878cafd12",
   "metadata": {},
   "outputs": [
    {
     "data": {
      "text/plain": [
       "VendorID                   int64\n",
       "tpep_pickup_datetime      object\n",
       "tpep_dropoff_datetime     object\n",
       "passenger_count            int64\n",
       "trip_distance            float64\n",
       "pickup_longitude         float64\n",
       "pickup_latitude          float64\n",
       "RateCodeID                 int64\n",
       "store_and_fwd_flag        object\n",
       "dropoff_longitude        float64\n",
       "dropoff_latitude         float64\n",
       "payment_type               int64\n",
       "fare_amount              float64\n",
       "extra                    float64\n",
       "mta_tax                  float64\n",
       "tip_amount               float64\n",
       "tolls_amount             float64\n",
       "improvement_surcharge    float64\n",
       "total_amount             float64\n",
       "dtype: object"
      ]
     },
     "execution_count": 12,
     "metadata": {},
     "output_type": "execute_result"
    }
   ],
   "source": [
    "df.dtypes"
   ]
  },
  {
   "cell_type": "code",
   "execution_count": 13,
   "id": "ac1932d5-83a6-465e-8c79-27ce211f64a5",
   "metadata": {},
   "outputs": [
    {
     "name": "stdout",
     "output_type": "stream",
     "text": [
      "<class 'pandas.core.frame.DataFrame'>\n",
      "RangeIndex: 9999 entries, 0 to 9998\n",
      "Data columns (total 19 columns):\n",
      " #   Column                 Non-Null Count  Dtype  \n",
      "---  ------                 --------------  -----  \n",
      " 0   VendorID               9999 non-null   int64  \n",
      " 1   tpep_pickup_datetime   9999 non-null   object \n",
      " 2   tpep_dropoff_datetime  9999 non-null   object \n",
      " 3   passenger_count        9999 non-null   int64  \n",
      " 4   trip_distance          9999 non-null   float64\n",
      " 5   pickup_longitude       9999 non-null   float64\n",
      " 6   pickup_latitude        9999 non-null   float64\n",
      " 7   RateCodeID             9999 non-null   int64  \n",
      " 8   store_and_fwd_flag     9999 non-null   object \n",
      " 9   dropoff_longitude      9999 non-null   float64\n",
      " 10  dropoff_latitude       9999 non-null   float64\n",
      " 11  payment_type           9999 non-null   int64  \n",
      " 12  fare_amount            9999 non-null   float64\n",
      " 13  extra                  9999 non-null   float64\n",
      " 14  mta_tax                9999 non-null   float64\n",
      " 15  tip_amount             9999 non-null   float64\n",
      " 16  tolls_amount           9999 non-null   float64\n",
      " 17  improvement_surcharge  9999 non-null   float64\n",
      " 18  total_amount           9999 non-null   float64\n",
      "dtypes: float64(12), int64(4), object(3)\n",
      "memory usage: 3.0 MB\n"
     ]
    }
   ],
   "source": [
    "df.info(memory_usage='deep')"
   ]
  },
  {
   "cell_type": "code",
   "execution_count": 14,
   "id": "4498ee25-815e-4253-a585-d6b3f79c380f",
   "metadata": {},
   "outputs": [],
   "source": [
    "df['VendorID'] = df['VendorID'].astype('int8')\n",
    "df['passenger_count'] = df['passenger_count'].astype('int8')\n",
    "df['trip_distance'] = df['trip_distance'].astype('float16')\n",
    "df['total_amount'] = df['total_amount'].astype('float16')\n"
   ]
  },
  {
   "cell_type": "code",
   "execution_count": 15,
   "id": "9c7b488a-f357-4edc-89d3-e6fcd7f4160d",
   "metadata": {},
   "outputs": [
    {
     "data": {
      "text/plain": [
       "VendorID                    int8\n",
       "tpep_pickup_datetime      object\n",
       "tpep_dropoff_datetime     object\n",
       "passenger_count             int8\n",
       "trip_distance            float16\n",
       "pickup_longitude         float64\n",
       "pickup_latitude          float64\n",
       "RateCodeID                 int64\n",
       "store_and_fwd_flag        object\n",
       "dropoff_longitude        float64\n",
       "dropoff_latitude         float64\n",
       "payment_type               int64\n",
       "fare_amount              float64\n",
       "extra                    float64\n",
       "mta_tax                  float64\n",
       "tip_amount               float64\n",
       "tolls_amount             float64\n",
       "improvement_surcharge    float64\n",
       "total_amount             float16\n",
       "dtype: object"
      ]
     },
     "execution_count": 15,
     "metadata": {},
     "output_type": "execute_result"
    }
   ],
   "source": [
    "df.dtypes"
   ]
  },
  {
   "cell_type": "code",
   "execution_count": 16,
   "id": "8b36b3a8-89de-49aa-90b6-eaed884a3df0",
   "metadata": {},
   "outputs": [
    {
     "name": "stdout",
     "output_type": "stream",
     "text": [
      "<class 'pandas.core.frame.DataFrame'>\n",
      "RangeIndex: 9999 entries, 0 to 9998\n",
      "Data columns (total 19 columns):\n",
      " #   Column                 Non-Null Count  Dtype  \n",
      "---  ------                 --------------  -----  \n",
      " 0   VendorID               9999 non-null   int8   \n",
      " 1   tpep_pickup_datetime   9999 non-null   object \n",
      " 2   tpep_dropoff_datetime  9999 non-null   object \n",
      " 3   passenger_count        9999 non-null   int8   \n",
      " 4   trip_distance          9999 non-null   float16\n",
      " 5   pickup_longitude       9999 non-null   float64\n",
      " 6   pickup_latitude        9999 non-null   float64\n",
      " 7   RateCodeID             9999 non-null   int64  \n",
      " 8   store_and_fwd_flag     9999 non-null   object \n",
      " 9   dropoff_longitude      9999 non-null   float64\n",
      " 10  dropoff_latitude       9999 non-null   float64\n",
      " 11  payment_type           9999 non-null   int64  \n",
      " 12  fare_amount            9999 non-null   float64\n",
      " 13  extra                  9999 non-null   float64\n",
      " 14  mta_tax                9999 non-null   float64\n",
      " 15  tip_amount             9999 non-null   float64\n",
      " 16  tolls_amount           9999 non-null   float64\n",
      " 17  improvement_surcharge  9999 non-null   float64\n",
      " 18  total_amount           9999 non-null   float16\n",
      "dtypes: float16(2), float64(10), int64(2), int8(2), object(3)\n",
      "memory usage: 2.7 MB\n"
     ]
    }
   ],
   "source": [
    "df.info(memory_usage='deep')"
   ]
  },
  {
   "cell_type": "markdown",
   "id": "28b71487-b676-408f-ad05-b016f8fbc3d1",
   "metadata": {},
   "source": [
    "# 4. Overusing `apply`\n",
    "\n"
   ]
  },
  {
   "cell_type": "code",
   "execution_count": 19,
   "id": "8e003e5c-00e4-459c-bd96-0ee862e93947",
   "metadata": {},
   "outputs": [
    {
     "name": "stdout",
     "output_type": "stream",
     "text": [
      "2.57 ms ± 12.4 μs per loop (mean ± std. dev. of 7 runs, 100 loops each)\n"
     ]
    }
   ],
   "source": [
    "%timeit df['passenger_count'].apply(lambda x: x+1)"
   ]
  },
  {
   "cell_type": "code",
   "execution_count": 20,
   "id": "f54257ac-b5e5-40f8-952f-e30d35cfcd32",
   "metadata": {},
   "outputs": [
    {
     "name": "stdout",
     "output_type": "stream",
     "text": [
      "29.4 μs ± 1.21 μs per loop (mean ± std. dev. of 7 runs, 10,000 loops each)\n"
     ]
    }
   ],
   "source": [
    "%timeit df['passenger_count'] + 1"
   ]
  },
  {
   "cell_type": "markdown",
   "id": "14f1f479-1d70-4d68-999a-3ef6ea75ba26",
   "metadata": {},
   "source": [
    "# 5. Using `inplace=True`\n"
   ]
  },
  {
   "cell_type": "code",
   "execution_count": 22,
   "id": "a6c26884-2b1a-44df-829b-3899130b4627",
   "metadata": {},
   "outputs": [
    {
     "name": "stdout",
     "output_type": "stream",
     "text": [
      "301 μs ± 1.18 μs per loop (mean ± std. dev. of 7 runs, 1,000 loops each)\n"
     ]
    }
   ],
   "source": [
    "%timeit df.set_index('tpep_pickup_datetime')"
   ]
  },
  {
   "cell_type": "code",
   "execution_count": 24,
   "id": "47148e40-dbc5-4a94-973f-81eeec79b205",
   "metadata": {},
   "outputs": [],
   "source": [
    "df = pd.read_csv('taxi.csv')"
   ]
  },
  {
   "cell_type": "code",
   "execution_count": 25,
   "id": "fdd02f94-4e36-4ad5-b81c-0e04f4421be6",
   "metadata": {},
   "outputs": [
    {
     "name": "stdout",
     "output_type": "stream",
     "text": [
      "248 μs ± 3.33 μs per loop (mean ± std. dev. of 7 runs, 1,000 loops each)\n"
     ]
    }
   ],
   "source": [
    "%%timeit \n",
    "\n",
    "df.set_index('tpep_pickup_datetime', inplace=True)\n",
    "df.reset_index(inplace=True)"
   ]
  },
  {
   "cell_type": "code",
   "execution_count": null,
   "id": "b2837546-4b6b-4d85-a049-63d2a9e6d402",
   "metadata": {},
   "outputs": [],
   "source": []
  }
 ],
 "metadata": {
  "kernelspec": {
   "display_name": "Python 3 (ipykernel)",
   "language": "python",
   "name": "python3"
  },
  "language_info": {
   "codemirror_mode": {
    "name": "ipython",
    "version": 3
   },
   "file_extension": ".py",
   "mimetype": "text/x-python",
   "name": "python",
   "nbconvert_exporter": "python",
   "pygments_lexer": "ipython3",
   "version": "3.13.2"
  }
 },
 "nbformat": 4,
 "nbformat_minor": 5
}
