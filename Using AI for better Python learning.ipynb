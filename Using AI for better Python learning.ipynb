{
 "cells": [
  {
   "cell_type": "markdown",
   "id": "5e7fb2e3-e258-444f-8a3f-331f96d1a835",
   "metadata": {},
   "source": [
    "# 10 ways that AI chatbots can help you to learn Python better"
   ]
  },
  {
   "cell_type": "markdown",
   "id": "818f508b-2e3b-4ebc-ae7d-975259b81062",
   "metadata": {},
   "source": [
    "# 1. Strategy session\n",
    "\n",
    "Before you start coding, come up with a plan. Run that plan by the AI chatbot."
   ]
  },
  {
   "cell_type": "markdown",
   "id": "f79aa55f-bfbe-4ffc-98a7-958ef666b16d",
   "metadata": {},
   "source": [
    "# 2. Teaching back\n",
    "\n",
    "Show some code to the chatbot, and explain what the code does."
   ]
  },
  {
   "cell_type": "markdown",
   "id": "363155f1-4e7a-4320-8b56-86b53245c93e",
   "metadata": {},
   "source": [
    "# 3. Specify and compare\n",
    "\n",
    "I solve a problem that I got in class, using a specification.\n",
    "\n",
    "I then show the same spec to the chatbot. I compare the chatbot's output with mine."
   ]
  },
  {
   "cell_type": "markdown",
   "id": "b1e06aa5-b7aa-4d06-a9dc-fdd35881412d",
   "metadata": {},
   "source": [
    "# 4. Interview\n",
    "\n",
    "Show the chatbot some working code, and ask it to ask you questions (repeatedly) about what's going on."
   ]
  },
  {
   "cell_type": "markdown",
   "id": "a9855a59-1002-4140-982a-1bd927e8f375",
   "metadata": {},
   "source": [
    "# 5. Add a bug\n",
    "\n",
    "Take some working code, add a bug, and see if the chatbot can find it."
   ]
  },
  {
   "cell_type": "markdown",
   "id": "e9aa247c-cb3c-485f-b6c3-94607f920329",
   "metadata": {},
   "source": [
    "# 6. Find the bug\n",
    "\n",
    "Have the chatbot add a bug, and see if I can find it."
   ]
  },
  {
   "cell_type": "markdown",
   "id": "2a327bbb-ce5e-4444-bbaf-553c522a3d73",
   "metadata": {},
   "source": [
    "# 7. Reverse Socratic method\n",
    "\n",
    "In this method, we ask the chatbot repeated questions to understand a topic better. By asking lots of questions, we ensure that our understanding is better *and* that the chatbot isn't misleading us."
   ]
  },
  {
   "cell_type": "markdown",
   "id": "76f2dbec-1a7e-437d-9afd-90a3ee59764d",
   "metadata": {},
   "source": [
    "# 8. Rubber duck programming\n",
    "\n",
    "Instead of talking to a rubber duck, talk to the chatbot!"
   ]
  },
  {
   "cell_type": "markdown",
   "id": "008e47eb-c937-46a1-84ac-ea43d46213cf",
   "metadata": {},
   "source": [
    "# 9. Error archaeology\n",
    "\n",
    "I get an error, and paste it into the chatbot. I then try to explain what the problem is, and see if the chatbot agrees."
   ]
  },
  {
   "cell_type": "code",
   "execution_count": 2,
   "id": "4963dacc-cbce-4e2e-9299-c00550d4e96c",
   "metadata": {},
   "outputs": [
    {
     "name": "stdin",
     "output_type": "stream",
     "text": [
      "Enter a guess:  42\n"
     ]
    },
    {
     "ename": "TypeError",
     "evalue": "'<' not supported between instances of 'str' and 'int'",
     "output_type": "error",
     "traceback": [
      "\u001b[31m---------------------------------------------------------------------------\u001b[39m",
      "\u001b[31mTypeError\u001b[39m                                 Traceback (most recent call last)",
      "\u001b[36mCell\u001b[39m\u001b[36m \u001b[39m\u001b[32mIn[2]\u001b[39m\u001b[32m, line 7\u001b[39m\n\u001b[32m      5\u001b[39m \u001b[38;5;28;01mif\u001b[39;00m guess == number:\n\u001b[32m      6\u001b[39m     \u001b[38;5;28mprint\u001b[39m(\u001b[33m'\u001b[39m\u001b[33mYou got it!\u001b[39m\u001b[33m'\u001b[39m)\n\u001b[32m----> \u001b[39m\u001b[32m7\u001b[39m \u001b[38;5;28;01melif\u001b[39;00m \u001b[43mguess\u001b[49m\u001b[43m \u001b[49m\u001b[43m<\u001b[49m\u001b[43m \u001b[49m\u001b[43mnumber\u001b[49m:\n\u001b[32m      8\u001b[39m     \u001b[38;5;28mprint\u001b[39m(\u001b[33m'\u001b[39m\u001b[33mToo low!\u001b[39m\u001b[33m'\u001b[39m)\n\u001b[32m      9\u001b[39m \u001b[38;5;28;01melse\u001b[39;00m:\n",
      "\u001b[31mTypeError\u001b[39m: '<' not supported between instances of 'str' and 'int'"
     ]
    }
   ],
   "source": [
    "number = 42\n",
    "\n",
    "guess = input('Enter a guess: ').strip()\n",
    "\n",
    "if guess == number:\n",
    "    print('You got it!')\n",
    "elif guess < number:\n",
    "    print('Too low!')\n",
    "else:\n",
    "    print('Too high!')"
   ]
  },
  {
   "cell_type": "markdown",
   "id": "be10df42-9106-4045-b9eb-586be0cc04e5",
   "metadata": {},
   "source": [
    "# 10. Code review\n",
    "\n",
    "Once you're done solving a problem, especially in class, have the chatbot review your code as if it were a senior engineer."
   ]
  },
  {
   "cell_type": "code",
   "execution_count": null,
   "id": "2061db7e-1512-4e75-8102-c4417e647bbb",
   "metadata": {},
   "outputs": [],
   "source": []
  }
 ],
 "metadata": {
  "kernelspec": {
   "display_name": "Python 3 (ipykernel)",
   "language": "python",
   "name": "python3"
  },
  "language_info": {
   "codemirror_mode": {
    "name": "ipython",
    "version": 3
   },
   "file_extension": ".py",
   "mimetype": "text/x-python",
   "name": "python",
   "nbconvert_exporter": "python",
   "pygments_lexer": "ipython3",
   "version": "3.13.2"
  }
 },
 "nbformat": 4,
 "nbformat_minor": 5
}
