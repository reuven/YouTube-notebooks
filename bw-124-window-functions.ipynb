{
 "cells": [
  {
   "cell_type": "code",
   "execution_count": 3,
   "id": "5ed4e1b2-ebd1-46ac-b4bb-c0a8c901733b",
   "metadata": {},
   "outputs": [],
   "source": [
    "filename = '/Users/reuven/BambooWeekly/notebooks/data/240617-def-exp-2024-TABLES-en.xlsx'"
   ]
  },
  {
   "cell_type": "markdown",
   "id": "1f4722ae-9666-4110-a412-e6e1b02b079c",
   "metadata": {},
   "source": [
    "1. Read the \"defence expenditure\" data from \"table 2\" into a Pandas data frame. (We want the first table on that sheet, with current prices and exchange rates.) Which five countries have increased their NATO spending most, as a percentage, in the latest budget cycle (from 2023-2024)? Which increased most since 2014, when the data was first tracked?\n",
    "2. The United States spends more on defense than any other NATO country, with Germany and the UK in the 2nd and  3rd position. Find how much the US spent (estimated) in 2024. Then see how many other NATO countries' defense spending, starting with Germany and the UK and continuing from largest to smallest, would be needed to match US defense spending. That is, if we'd like to say that \"the US spends as much as the n next-largest contributors, combined,\" what is n?\n"
   ]
  },
  {
   "cell_type": "code",
   "execution_count": 2,
   "id": "eb7bffc5-f9ac-4548-bee7-d9907195bcc7",
   "metadata": {},
   "outputs": [],
   "source": [
    "import pandas as pd"
   ]
  },
  {
   "cell_type": "code",
   "execution_count": 17,
   "id": "b1453181-6d3c-44ff-9e1f-1117fbd0b940",
   "metadata": {},
   "outputs": [
    {
     "data": {
      "text/plain": [
       "(31, 11)"
      ]
     },
     "execution_count": 17,
     "metadata": {},
     "output_type": "execute_result"
    }
   ],
   "source": [
    "df = (\n",
    "    pd\n",
    "    .read_excel(filename,\n",
    "                sheet_name='TABLE2',\n",
    "                header=7,\n",
    "                nrows=33)\n",
    "    .drop(columns=['Unnamed: 0', 'Unnamed: 1'])\n",
    "    .set_index('Unnamed: 2')\n",
    "    .iloc[2:]\n",
    ")\n",
    "\n",
    "df.shape"
   ]
  },
  {
   "cell_type": "code",
   "execution_count": 18,
   "id": "dc46bbe0-d377-44db-a809-df451a65ee21",
   "metadata": {},
   "outputs": [
    {
     "data": {
      "text/plain": [
       "2014     float64\n",
       "2015     float64\n",
       "2016     float64\n",
       "2017     float64\n",
       "2018     float64\n",
       "2019     float64\n",
       "2020     float64\n",
       "2021     float64\n",
       "2022     float64\n",
       "2023e    float64\n",
       "2024e    float64\n",
       "dtype: object"
      ]
     },
     "execution_count": 18,
     "metadata": {},
     "output_type": "execute_result"
    }
   ],
   "source": [
    "df.dtypes"
   ]
  },
  {
   "cell_type": "code",
   "execution_count": 19,
   "id": "e6e7fdc9-04a0-4baf-bed3-8d691857a157",
   "metadata": {},
   "outputs": [
    {
     "data": {
      "text/plain": [
       "Unnamed: 2\n",
       "Romania*      0.542354\n",
       "Czechia*      0.506007\n",
       "Montenegro    0.414590\n",
       "Türkiye       0.370916\n",
       "Sweden        0.363539\n",
       "Name: 2024e, dtype: float64"
      ]
     },
     "execution_count": 19,
     "metadata": {},
     "output_type": "execute_result"
    }
   ],
   "source": [
    "# compare 2023-2024 as a percentage\n",
    "# this means comparing the 2023 column with the 2024 column\n",
    "# we can even compare each column with the one to its left\n",
    "\n",
    "(\n",
    "    df\n",
    "    .pct_change(axis='columns')\n",
    "    ['2024e']\n",
    "    .nlargest(5)\n",
    ")"
   ]
  },
  {
   "cell_type": "code",
   "execution_count": 21,
   "id": "03cc818e-9e0d-4760-903e-52c05bab3f95",
   "metadata": {},
   "outputs": [
    {
     "data": {
      "text/plain": [
       "Unnamed: 2\n",
       "Lithuania*    4.378801\n",
       "Latvia*       3.838939\n",
       "Hungary       3.040984\n",
       "Poland*       2.460544\n",
       "Czechia*      2.459855\n",
       "Name: 2024e, dtype: float64"
      ]
     },
     "execution_count": 21,
     "metadata": {},
     "output_type": "execute_result"
    }
   ],
   "source": [
    "# what about comparing 2024 to 2014 (the first year we have)\n",
    "\n",
    "(\n",
    "    df\n",
    "    .pct_change(axis='columns',\n",
    "               periods=len(df.columns)-1)\n",
    "    ['2024e']\n",
    "    .nlargest(5)\n",
    ")"
   ]
  },
  {
   "cell_type": "code",
   "execution_count": 26,
   "id": "6c3fa40e-89ec-4c32-a6ed-bb18034204bd",
   "metadata": {},
   "outputs": [
    {
     "data": {
      "text/plain": [
       "Series([], Name: 2024e, dtype: float64)"
      ]
     },
     "execution_count": 26,
     "metadata": {},
     "output_type": "execute_result"
    }
   ],
   "source": [
    "# The US spends more on defense than any other NATO country. Germany the UK come next.\n",
    "# The US spends as much as the next n countries in NATO on defense. What is n?\n",
    "\n",
    "# expanding window -- on sum\n",
    "\n",
    "us_spending = df.loc['United States', '2024e']\n",
    "\n",
    "(\n",
    "    df\n",
    "    ['2024e']\n",
    "    .sort_values(ascending=False)\n",
    "    .iloc[1:]\n",
    "    .expanding().sum()\n",
    "    .loc[lambda s_: s_ >= us_spending]\n",
    ")"
   ]
  },
  {
   "cell_type": "code",
   "execution_count": null,
   "id": "bae66fd6-2768-4011-9722-83f8572303ba",
   "metadata": {},
   "outputs": [],
   "source": []
  }
 ],
 "metadata": {
  "kernelspec": {
   "display_name": "Python 3 (ipykernel)",
   "language": "python",
   "name": "python3"
  },
  "language_info": {
   "codemirror_mode": {
    "name": "ipython",
    "version": 3
   },
   "file_extension": ".py",
   "mimetype": "text/x-python",
   "name": "python",
   "nbconvert_exporter": "python",
   "pygments_lexer": "ipython3",
   "version": "3.13.2"
  }
 },
 "nbformat": 4,
 "nbformat_minor": 5
}
