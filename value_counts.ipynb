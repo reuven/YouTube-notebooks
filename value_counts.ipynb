{
 "cells": [
  {
   "cell_type": "code",
   "execution_count": 2,
   "id": "57481bfa-f8d2-4f75-bd0b-23366e36651e",
   "metadata": {},
   "outputs": [],
   "source": [
    "filename = '/Users/reuven/Courses/Current/Data/nyc-parking-violations-2020.csv'"
   ]
  },
  {
   "cell_type": "code",
   "execution_count": 3,
   "id": "a5aed2c8-e521-4a12-9c58-fb72cb783644",
   "metadata": {},
   "outputs": [],
   "source": [
    "import pandas as pd"
   ]
  },
  {
   "cell_type": "code",
   "execution_count": 4,
   "id": "548cf97e-4926-47f3-95f0-730cdd6d0158",
   "metadata": {},
   "outputs": [],
   "source": [
    "df = pd.read_csv(filename, engine='pyarrow')"
   ]
  },
  {
   "cell_type": "code",
   "execution_count": 5,
   "id": "b0889684-1fd6-4e62-8545-cad93d3a0a18",
   "metadata": {},
   "outputs": [
    {
     "data": {
      "text/plain": [
       "(12495734, 43)"
      ]
     },
     "execution_count": 5,
     "metadata": {},
     "output_type": "execute_result"
    }
   ],
   "source": [
    "df.shape"
   ]
  },
  {
   "cell_type": "code",
   "execution_count": 6,
   "id": "3ec78d5a-1ab6-4c1c-8643-34815a70dc57",
   "metadata": {},
   "outputs": [
    {
     "data": {
      "text/html": [
       "<div>\n",
       "<style scoped>\n",
       "    .dataframe tbody tr th:only-of-type {\n",
       "        vertical-align: middle;\n",
       "    }\n",
       "\n",
       "    .dataframe tbody tr th {\n",
       "        vertical-align: top;\n",
       "    }\n",
       "\n",
       "    .dataframe thead th {\n",
       "        text-align: right;\n",
       "    }\n",
       "</style>\n",
       "<table border=\"1\" class=\"dataframe\">\n",
       "  <thead>\n",
       "    <tr style=\"text-align: right;\">\n",
       "      <th></th>\n",
       "      <th>Summons Number</th>\n",
       "      <th>Plate ID</th>\n",
       "      <th>Registration State</th>\n",
       "      <th>Plate Type</th>\n",
       "      <th>Issue Date</th>\n",
       "      <th>Violation Code</th>\n",
       "      <th>Vehicle Body Type</th>\n",
       "      <th>Vehicle Make</th>\n",
       "      <th>Issuing Agency</th>\n",
       "      <th>Street Code1</th>\n",
       "      <th>...</th>\n",
       "      <th>Vehicle Color</th>\n",
       "      <th>Unregistered Vehicle?</th>\n",
       "      <th>Vehicle Year</th>\n",
       "      <th>Meter Number</th>\n",
       "      <th>Feet From Curb</th>\n",
       "      <th>Violation Post Code</th>\n",
       "      <th>Violation Description</th>\n",
       "      <th>No Standing or Stopping Violation</th>\n",
       "      <th>Hydrant Violation</th>\n",
       "      <th>Double Parking Violation</th>\n",
       "    </tr>\n",
       "  </thead>\n",
       "  <tbody>\n",
       "    <tr>\n",
       "      <th>0</th>\n",
       "      <td>1477633194</td>\n",
       "      <td>J58JKX</td>\n",
       "      <td>NJ</td>\n",
       "      <td>PAS</td>\n",
       "      <td>05/08/1972 12:00:00 AM</td>\n",
       "      <td>16</td>\n",
       "      <td>SDN</td>\n",
       "      <td>HONDA</td>\n",
       "      <td>P</td>\n",
       "      <td>8730</td>\n",
       "      <td>...</td>\n",
       "      <td>BK</td>\n",
       "      <td>0.0</td>\n",
       "      <td>0</td>\n",
       "      <td>-</td>\n",
       "      <td>0</td>\n",
       "      <td>None</td>\n",
       "      <td>None</td>\n",
       "      <td>NaN</td>\n",
       "      <td>NaN</td>\n",
       "      <td>NaN</td>\n",
       "    </tr>\n",
       "    <tr>\n",
       "      <th>1</th>\n",
       "      <td>1449715424</td>\n",
       "      <td>KRE6058</td>\n",
       "      <td>PA</td>\n",
       "      <td>PAS</td>\n",
       "      <td>08/29/1977 12:00:00 AM</td>\n",
       "      <td>98</td>\n",
       "      <td>SUBN</td>\n",
       "      <td>ME/BE</td>\n",
       "      <td>P</td>\n",
       "      <td>86530</td>\n",
       "      <td>...</td>\n",
       "      <td>BLK</td>\n",
       "      <td>0.0</td>\n",
       "      <td>0</td>\n",
       "      <td>-</td>\n",
       "      <td>0</td>\n",
       "      <td>None</td>\n",
       "      <td>None</td>\n",
       "      <td>NaN</td>\n",
       "      <td>NaN</td>\n",
       "      <td>NaN</td>\n",
       "    </tr>\n",
       "    <tr>\n",
       "      <th>2</th>\n",
       "      <td>1455779155</td>\n",
       "      <td>444326R</td>\n",
       "      <td>NJ</td>\n",
       "      <td>PAS</td>\n",
       "      <td>10/03/1988 12:00:00 AM</td>\n",
       "      <td>20</td>\n",
       "      <td>SDN</td>\n",
       "      <td>LEXUS</td>\n",
       "      <td>P</td>\n",
       "      <td>27030</td>\n",
       "      <td>...</td>\n",
       "      <td>BLACK</td>\n",
       "      <td>0.0</td>\n",
       "      <td>0</td>\n",
       "      <td>-</td>\n",
       "      <td>0</td>\n",
       "      <td>None</td>\n",
       "      <td>None</td>\n",
       "      <td>NaN</td>\n",
       "      <td>NaN</td>\n",
       "      <td>NaN</td>\n",
       "    </tr>\n",
       "    <tr>\n",
       "      <th>3</th>\n",
       "      <td>1458800908</td>\n",
       "      <td>F728330</td>\n",
       "      <td>OH</td>\n",
       "      <td>PAS</td>\n",
       "      <td>01/03/1990 12:00:00 AM</td>\n",
       "      <td>21</td>\n",
       "      <td>SDN</td>\n",
       "      <td>CHEVR</td>\n",
       "      <td>P</td>\n",
       "      <td>33030</td>\n",
       "      <td>...</td>\n",
       "      <td>None</td>\n",
       "      <td>0.0</td>\n",
       "      <td>0</td>\n",
       "      <td>-</td>\n",
       "      <td>0</td>\n",
       "      <td>None</td>\n",
       "      <td>None</td>\n",
       "      <td>NaN</td>\n",
       "      <td>NaN</td>\n",
       "      <td>NaN</td>\n",
       "    </tr>\n",
       "    <tr>\n",
       "      <th>4</th>\n",
       "      <td>1466038676</td>\n",
       "      <td>FMY9090</td>\n",
       "      <td>NY</td>\n",
       "      <td>PAS</td>\n",
       "      <td>02/14/1990 12:00:00 AM</td>\n",
       "      <td>21</td>\n",
       "      <td>SUBN</td>\n",
       "      <td>JEEP</td>\n",
       "      <td>S</td>\n",
       "      <td>45130</td>\n",
       "      <td>...</td>\n",
       "      <td>GREY</td>\n",
       "      <td>0.0</td>\n",
       "      <td>2015</td>\n",
       "      <td>-</td>\n",
       "      <td>0</td>\n",
       "      <td>None</td>\n",
       "      <td>None</td>\n",
       "      <td>NaN</td>\n",
       "      <td>NaN</td>\n",
       "      <td>NaN</td>\n",
       "    </tr>\n",
       "  </tbody>\n",
       "</table>\n",
       "<p>5 rows × 43 columns</p>\n",
       "</div>"
      ],
      "text/plain": [
       "   Summons Number Plate ID Registration State Plate Type  \\\n",
       "0      1477633194   J58JKX                 NJ        PAS   \n",
       "1      1449715424  KRE6058                 PA        PAS   \n",
       "2      1455779155  444326R                 NJ        PAS   \n",
       "3      1458800908  F728330                 OH        PAS   \n",
       "4      1466038676  FMY9090                 NY        PAS   \n",
       "\n",
       "               Issue Date  Violation Code Vehicle Body Type Vehicle Make  \\\n",
       "0  05/08/1972 12:00:00 AM              16               SDN        HONDA   \n",
       "1  08/29/1977 12:00:00 AM              98              SUBN        ME/BE   \n",
       "2  10/03/1988 12:00:00 AM              20               SDN        LEXUS   \n",
       "3  01/03/1990 12:00:00 AM              21               SDN        CHEVR   \n",
       "4  02/14/1990 12:00:00 AM              21              SUBN         JEEP   \n",
       "\n",
       "  Issuing Agency  Street Code1  ...  Vehicle Color  Unregistered Vehicle?  \\\n",
       "0              P          8730  ...             BK                    0.0   \n",
       "1              P         86530  ...            BLK                    0.0   \n",
       "2              P         27030  ...          BLACK                    0.0   \n",
       "3              P         33030  ...           None                    0.0   \n",
       "4              S         45130  ...           GREY                    0.0   \n",
       "\n",
       "   Vehicle Year  Meter Number  Feet From Curb  Violation Post Code  \\\n",
       "0             0             -               0                 None   \n",
       "1             0             -               0                 None   \n",
       "2             0             -               0                 None   \n",
       "3             0             -               0                 None   \n",
       "4          2015             -               0                 None   \n",
       "\n",
       "   Violation Description No Standing or Stopping Violation Hydrant Violation  \\\n",
       "0                   None                               NaN               NaN   \n",
       "1                   None                               NaN               NaN   \n",
       "2                   None                               NaN               NaN   \n",
       "3                   None                               NaN               NaN   \n",
       "4                   None                               NaN               NaN   \n",
       "\n",
       "  Double Parking Violation  \n",
       "0                      NaN  \n",
       "1                      NaN  \n",
       "2                      NaN  \n",
       "3                      NaN  \n",
       "4                      NaN  \n",
       "\n",
       "[5 rows x 43 columns]"
      ]
     },
     "execution_count": 6,
     "metadata": {},
     "output_type": "execute_result"
    }
   ],
   "source": [
    "df.head()"
   ]
  },
  {
   "cell_type": "code",
   "execution_count": 7,
   "id": "d9068627-b0e5-4304-a8ad-1cc9bb5a9914",
   "metadata": {},
   "outputs": [
    {
     "data": {
      "text/plain": [
       "Vehicle Make\n",
       "TOYOT    1395273\n",
       "HONDA    1343265\n",
       "FORD     1328063\n",
       "NISSA    1119587\n",
       "CHEVR     711464\n",
       "          ...   \n",
       "BEAVE          1\n",
       "NELSO          1\n",
       "HOWBY          1\n",
       "BONEE          1\n",
       "KIA (          1\n",
       "Name: count, Length: 5210, dtype: int64"
      ]
     },
     "execution_count": 7,
     "metadata": {},
     "output_type": "execute_result"
    }
   ],
   "source": [
    "# how often did each vehicle make get ticketed?\n",
    "# means: take each unique value in Vehcle Make, and count the number of times it appears\n",
    "\n",
    "# value_counts\n",
    "\n",
    "df['Vehicle Make'].value_counts()"
   ]
  },
  {
   "cell_type": "code",
   "execution_count": 8,
   "id": "cadfa093-a028-4c12-8263-341dc3487c1d",
   "metadata": {},
   "outputs": [
    {
     "data": {
      "text/plain": [
       "Vehicle Make\n",
       "TOYOT    1395273\n",
       "HONDA    1343265\n",
       "FORD     1328063\n",
       "NISSA    1119587\n",
       "CHEVR     711464\n",
       "FRUEH     530846\n",
       "ME/BE     530473\n",
       "JEEP      490977\n",
       "BMW       488545\n",
       "DODGE     462646\n",
       "Name: count, dtype: int64"
      ]
     },
     "execution_count": 8,
     "metadata": {},
     "output_type": "execute_result"
    }
   ],
   "source": [
    "df['Vehicle Make'].value_counts().head(10)"
   ]
  },
  {
   "cell_type": "code",
   "execution_count": 10,
   "id": "a45fe1ac-2af4-4d9c-b7f8-f7536b79ad78",
   "metadata": {},
   "outputs": [
    {
     "data": {
      "text/plain": [
       "Vehicle Make\n",
       "TOYOT    0.112221\n",
       "HONDA    0.108038\n",
       "FORD     0.106815\n",
       "NISSA    0.090047\n",
       "CHEVR    0.057222\n",
       "FRUEH    0.042695\n",
       "ME/BE    0.042665\n",
       "JEEP     0.039489\n",
       "BMW      0.039293\n",
       "DODGE    0.037210\n",
       "Name: proportion, dtype: float64"
      ]
     },
     "execution_count": 10,
     "metadata": {},
     "output_type": "execute_result"
    }
   ],
   "source": [
    "# what percentage of the tickets were given to each vehicle make?\n",
    "\n",
    "df['Vehicle Make'].value_counts(normalize=True).head(10)"
   ]
  },
  {
   "cell_type": "code",
   "execution_count": 11,
   "id": "52971eff-580a-4bf5-ae40-b0c4e9b9fe30",
   "metadata": {},
   "outputs": [
    {
     "name": "stdout",
     "output_type": "stream",
     "text": [
      "408 ms ± 4.1 ms per loop (mean ± std. dev. of 7 runs, 1 loop each)\n"
     ]
    }
   ],
   "source": [
    "%timeit df['Vehicle Make'].value_counts().head(10)"
   ]
  },
  {
   "cell_type": "code",
   "execution_count": 12,
   "id": "74b73a1f-0a6a-43c4-8a88-753a0c05b0f8",
   "metadata": {},
   "outputs": [
    {
     "data": {
      "text/plain": [
       "[('TOYOT', 1395273),\n",
       " ('HONDA', 1343265),\n",
       " ('FORD', 1328063),\n",
       " ('NISSA', 1119587),\n",
       " ('CHEVR', 711464),\n",
       " ('FRUEH', 530846),\n",
       " ('ME/BE', 530473),\n",
       " ('JEEP', 490977),\n",
       " ('BMW', 488545),\n",
       " ('DODGE', 462646)]"
      ]
     },
     "execution_count": 12,
     "metadata": {},
     "output_type": "execute_result"
    }
   ],
   "source": [
    "from collections import Counter\n",
    "\n",
    "Counter(df['Vehicle Make']).most_common(10)"
   ]
  },
  {
   "cell_type": "code",
   "execution_count": 13,
   "id": "27f60da6-b635-467c-a367-a50a1ce68f15",
   "metadata": {},
   "outputs": [
    {
     "name": "stdout",
     "output_type": "stream",
     "text": [
      "1.32 s ± 9.08 ms per loop (mean ± std. dev. of 7 runs, 1 loop each)\n"
     ]
    }
   ],
   "source": [
    "%timeit Counter(df['Vehicle Make']).most_common(10)"
   ]
  },
  {
   "cell_type": "code",
   "execution_count": 14,
   "id": "8d7d4bae-6ca3-489c-a45c-c14a075606cc",
   "metadata": {},
   "outputs": [
    {
     "data": {
      "text/plain": [
       "0.3090909090909091"
      ]
     },
     "execution_count": 14,
     "metadata": {},
     "output_type": "execute_result"
    }
   ],
   "source": [
    "408 / 1320"
   ]
  },
  {
   "cell_type": "code",
   "execution_count": null,
   "id": "c0383e76-86c9-4727-9e5a-f7ceb48ac6d1",
   "metadata": {},
   "outputs": [],
   "source": []
  }
 ],
 "metadata": {
  "kernelspec": {
   "display_name": "Python 3 (ipykernel)",
   "language": "python",
   "name": "python3"
  },
  "language_info": {
   "codemirror_mode": {
    "name": "ipython",
    "version": 3
   },
   "file_extension": ".py",
   "mimetype": "text/x-python",
   "name": "python",
   "nbconvert_exporter": "python",
   "pygments_lexer": "ipython3",
   "version": "3.13.2"
  }
 },
 "nbformat": 4,
 "nbformat_minor": 5
}
