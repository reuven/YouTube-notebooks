{
 "cells": [
  {
   "cell_type": "code",
   "execution_count": 1,
   "id": "f4993f9f-93cb-4072-a7c9-36d24da16fbe",
   "metadata": {},
   "outputs": [],
   "source": [
    "def myfunc():\n",
    "    x = 0\n",
    "    y = 0\n",
    "    z = 0"
   ]
  },
  {
   "cell_type": "code",
   "execution_count": 2,
   "id": "786ac238-720e-4276-b8ef-8093062e029d",
   "metadata": {},
   "outputs": [],
   "source": [
    "import dis"
   ]
  },
  {
   "cell_type": "code",
   "execution_count": 3,
   "id": "5e6eae29-a06d-4258-8839-ffc90a6275bb",
   "metadata": {},
   "outputs": [
    {
     "name": "stdout",
     "output_type": "stream",
     "text": [
      "  1           RESUME                   0\n",
      "\n",
      "  2           LOAD_CONST               1 (0)\n",
      "              STORE_FAST               0 (x)\n",
      "\n",
      "  3           LOAD_CONST               1 (0)\n",
      "              STORE_FAST               1 (y)\n",
      "\n",
      "  4           LOAD_CONST               1 (0)\n",
      "              STORE_FAST               2 (z)\n",
      "              RETURN_CONST             0 (None)\n"
     ]
    }
   ],
   "source": [
    "dis.dis(myfunc)"
   ]
  },
  {
   "cell_type": "code",
   "execution_count": 4,
   "id": "d0d629db-f3ac-46f1-bb59-9b11f5f953ec",
   "metadata": {},
   "outputs": [],
   "source": [
    "def myfunc():\n",
    "    x = y = z = 0"
   ]
  },
  {
   "cell_type": "code",
   "execution_count": 5,
   "id": "d4df041e-29b6-4eb4-9fa3-aedf64a73525",
   "metadata": {},
   "outputs": [
    {
     "name": "stdout",
     "output_type": "stream",
     "text": [
      "  1           RESUME                   0\n",
      "\n",
      "  2           LOAD_CONST               1 (0)\n",
      "              COPY                     1\n",
      "              STORE_FAST               0 (x)\n",
      "              COPY                     1\n",
      "              STORE_FAST_STORE_FAST   18 (y, z)\n",
      "              RETURN_CONST             0 (None)\n"
     ]
    }
   ],
   "source": [
    "dis.dis(myfunc)"
   ]
  },
  {
   "cell_type": "code",
   "execution_count": 8,
   "id": "1aaa7b81-9a48-46b8-b037-1078973b5bd2",
   "metadata": {},
   "outputs": [],
   "source": [
    "def myfunc():\n",
    "    x = []\n",
    "    y = []\n",
    "    z = []\n",
    "    print(x is y)\n",
    "    print(y is z)"
   ]
  },
  {
   "cell_type": "code",
   "execution_count": 9,
   "id": "0054c66d-a838-4c5e-bb55-0e9ff0d775ed",
   "metadata": {},
   "outputs": [
    {
     "name": "stdout",
     "output_type": "stream",
     "text": [
      "  1           RESUME                   0\n",
      "\n",
      "  2           BUILD_LIST               0\n",
      "              STORE_FAST               0 (x)\n",
      "\n",
      "  3           BUILD_LIST               0\n",
      "              STORE_FAST               1 (y)\n",
      "\n",
      "  4           BUILD_LIST               0\n",
      "              STORE_FAST               2 (z)\n",
      "\n",
      "  5           LOAD_GLOBAL              1 (print + NULL)\n",
      "              LOAD_FAST_LOAD_FAST      1 (x, y)\n",
      "              IS_OP                    0\n",
      "              CALL                     1\n",
      "              POP_TOP\n",
      "\n",
      "  6           LOAD_GLOBAL              1 (print + NULL)\n",
      "              LOAD_FAST_LOAD_FAST     18 (y, z)\n",
      "              IS_OP                    0\n",
      "              CALL                     1\n",
      "              POP_TOP\n",
      "              RETURN_CONST             0 (None)\n"
     ]
    }
   ],
   "source": [
    "dis.dis(myfunc)"
   ]
  },
  {
   "cell_type": "code",
   "execution_count": 10,
   "id": "bb1d232c-29dd-421c-9fe7-324bcb98625c",
   "metadata": {},
   "outputs": [
    {
     "name": "stdout",
     "output_type": "stream",
     "text": [
      "False\n",
      "False\n"
     ]
    }
   ],
   "source": [
    "myfunc()"
   ]
  },
  {
   "cell_type": "code",
   "execution_count": 12,
   "id": "fbef166f-6984-470d-8b71-6fbe91ebe527",
   "metadata": {},
   "outputs": [],
   "source": [
    "def myfunc():\n",
    "    x = y = z = []\n"
   ]
  },
  {
   "cell_type": "code",
   "execution_count": 13,
   "id": "9f3c2fec-0f4f-477a-89f6-8cb8eb7eec0b",
   "metadata": {},
   "outputs": [
    {
     "name": "stdout",
     "output_type": "stream",
     "text": [
      "  1           RESUME                   0\n",
      "\n",
      "  2           BUILD_LIST               0\n",
      "              COPY                     1\n",
      "              STORE_FAST               0 (x)\n",
      "              COPY                     1\n",
      "              STORE_FAST_STORE_FAST   18 (y, z)\n",
      "              RETURN_CONST             0 (None)\n"
     ]
    }
   ],
   "source": [
    "dis.dis(myfunc)"
   ]
  },
  {
   "cell_type": "code",
   "execution_count": 14,
   "id": "2f05a73f-cd58-49fa-aabc-b08a2d9c8976",
   "metadata": {},
   "outputs": [],
   "source": [
    "def myfunc():\n",
    "    x = y = z = []\n",
    "    print(x is y)\n",
    "    print(y is z)"
   ]
  },
  {
   "cell_type": "code",
   "execution_count": 15,
   "id": "4983a03d-2495-47d0-8a7a-3e06947e977a",
   "metadata": {},
   "outputs": [
    {
     "name": "stdout",
     "output_type": "stream",
     "text": [
      "True\n",
      "True\n"
     ]
    }
   ],
   "source": [
    "myfunc()"
   ]
  },
  {
   "cell_type": "code",
   "execution_count": 16,
   "id": "920d57ef-a5f2-47b6-bd76-9a67526d8d95",
   "metadata": {},
   "outputs": [],
   "source": [
    "def myfunc():\n",
    "    x = y = z = []\n",
    "    x.append(10)\n",
    "    y.append(20)\n",
    "    z.append(30)\n",
    "    print(x)\n",
    "    print(y)\n",
    "    print(z)"
   ]
  },
  {
   "cell_type": "code",
   "execution_count": 17,
   "id": "0ca7abdf-45b8-4548-a368-5e6e948b4be4",
   "metadata": {},
   "outputs": [
    {
     "name": "stdout",
     "output_type": "stream",
     "text": [
      "[10, 20, 30]\n",
      "[10, 20, 30]\n",
      "[10, 20, 30]\n"
     ]
    }
   ],
   "source": [
    "myfunc()"
   ]
  },
  {
   "cell_type": "code",
   "execution_count": null,
   "id": "a63f7349-6466-46e2-8ccd-f442895b7930",
   "metadata": {},
   "outputs": [],
   "source": []
  }
 ],
 "metadata": {
  "kernelspec": {
   "display_name": "Python 3 (ipykernel)",
   "language": "python",
   "name": "python3"
  },
  "language_info": {
   "codemirror_mode": {
    "name": "ipython",
    "version": 3
   },
   "file_extension": ".py",
   "mimetype": "text/x-python",
   "name": "python",
   "nbconvert_exporter": "python",
   "pygments_lexer": "ipython3",
   "version": "3.13.5"
  }
 },
 "nbformat": 4,
 "nbformat_minor": 5
}
